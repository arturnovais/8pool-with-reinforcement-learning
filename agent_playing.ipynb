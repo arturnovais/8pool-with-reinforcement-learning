{
 "cells": [
  {
   "cell_type": "code",
   "execution_count": 1,
   "metadata": {},
   "outputs": [
    {
     "name": "stdout",
     "output_type": "stream",
     "text": [
      "pygame 2.6.1 (SDL 2.28.4, Python 3.11.9)\n",
      "Hello from the pygame community. https://www.pygame.org/contribute.html\n"
     ]
    }
   ],
   "source": [
    "from game import GAME\n",
    "import torch\n",
    "\n",
    "#import gymnasium as gym\n",
    "#from stable_baselines3 import PPO\n",
    "#from stable_baselines3.common.env_checker import check_env\n",
    "#from stable_baselines3.common.vec_env import DummyVecEnv\n",
    "\n",
    "import numpy as np\n",
    "import random\n",
    "import torch\n",
    "import torch.nn as nn\n",
    "import torch.optim as optim\n",
    "from collections import deque\n",
    "\n",
    "import numpy as np"
   ]
  },
  {
   "cell_type": "code",
   "execution_count": 2,
   "metadata": {},
   "outputs": [],
   "source": [
    "env = GAME(draw=True)  \n",
    "observations = env.reset()"
   ]
  },
  {
   "cell_type": "code",
   "execution_count": 3,
   "metadata": {},
   "outputs": [],
   "source": [
    "def rewards_function(information):\n",
    "    colisoes = information['colisoes']\n",
    "    bolas_caidas = information['bolas_caidas']\n",
    "    perdeu = information['perdeu']\n",
    "    ganhou = information['ganhou']\n",
    "    joga_novamente = information['joga_novamente']\n",
    "    bolas_jogador = information.get('bolas_jogador', [])\n",
    "    bolas_adversario = information.get('bolas_adversario', [])\n",
    "    winner = information.get('winner', None)\n",
    "    penalizado = information.get('penalizado', False)\n",
    "\n",
    "    rewards = 0\n",
    "\n",
    "    if joga_novamente:\n",
    "        rewards += 1\n",
    "\n",
    "    if perdeu:\n",
    "        rewards -= 1.5\n",
    "\n",
    "    if ganhou:\n",
    "        rewards += 1.5\n",
    "\n",
    "    if penalizado:\n",
    "        rewards -= 1\n",
    "\n",
    "    return rewards"
   ]
  },
  {
   "cell_type": "code",
   "execution_count": 4,
   "metadata": {},
   "outputs": [],
   "source": [
    "class DQN(nn.Module):\n",
    "    def __init__(self, state_size, action_size):\n",
    "        super(DQN, self).__init__()\n",
    "        \n",
    "        # Convolução para os dados de posição (x, y)\n",
    "        self.conv_position = nn.Conv1d(\n",
    "            in_channels=1, out_channels=16, kernel_size=2, stride=2\n",
    "        )\n",
    "        \n",
    "        # Convolução para os dados de estado (se é do adversário e se está na mesa)\n",
    "        self.conv_state = nn.Conv1d(\n",
    "            in_channels=1, out_channels=16, kernel_size=2, stride=2\n",
    "        )\n",
    "        \n",
    "        # Fully connected layers\n",
    "        self.fc1 = nn.Linear(482, 128)  # Ajustar com base nas características concatenadas\n",
    "        self.fc2 = nn.Linear(128, 128)\n",
    "        self.fc3 = nn.Linear(128, action_size)\n",
    "\n",
    "    def forward(self, x):\n",
    "        # Garantir que o tensor de entrada seja do tamanho correto\n",
    "        assert x.numel() == 62, f\"Expected input of size 62, got {x.numel()} elements.\"\n",
    "\n",
    "        # Separar dados de posição e estado\n",
    "        position_data = x[0:60].reshape(-1, 4)[:, 0:2].reshape(1, 1, -1)  # Extrai (x, y) pares consecutivos\n",
    "        state_data = x[0:60].reshape(-1, 4)[:, 2:4].reshape(1, 1, -1)  # Extrai (adversário, na mesa)\n",
    "        white_ball_data = x[60:62]  # Dados da bola branca (x, y)\n",
    "\n",
    "        # Aplicar convoluções\n",
    "        position_features = torch.relu(self.conv_position(position_data))\n",
    "        state_features = torch.relu(self.conv_state(state_data))\n",
    "\n",
    "        # Flatten convoluções\n",
    "        position_features = position_features.view(-1)  # Achatar\n",
    "        state_features = state_features.view(-1)        # Achatar\n",
    "        \n",
    "        \n",
    "        #print(f'Position features shape: {position_features.shape}')\n",
    "        #print(f'State features shape: {state_features.shape}')\n",
    "\n",
    "        # Concatenar características das convoluções e dados da bola branca\n",
    "        combined_features = torch.cat([position_features, state_features, white_ball_data], dim=0)\n",
    "        \n",
    "        #print(f'Combined features shape: {combined_features.shape}')\n",
    "\n",
    "        # Passar pelas fully connected layers\n",
    "        x = torch.relu(self.fc1(combined_features))\n",
    "        x = torch.relu(self.fc2(x))\n",
    "        x = self.fc3(x)\n",
    "        return x\n"
   ]
  },
  {
   "cell_type": "code",
   "execution_count": 5,
   "metadata": {},
   "outputs": [],
   "source": [
    "class DQNAgent:\n",
    "    def __init__(self, state_size, action_size):\n",
    "        self.state_size = state_size\n",
    "        self.action_size = action_size\n",
    "        self.memory = deque(maxlen=2000)\n",
    "        self.gamma = 0.99  # Fator de desconto\n",
    "        self.epsilon = 1.0  # Taxa de exploração\n",
    "        self.epsilon_min = 0.01\n",
    "        self.epsilon_decay = 0.995\n",
    "        self.learning_rate = 0.001\n",
    "        self.batch_size = 64\n",
    "\n",
    "        self.model = DQN(state_size, action_size)\n",
    "        self.optimizer = optim.Adam(self.model.parameters(), lr=self.learning_rate)\n",
    "        self.criterion = nn.MSELoss()\n",
    "\n",
    "    def remember(self, state, action, reward, next_state, done):\n",
    "        self.memory.append((state, action, reward, next_state, done))\n",
    "\n",
    "    def act(self, state):\n",
    "        if np.random.rand() <= self.epsilon:\n",
    "            # Exploração: escolher valores aleatórios dentro do intervalo permitido\n",
    "            angle = np.random.uniform(0, 360)  # Ângulo contínuo entre 0° e 360°\n",
    "            intensity = np.random.uniform(0, 1)  # Intensidade contínua entre 0 e 1\n",
    "            #print(f\"Explorando: Ângulo={angle:.2f}, Intensidade={intensity:.2f}\")\n",
    "            return np.array([angle, intensity])\n",
    "            \n",
    "        else:\n",
    "            # Exploração: usar a política aprendida\n",
    "            state = torch.FloatTensor(state)\n",
    "            q_values = self.model(state)\n",
    "            action = q_values.detach().numpy()  # Retorna o vetor [ângulo, intensidade]\n",
    "            #print(f\"Explotando: Ângulo={action[0]:.2f}, Intensidade={action[1]:.2f}\")\n",
    "            return action\n",
    "\n",
    "\n",
    "\n",
    "    def replay(self):\n",
    "        if len(self.memory) < self.batch_size:\n",
    "            return\n",
    "\n",
    "        minibatch = random.sample(self.memory, self.batch_size)\n",
    "        for state, action, reward, next_state, done in minibatch:\n",
    "            target = reward\n",
    "            if not done:\n",
    "                next_state = torch.FloatTensor(next_state).unsqueeze(0)\n",
    "                target += self.gamma * torch.max(self.model(next_state).detach())\n",
    "\n",
    "            state = torch.FloatTensor(state).unsqueeze(0)\n",
    "            target_f = self.model(state)\n",
    "\n",
    "            # Calculando a perda diretamente\n",
    "            loss = self.criterion(target_f, torch.FloatTensor(action))  # Compara saída contínua com ação\n",
    "            self.optimizer.zero_grad()\n",
    "            loss.backward()\n",
    "            self.optimizer.step()\n",
    "\n",
    "        if self.epsilon > self.epsilon_min:\n",
    "            self.epsilon *= self.epsilon_decay\n",
    "\n"
   ]
  },
  {
   "cell_type": "code",
   "execution_count": 6,
   "metadata": {},
   "outputs": [
    {
     "name": "stdout",
     "output_type": "stream",
     "text": [
      "Modelo carregado com sucesso!\n"
     ]
    },
    {
     "name": "stderr",
     "output_type": "stream",
     "text": [
      "C:\\Users\\fazzi\\AppData\\Local\\Temp\\ipykernel_55784\\812917498.py:5: FutureWarning: You are using `torch.load` with `weights_only=False` (the current default value), which uses the default pickle module implicitly. It is possible to construct malicious pickle data which will execute arbitrary code during unpickling (See https://github.com/pytorch/pytorch/blob/main/SECURITY.md#untrusted-models for more details). In a future release, the default value for `weights_only` will be flipped to `True`. This limits the functions that could be executed during unpickling. Arbitrary objects will no longer be allowed to be loaded via this mode unless they are explicitly allowlisted by the user via `torch.serialization.add_safe_globals`. We recommend you start setting `weights_only=True` for any use case where you don't have full control of the loaded file. Please open an issue on GitHub for any issues related to this experimental feature.\n",
      "  checkpoint = torch.load(model_path)\n"
     ]
    }
   ],
   "source": [
    "model_path = \"training/dqn_agent_model6.pth\"\n",
    "\n",
    "agent = DQNAgent(state_size=62, action_size=2)\n",
    "\n",
    "checkpoint = torch.load(model_path)\n",
    "agent.model.load_state_dict(checkpoint['model_state_dict'])\n",
    "agent.optimizer.load_state_dict(checkpoint['optimizer_state_dict'])\n",
    "agent.epsilon = checkpoint['epsilon']  # Restaurar o epsilon atual\n",
    "\n",
    "print(\"Modelo carregado com sucesso!\")"
   ]
  },
  {
   "cell_type": "code",
   "execution_count": 7,
   "metadata": {},
   "outputs": [],
   "source": [
    "agent.epsilon = 0 # Desativar a exploração"
   ]
  },
  {
   "cell_type": "code",
   "execution_count": 11,
   "metadata": {},
   "outputs": [
    {
     "name": "stdout",
     "output_type": "stream",
     "text": [
      "Iniciando jogada True\n",
      "Recompensa da jogada: -1\n",
      "Angulo: 155.70, Intensidade: 0.07\n",
      "Recompensa da jogada: -1\n",
      "Angulo: 159.54, Intensidade: 0.07\n",
      "Recompensa da jogada: -1\n",
      "Angulo: 152.34, Intensidade: 0.08\n",
      "Recompensa da jogada: -1\n",
      "Angulo: 150.10, Intensidade: 0.07\n"
     ]
    },
    {
     "ename": "KeyboardInterrupt",
     "evalue": "",
     "output_type": "error",
     "traceback": [
      "\u001b[1;31m---------------------------------------------------------------------------\u001b[0m",
      "\u001b[1;31mKeyboardInterrupt\u001b[0m                         Traceback (most recent call last)",
      "Cell \u001b[1;32mIn[11], line 49\u001b[0m\n\u001b[0;32m     43\u001b[0m angulo, intensidade \u001b[38;5;241m=\u001b[39m action[\u001b[38;5;241m0\u001b[39m], action[\u001b[38;5;241m1\u001b[39m]\n\u001b[0;32m     45\u001b[0m \u001b[38;5;66;03m#while not env.iniciou_jogada:\u001b[39;00m\n\u001b[0;32m     46\u001b[0m \u001b[38;5;66;03m#    env.table.draw()\u001b[39;00m\n\u001b[1;32m---> 49\u001b[0m obs, information, terminations, rewards \u001b[38;5;241m=\u001b[39m \u001b[43menv\u001b[49m\u001b[38;5;241;43m.\u001b[39;49m\u001b[43mstep\u001b[49m\u001b[43m(\u001b[49m\u001b[43m(\u001b[49m\u001b[43mangulo\u001b[49m\u001b[43m,\u001b[49m\u001b[43m \u001b[49m\u001b[43mintensidade\u001b[49m\u001b[43m)\u001b[49m\u001b[43m,\u001b[49m\n\u001b[0;32m     50\u001b[0m \u001b[43m                                                \u001b[49m\u001b[43mrewards_function\u001b[49m\u001b[38;5;241;43m=\u001b[39;49m\u001b[43mrewards_function\u001b[49m\u001b[43m)\u001b[49m\n\u001b[0;32m     52\u001b[0m \u001b[38;5;28mprint\u001b[39m(\u001b[38;5;124m\"\u001b[39m\u001b[38;5;124mRecompensa da jogada:\u001b[39m\u001b[38;5;124m\"\u001b[39m, rewards)\n\u001b[0;32m     53\u001b[0m \u001b[38;5;28mprint\u001b[39m(\u001b[38;5;124mf\u001b[39m\u001b[38;5;124m'\u001b[39m\u001b[38;5;124mAngulo: \u001b[39m\u001b[38;5;132;01m{\u001b[39;00mangulo\u001b[38;5;132;01m:\u001b[39;00m\u001b[38;5;124m.2f\u001b[39m\u001b[38;5;132;01m}\u001b[39;00m\u001b[38;5;124m, Intensidade: \u001b[39m\u001b[38;5;132;01m{\u001b[39;00mintensidade\u001b[38;5;132;01m:\u001b[39;00m\u001b[38;5;124m.2f\u001b[39m\u001b[38;5;132;01m}\u001b[39;00m\u001b[38;5;124m'\u001b[39m)\n",
      "File \u001b[1;32mc:\\CEIA\\RL\\8pool-with-reinforcement-learning\\game.py:271\u001b[0m, in \u001b[0;36mGAME.step\u001b[1;34m(self, actions, rewards_function)\u001b[0m\n\u001b[0;32m    269\u001b[0m \u001b[38;5;28;01mdef\u001b[39;00m \u001b[38;5;21mstep\u001b[39m(\u001b[38;5;28mself\u001b[39m, actions, rewards_function\u001b[38;5;241m=\u001b[39m\u001b[38;5;28;01mNone\u001b[39;00m):\n\u001b[0;32m    270\u001b[0m     angulo, forca \u001b[38;5;241m=\u001b[39m actions\n\u001b[1;32m--> 271\u001b[0m     informations  \u001b[38;5;241m=\u001b[39m \u001b[38;5;28;43mself\u001b[39;49m\u001b[38;5;241;43m.\u001b[39;49m\u001b[43mtable\u001b[49m\u001b[38;5;241;43m.\u001b[39;49m\u001b[43mstep\u001b[49m\u001b[43m(\u001b[49m\u001b[43mangulo\u001b[49m\u001b[43m,\u001b[49m\u001b[43m \u001b[49m\u001b[43mforca\u001b[49m\u001b[43m)\u001b[49m\n\u001b[0;32m    272\u001b[0m     informations \u001b[38;5;241m=\u001b[39m \u001b[38;5;28mself\u001b[39m\u001b[38;5;241m.\u001b[39mmake_step(informations)\n\u001b[0;32m    274\u001b[0m     terminations \u001b[38;5;241m=\u001b[39m informations\u001b[38;5;241m.\u001b[39mget(\u001b[38;5;124m'\u001b[39m\u001b[38;5;124mperdeu\u001b[39m\u001b[38;5;124m'\u001b[39m, \u001b[38;5;28;01mFalse\u001b[39;00m) \u001b[38;5;129;01mor\u001b[39;00m informations\u001b[38;5;241m.\u001b[39mget(\u001b[38;5;124m'\u001b[39m\u001b[38;5;124mganhou\u001b[39m\u001b[38;5;124m'\u001b[39m, \u001b[38;5;28;01mFalse\u001b[39;00m) \u001b[38;5;129;01mor\u001b[39;00m informations\u001b[38;5;241m.\u001b[39mget(\u001b[38;5;124m'\u001b[39m\u001b[38;5;124mwinner\u001b[39m\u001b[38;5;124m'\u001b[39m, \u001b[38;5;28;01mNone\u001b[39;00m) \u001b[38;5;129;01mis\u001b[39;00m \u001b[38;5;129;01mnot\u001b[39;00m \u001b[38;5;28;01mNone\u001b[39;00m\n",
      "File \u001b[1;32mc:\\CEIA\\RL\\8pool-with-reinforcement-learning\\utils\\Table.py:270\u001b[0m, in \u001b[0;36mTable.step\u001b[1;34m(self, angulo, intensidade)\u001b[0m\n\u001b[0;32m    266\u001b[0m forca \u001b[38;5;241m=\u001b[39m \u001b[38;5;28mself\u001b[39m\u001b[38;5;241m.\u001b[39mtaco\u001b[38;5;241m.\u001b[39mcalcular_forca(intensidade, angulo)\n\u001b[0;32m    268\u001b[0m \u001b[38;5;28mself\u001b[39m\u001b[38;5;241m.\u001b[39mbola_branca\u001b[38;5;241m.\u001b[39maplicar_forca(forca)\n\u001b[1;32m--> 270\u001b[0m \u001b[38;5;28;01mwhile\u001b[39;00m \u001b[38;5;129;01mnot\u001b[39;00m \u001b[38;5;28;43mself\u001b[39;49m\u001b[38;5;241;43m.\u001b[39;49m\u001b[43mexec_physics\u001b[49m\u001b[43m(\u001b[49m\u001b[43m)\u001b[49m:\n\u001b[0;32m    271\u001b[0m     \u001b[38;5;28;01mif\u001b[39;00m \u001b[38;5;28mself\u001b[39m\u001b[38;5;241m.\u001b[39mdraw_game:\n\u001b[0;32m    272\u001b[0m         \u001b[38;5;28mself\u001b[39m\u001b[38;5;241m.\u001b[39mdraw()\n",
      "File \u001b[1;32mc:\\CEIA\\RL\\8pool-with-reinforcement-learning\\utils\\Table.py:155\u001b[0m, in \u001b[0;36mTable.exec_physics\u001b[1;34m(self)\u001b[0m\n\u001b[0;32m    152\u001b[0m bolas_para_remover \u001b[38;5;241m=\u001b[39m []\n\u001b[0;32m    154\u001b[0m \u001b[38;5;28;01mfor\u001b[39;00m bola \u001b[38;5;129;01min\u001b[39;00m \u001b[38;5;28mself\u001b[39m\u001b[38;5;241m.\u001b[39mbolas:\n\u001b[1;32m--> 155\u001b[0m     \u001b[43mbola\u001b[49m\u001b[38;5;241;43m.\u001b[39;49m\u001b[43matualizar_posicao\u001b[49m\u001b[43m(\u001b[49m\u001b[38;5;28;43mself\u001b[39;49m\u001b[38;5;241;43m.\u001b[39;49m\u001b[43mambiente_fisico\u001b[49m\u001b[43m)\u001b[49m\n\u001b[0;32m    156\u001b[0m     \u001b[38;5;28;01mif\u001b[39;00m \u001b[38;5;28mself\u001b[39m\u001b[38;5;241m.\u001b[39mdetectar_buraco(bola):\n\u001b[0;32m    157\u001b[0m         bolas_para_remover\u001b[38;5;241m.\u001b[39mappend(bola)\n",
      "File \u001b[1;32mc:\\CEIA\\RL\\8pool-with-reinforcement-learning\\utils\\Ball.py:78\u001b[0m, in \u001b[0;36mBall.atualizar_posicao\u001b[1;34m(self, ambiente_fisico)\u001b[0m\n\u001b[0;32m     70\u001b[0m \u001b[38;5;28;01mdef\u001b[39;00m \u001b[38;5;21matualizar_posicao\u001b[39m(\u001b[38;5;28mself\u001b[39m, ambiente_fisico: PhysicsEnvironment):\n\u001b[0;32m     71\u001b[0m \u001b[38;5;250m    \u001b[39m\u001b[38;5;124;03m'''\u001b[39;00m\n\u001b[0;32m     72\u001b[0m \u001b[38;5;124;03m    Atualiza a posição da bola levando em consideração a velocidade atual, o atrito e a resistência do ar.\u001b[39;00m\n\u001b[0;32m     73\u001b[0m \u001b[38;5;124;03m    \u001b[39;00m\n\u001b[1;32m   (...)\u001b[0m\n\u001b[0;32m     76\u001b[0m \u001b[38;5;124;03m        ambiente_fisico (PhysicsEnvironment): Ambiente físico que define atrito e resistência.\u001b[39;00m\n\u001b[0;32m     77\u001b[0m \u001b[38;5;124;03m    '''\u001b[39;00m\n\u001b[1;32m---> 78\u001b[0m     \u001b[38;5;28mself\u001b[39m\u001b[38;5;241m.\u001b[39mvelocidade \u001b[38;5;241m=\u001b[39m \u001b[43mambiente_fisico\u001b[49m\u001b[38;5;241;43m.\u001b[39;49m\u001b[43maplicar_atrito\u001b[49m\u001b[43m(\u001b[49m\u001b[38;5;28;43mself\u001b[39;49m\u001b[38;5;241;43m.\u001b[39;49m\u001b[43mvelocidade\u001b[49m\u001b[43m)\u001b[49m\n\u001b[0;32m     79\u001b[0m     \u001b[38;5;28mself\u001b[39m\u001b[38;5;241m.\u001b[39mvelocidade \u001b[38;5;241m=\u001b[39m ambiente_fisico\u001b[38;5;241m.\u001b[39maplicar_resistencia_ar(\u001b[38;5;28mself\u001b[39m\u001b[38;5;241m.\u001b[39mvelocidade)\n\u001b[0;32m     81\u001b[0m     \u001b[38;5;28;01mif\u001b[39;00m \u001b[38;5;28mself\u001b[39m\u001b[38;5;241m.\u001b[39mvelocidade\u001b[38;5;241m.\u001b[39mabs()\u001b[38;5;241m.\u001b[39msum() \u001b[38;5;241m<\u001b[39m \u001b[38;5;241m0.01\u001b[39m:\n",
      "File \u001b[1;32mc:\\CEIA\\RL\\8pool-with-reinforcement-learning\\utils\\PhysicsEnvironment.py:71\u001b[0m, in \u001b[0;36mPhysicsEnvironment.aplicar_atrito\u001b[1;34m(self, velocidade)\u001b[0m\n\u001b[0;32m     68\u001b[0m     friccao_real \u001b[38;5;241m=\u001b[39m \u001b[38;5;28mself\u001b[39m\u001b[38;5;241m.\u001b[39mfriccao_estatica\n\u001b[0;32m     70\u001b[0m \u001b[38;5;66;03m# Limita o atrito para evitar valores inconsistentes\u001b[39;00m\n\u001b[1;32m---> 71\u001b[0m friccao_real \u001b[38;5;241m=\u001b[39m \u001b[43mfriccao_real\u001b[49m\u001b[38;5;241;43m.\u001b[39;49m\u001b[43mclamp\u001b[49m\u001b[43m(\u001b[49m\u001b[38;5;241;43m0.1\u001b[39;49m\u001b[43m,\u001b[49m\u001b[43m \u001b[49m\u001b[38;5;241;43m0.99\u001b[39;49m\u001b[43m)\u001b[49m\n\u001b[0;32m     73\u001b[0m \u001b[38;5;66;03m# Aplica o atrito à velocidade\u001b[39;00m\n\u001b[0;32m     74\u001b[0m \u001b[38;5;28;01mreturn\u001b[39;00m velocidade \u001b[38;5;241m*\u001b[39m friccao_real\n",
      "\u001b[1;31mKeyboardInterrupt\u001b[0m: "
     ]
    }
   ],
   "source": [
    "print(\"Iniciando jogada\", env.jogador_atual)\n",
    "\n",
    "terminations = False \n",
    "is_me = False  \n",
    "#is_me = 1  \n",
    "\n",
    "obs, _ = env.reset()\n",
    "\n",
    "\n",
    "obs, information, terminations, rewards = env.step(\n",
    "            (0, 10), \n",
    "            rewards_function=rewards_function\n",
    "        )\n",
    "\n",
    "\n",
    "while not terminations:\n",
    "    \n",
    "    if is_me:\n",
    "        print(\"\\n--- Seu Turno ---\")\n",
    "        while not env.iniciou_jogada:\n",
    "            env.table.draw()\n",
    "\n",
    "        obs, information, terminations, rewards = env.step(\n",
    "            (env.iniciou_jogada_angulo, env.inicou_jogada_intensidade), \n",
    "            rewards_function=rewards_function\n",
    "        )\n",
    "        env.iniciou_jogada = False\n",
    "\n",
    "        print(\"Recompensa da jogada:\", rewards)\n",
    "        \n",
    "    else:\n",
    "        env.iniciou_jogada = True\n",
    "        \n",
    "        while not env.iniciou_jogada:\n",
    "            env.table.draw()\n",
    "            \n",
    "        obs_main = obs[0].numpy()  # Primeiro tensor (posição das bolas)\n",
    "        obs_aux = obs[1].numpy()  # Segundo tensor (outros dados)\n",
    "        combined_obs = np.concatenate([obs_main.flatten(), obs_aux.flatten()])\n",
    "\n",
    "        action = agent.act(combined_obs)\n",
    "        \n",
    "        angulo, intensidade = action[0], action[1]\n",
    "        \n",
    "        #while not env.iniciou_jogada:\n",
    "        #    env.table.draw()\n",
    "        \n",
    "        \n",
    "        obs, information, terminations, rewards = env.step((angulo, intensidade),\n",
    "                                                        rewards_function=rewards_function)\n",
    "\n",
    "        print(\"Recompensa da jogada:\", rewards)\n",
    "        print(f'Angulo: {angulo:.2f}, Intensidade: {intensidade:.2f}')\n",
    "        \n",
    "    #is_me = not is_me"
   ]
  },
  {
   "cell_type": "code",
   "execution_count": null,
   "metadata": {},
   "outputs": [],
   "source": []
  },
  {
   "cell_type": "code",
   "execution_count": null,
   "metadata": {},
   "outputs": [],
   "source": []
  },
  {
   "cell_type": "code",
   "execution_count": null,
   "metadata": {},
   "outputs": [],
   "source": []
  },
  {
   "cell_type": "code",
   "execution_count": null,
   "metadata": {},
   "outputs": [],
   "source": []
  }
 ],
 "metadata": {
  "kernelspec": {
   "display_name": "Python 3 (ipyflow)",
   "language": "python",
   "name": "ipyflow"
  },
  "language_info": {
   "codemirror_mode": {
    "name": "ipython",
    "version": 3
   },
   "file_extension": ".py",
   "mimetype": "text/x-python",
   "name": "python",
   "nbconvert_exporter": "python",
   "pygments_lexer": "ipython3",
   "version": "3.12.7"
  }
 },
 "nbformat": 4,
 "nbformat_minor": 2
}
