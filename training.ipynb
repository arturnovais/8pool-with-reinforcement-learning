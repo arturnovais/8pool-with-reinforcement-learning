{
 "cells": [
  {
   "cell_type": "markdown",
   "metadata": {},
   "source": [
    "## Imports"
   ]
  },
  {
   "cell_type": "code",
   "execution_count": 1,
   "metadata": {},
   "outputs": [
    {
     "name": "stdout",
     "output_type": "stream",
     "text": [
      "pygame 2.6.1 (SDL 2.28.4, Python 3.12.7)\n",
      "Hello from the pygame community. https://www.pygame.org/contribute.html\n"
     ]
    }
   ],
   "source": [
    "from game import GAME\n",
    "import torch\n",
    "import numpy as np\n",
    "\n",
    "import numpy as np\n",
    "import random\n",
    "import torch\n",
    "import torch.nn as nn\n",
    "import torch.optim as optim\n",
    "from collections import deque\n",
    "import torch\n",
    "import torch.nn as nn\n",
    "import torch.nn.functional as F\n",
    "\n",
    "from dataclasses import dataclass\n",
    "\n",
    "from torch.distributions import Normal\n",
    "from utils import config as cfg\n",
    "\n",
    "\n",
    "from curriculum.reset import reset_random_one_ball\n",
    "from torch.utils.tensorboard import SummaryWriter\n",
    "\n",
    "from models.model_transformers import Model_args, TransformerValueModel, TransformersAtor\n",
    "\n",
    "from models.agent import Agent\n",
    "\n",
    "from collections import defaultdict\n",
    "import matplotlib.pyplot as plt\n",
    "\n",
    "from curriculum.reset import reset_random_one_ball\n",
    "from concurrent.futures import ThreadPoolExecutor\n",
    "\n",
    "import math\n",
    "import utils.config as cfg\n",
    "import torch"
   ]
  },
  {
   "cell_type": "code",
   "execution_count": 2,
   "metadata": {},
   "outputs": [],
   "source": [
    "def rewards_function(information):\n",
    "    colisoes = information['colisoes']\n",
    "    bolas_caidas = information['bolas_caidas']\n",
    "    perdeu = information['perdeu']\n",
    "    ganhou = information['ganhou']\n",
    "    joga_novamente = information['joga_novamente']\n",
    "    bolas_jogador = information.get('bolas_jogador', [])\n",
    "    bolas_adversario = information.get('bolas_adversario', [])\n",
    "    winner = information.get('winner', None)\n",
    "    penalizado = information.get('penalizado', False)\n",
    "\n",
    "    rewards = 0\n",
    "    \n",
    "    \n",
    "    if joga_novamente:\n",
    "        rewards += 10\n",
    "\n",
    "    if perdeu:\n",
    "        rewards -= 4\n",
    "\n",
    "    if ganhou:\n",
    "        rewards += 10\n",
    "\n",
    "    if penalizado:\n",
    "        rewards -= 4\n",
    "        \n",
    "    if not penalizado:\n",
    "        rewards += 1\n",
    "\n",
    "    return rewards"
   ]
  },
  {
   "cell_type": "code",
   "execution_count": 3,
   "metadata": {},
   "outputs": [],
   "source": [
    "env = GAME(draw=True)  \n",
    "observations = env.reset()\n",
    "\n",
    "\n",
    "def reset_random_one_ball2(env,raio_buraco = 13, bola_ = (0,0), bola_branca=(0,0), num_balls=2):\n",
    "    ## iniciar o ambiente com a configuração do jogo com apenas uma bola na mesa. \n",
    "    # - A bola branca em uma posição aleatória\n",
    "    # - se não bater na bola, acabou a jogada\n",
    "\n",
    "    cfg.raio_buraco = raio_buraco\n",
    "    \n",
    "    epson = raio_buraco*2\n",
    "\n",
    "    env.reset()\n",
    "    env.table.bolas = env.table.bolas[:2] + [env.table.bola_branca]\n",
    "    numero_bola = env.table.bolas[1].numero\n",
    "    \n",
    "    \n",
    "    for _ ,  bola in enumerate(env.table.bolas[1:]):\n",
    "        bola.posicao[1] = bola_[0] + env.table.x_start\n",
    "        bola.posicao[0] = bola_[1] + env.table.y_start\n",
    "    \n",
    "    env.table.bola_branca.posicao[0] = bola_branca[0]  + env.table.x_start\n",
    "    env.table.bola_branca.posicao[1] = bola_branca[1]  + env.table.y_start\n",
    "    \n",
    "    env.numero_bolas = [[numero_bola ], []]\n",
    "    env.player=0\n",
    "    \n",
    "    \n",
    "    return env.get_observations()\n"
   ]
  },
  {
   "cell_type": "code",
   "execution_count": 8,
   "metadata": {},
   "outputs": [],
   "source": [
    "def calcula_angulo(bola_branca, bola_numero):\n",
    "\n",
    "        x, y = bola_branca\n",
    "        x1, y1 = bola_numero \n",
    "\n",
    "        x *= cfg.display_table_width\n",
    "        x1 *= cfg.display_table_width\n",
    "        y *= cfg.display_table_height\n",
    "        y1 *= cfg.display_table_height   \n",
    "\n",
    "\n",
    "        return math.atan2(y1 - y, x1 - x)"
   ]
  },
  {
   "cell_type": "code",
   "execution_count": 9,
   "metadata": {},
   "outputs": [],
   "source": [
    "def draw_mirrored_pool_tables(bola_branca, bola_numero):\n",
    "    \"\"\"\n",
    "    Draws 9 mirrored pool tables based on the given dimensions and ball positions.\n",
    "\n",
    "    Args:\n",
    "        l: Width of the table.\n",
    "        A: Height of the table.\n",
    "        balls: List of ball positions as tuples (x, y).\n",
    "    \"\"\"\n",
    "    l=cfg.display_table_width \n",
    "    A=cfg.display_table_height\n",
    "    posicoes = [ \n",
    "                    (bola_numero[0], bola_numero[1]),\n",
    "                    (-bola_numero[0], bola_numero[1]),\n",
    "                    ( l+(l-bola_numero[0]), bola_numero[1]),#\n",
    "                    (bola_numero[0], -bola_numero[1]),\n",
    "                    (bola_numero[0], A+(A-bola_numero[1])),#\n",
    "                    (-bola_numero[0], A+(A-bola_numero[1])),#\n",
    "                    (-bola_numero[0], -bola_numero[1]),\n",
    "                    ( l+(l-bola_numero[0]), A+(A-bola_numero[1])),\n",
    "                    ( l+(l-bola_numero[0]), -bola_numero[1]),#\n",
    "                ]\n",
    "    \n",
    "    l,A = 1 , 1\n",
    "    posicoes = [ \n",
    "                    (bola_numero[0], bola_numero[1]),\n",
    "                    (-bola_numero[0], bola_numero[1]),\n",
    "                    ( l+(l-bola_numero[0]), bola_numero[1]),#\n",
    "                    (bola_numero[0], -bola_numero[1]),\n",
    "                    (bola_numero[0], A+(A-bola_numero[1])),#\n",
    "                    (-bola_numero[0], A+(A-bola_numero[1])),#\n",
    "                    (-bola_numero[0], -bola_numero[1]),\n",
    "                    ( l+(l-bola_numero[0]), A+(A-bola_numero[1])),\n",
    "                    ( l+(l-bola_numero[0]), -bola_numero[1]),#\n",
    "                ]\n",
    "\n",
    "    for p in posicoes:\n",
    "        yield calcula_angulo(bola_branca, p)"
   ]
  },
  {
   "cell_type": "code",
   "execution_count": 10,
   "metadata": {},
   "outputs": [],
   "source": [
    "def get_actions(state, state_bola_branca):\n",
    "    \n",
    "    \n",
    "    indices = (state[:, -1] == 1).nonzero(as_tuple=True)[0]  \n",
    "    if indices.shape[0] == 0: \n",
    "        indices = [1, 2, 3, 4, 5, 6, 7]\n",
    "    \n",
    "    angulos = []\n",
    "    \n",
    "    for indice in indices:\n",
    "        for p in range(9):\n",
    "            angulos.append(list(draw_mirrored_pool_tables(state_bola_branca.numpy().tolist(), \n",
    "                                state[indice][:2].numpy().tolist()))[p])\n",
    "        \n",
    "    return angulos"
   ]
  },
  {
   "cell_type": "code",
   "execution_count": 13,
   "metadata": {},
   "outputs": [
    {
     "name": "stdout",
     "output_type": "stream",
     "text": [
      "0 -8\n",
      "1 -8\n",
      "2 -8\n",
      "3 -8\n",
      "4 -8\n",
      "5 -8\n",
      "6 1\n",
      "7 -4\n",
      "8 -8\n"
     ]
    }
   ],
   "source": [
    "state, state_bola_branca = reset_random_one_ball2(env)\n",
    "\n",
    "#state, state_bola_branca = reset_random_one_ball2(env, raio_buraco=20, bola_=(0.1,0.5), bola_branca=(0.5,0.75))\n",
    "\n",
    "angulos = get_actions(state, state_bola_branca)\n",
    "\n",
    "cfg.forca_maxima = 30\n",
    "\n",
    "intensidade = 1\n",
    "\n",
    "for p, angulo in enumerate(angulos):\n",
    "\n",
    "    env.table.draw()\n",
    "\n",
    "    obs, information, terminations, rewards = env.step( (angulo, intensidade),  rewards_function=rewards_function)\n",
    "        \n",
    "    print(p,rewards)"
   ]
  },
  {
   "cell_type": "code",
   "execution_count": null,
   "metadata": {},
   "outputs": [],
   "source": []
  },
  {
   "cell_type": "markdown",
   "metadata": {},
   "source": [
    "## Começando treinamento\n",
    "                           "
   ]
  },
  {
   "cell_type": "markdown",
   "metadata": {},
   "source": [
    "### Modelo política"
   ]
  },
  {
   "cell_type": "markdown",
   "metadata": {},
   "source": [
    "A ideia é que tenhamos uma rede neural como política, especificamente um transformers. \n",
    "\n",
    "Queremos que ele passe por cada bola e gere uma representação, no fim a representação do nosso estado será o embedding dabola branca."
   ]
  },
  {
   "cell_type": "code",
   "execution_count": null,
   "metadata": {},
   "outputs": [],
   "source": []
  },
  {
   "cell_type": "markdown",
   "metadata": {},
   "source": [
    "### Value model"
   ]
  },
  {
   "cell_type": "code",
   "execution_count": 4,
   "metadata": {},
   "outputs": [],
   "source": [
    "from datetime import datetime\n",
    "from dataclasses import dataclass, field\n",
    "\n",
    "\n",
    "@dataclass\n",
    "class Args:\n",
    "    exp_name: str = \"PPO\"\n",
    "    \"\"\"the name of this experiment\"\"\"\n",
    "    seed: int = 1\n",
    "    \"\"\"seed of the experiment\"\"\"\n",
    "    torch_deterministic: bool = True\n",
    "    \"\"\"if toggled, `torch.backends.cudnn.deterministic=False`\"\"\"\n",
    "    cuda: bool = torch.cuda.is_available()\n",
    "    \"\"\"if toggled, cuda will be enabled by default\"\"\"\n",
    "    capture_video: bool = False\n",
    "    \"\"\"whether to capture videos of the agent performances (check out `videos` folder)\"\"\"\n",
    "    save_model: bool = True\n",
    "    \"\"\"whether to save the final model\"\"\"\n",
    "\n",
    "    # Algorithm specific arguments\n",
    "    total_timesteps: int = 500000\n",
    "    \"\"\"total timesteps of the experiments\"\"\"\n",
    "    learning_rate: float = 2.5e-4\n",
    "    \"\"\"the learning rate of the optimizer\"\"\"\n",
    "    num_envs: int = 2\n",
    "    \"\"\"the number of parallel game environments\"\"\"\n",
    "    num_steps: int = 10 # 128\n",
    "    \"\"\"the number of steps to run in each environment per policy rollout\"\"\"\n",
    "    anneal_lr: bool = True\n",
    "    \"\"\"Toggle learning rate annealing for policy and value networks\"\"\"\n",
    "    gamma: float = 0.99\n",
    "    \"\"\"the discount factor gamma\"\"\"\n",
    "    gae_lambda: float = 0.95\n",
    "    \"\"\"the lambda for the general advantage estimation\"\"\"\n",
    "    num_minibatches: int = 4\n",
    "    \"\"\"the number of mini-batches\"\"\"\n",
    "    update_epochs: int = 4\n",
    "    \"\"\"the K epochs to update the policy\"\"\"\n",
    "    norm_adv: bool = True\n",
    "    \"\"\"Toggles advantages normalization\"\"\"\n",
    "    clip_coef: float = 0.2\n",
    "    \"\"\"the surrogate clipping coefficient\"\"\"\n",
    "    clip_vloss: bool = True\n",
    "    \"\"\"Toggles whether or not to use a clipped loss for the value function, as per the paper.\"\"\"\n",
    "    ent_coef: float = 0.01\n",
    "    \"\"\"coefficient of the entropy\"\"\"\n",
    "    vf_coef: float = 0.5\n",
    "    \"\"\"coefficient of the value function\"\"\"\n",
    "    max_grad_norm: float = 0.5\n",
    "    \"\"\"the maximum norm for the gradient clipping\"\"\"\n",
    "    target_kl: float = None\n",
    "    \"\"\"the target KL divergence threshold\"\"\"\n",
    "\n",
    "    # to be filled in runtime\n",
    "    batch_size: int = 0\n",
    "    \"\"\"the batch size (computed in runtime)\"\"\"\n",
    "    minibatch_size: int = 0\n",
    "    \"\"\"the mini-batch size (computed in runtime)\"\"\"\n",
    "    num_iterations: int = 0\n",
    "    \"\"\"the number of iterations (computed in runtime)\"\"\"\n",
    "    \n",
    "    model_args  = None\n",
    "    \n",
    "    #model_args: ModelArgs = field(default_factory=ModelArgs)\n",
    "\n",
    "args = Args()\n",
    "args.model_args = Model_args(\n",
    "                    embed_dim  = 128,\n",
    "                    num_heads  = 8,\n",
    "                    ff_dim  = 128 * 2,\n",
    "                    num_layers  =  2,\n",
    "                    dropout  = 0.1,\n",
    "                    )"
   ]
  },
  {
   "cell_type": "code",
   "execution_count": 5,
   "metadata": {},
   "outputs": [],
   "source": [
    "from curriculum.reset import reset_random_one_ball\n",
    "\n",
    "rewards_function\n",
    "\n",
    "class ambientes():\n",
    "    \n",
    "    def __init__(self,n , agent, rewards_function):\n",
    "        self.n = n\n",
    "        self.agent = agent\n",
    "        \n",
    "        self.envs = [ GAME(draw=True) for _ in range(n)]\n",
    "        self.rewards_function = rewards_function\n",
    "        \n",
    " \n",
    "    def format_observations(self, observations : list[tuple] ):\n",
    "        states = []\n",
    "        states_white_ball = []\n",
    "    \n",
    "        for obs in observations:\n",
    "            states += [obs[0].unsqueeze(dim=0)]\n",
    "            states_white_ball += [obs[1].unsqueeze(dim=0)]\n",
    "        return torch.concat(states) , torch.concat(states_white_ball)\n",
    "       \n",
    "    def reset(self):\n",
    "        states = []\n",
    "        for env in self.envs:\n",
    "            states += [reset_random_one_ball(env=env)]\n",
    "        \n",
    "        return self.format_observations(states)\n",
    "            \n",
    "    def single_observation_space(self):\n",
    "        return (15,4)\n",
    "    \n",
    "    def single_observation_space_white(self):\n",
    "        return (1,2)\n",
    "    \n",
    "    def single_action_space(self):\n",
    "        return (3,)\n",
    "    \n",
    "    \n",
    "    def step(self, action):\n",
    "        angulo =  action[:,0]\n",
    "        intensidade = action[:,1]\n",
    "        \n",
    "        \n",
    "        get_observations, informations , terminations, rewards = [],[],[],[]\n",
    "        \n",
    "        for i, env in enumerate(self.envs):\n",
    "\n",
    "            env_observations, env_informations , env_terminations, env_rewards = env.step( (angulo[i], intensidade[i]), rewards_function =self.rewards_function )\n",
    "            \n",
    "            \n",
    "            if env_terminations:\n",
    "                env_observations = reset_random_one_ball(env=env)\n",
    "\n",
    "            get_observations += [env_observations]\n",
    "            informations += [env_informations]\n",
    "            terminations += [env_terminations]\n",
    "            rewards += [env_rewards]\n",
    "        \n",
    "        \n",
    "        \n",
    "                \n",
    "        return self.format_observations(get_observations), informations , terminations, rewards\n",
    "\n",
    "    \n",
    "    \n",
    "     \n",
    "                \n",
    "#test\n",
    "#agent = Agent(action_dim=2,model_args=args.model_args)\n",
    "#a  =  ambientes(2,agent,rewards_function)\n",
    "#state, balls = a.reset()\n",
    "#action, logprob, _, value = agent.get_action_and_value(state, balls)\n",
    "#print(action)\n",
    "#observations, informations , terminations, rewards = a.step(action)\n"
   ]
  },
  {
   "cell_type": "code",
   "execution_count": null,
   "metadata": {},
   "outputs": [
    {
     "name": "stderr",
     "output_type": "stream",
     "text": [
      "Iterations:   0%|          | 0/25000 [00:00<?, ?it/s]"
     ]
    },
    {
     "name": "stdout",
     "output_type": "stream",
     "text": [
      "reward:  -3\n"
     ]
    },
    {
     "name": "stderr",
     "output_type": "stream",
     "text": [
      "/var/folders/ys/qvr7rwln3yjg1zwjrrspn9gc0000gn/T/ipykernel_64491/2091194291.py:89: UserWarning: To copy construct from a tensor, it is recommended to use sourceTensor.clone().detach() or sourceTensor.clone().detach().requires_grad_(True), rather than torch.tensor(sourceTensor).\n",
      "  next_obs, next_done , next_obs_white = torch.Tensor(next_obs).to(device), torch.Tensor(next_done).to(device), torch.tensor(next_obs_white).to(device)\n"
     ]
    },
    {
     "name": "stdout",
     "output_type": "stream",
     "text": [
      "reward:  -12\n",
      "reward:  -8\n",
      "reward:  -12\n",
      "reward:  -7\n",
      "reward:  -3\n",
      "reward:  -3\n",
      "reward:  -7\n",
      "reward:  -8\n",
      "reward:  -8\n"
     ]
    },
    {
     "name": "stderr",
     "output_type": "stream",
     "text": [
      "Iterations:   0%|          | 1/25000 [00:38<268:42:28, 38.70s/it]"
     ]
    },
    {
     "name": "stdout",
     "output_type": "stream",
     "text": [
      "epoch 3 saving model\n",
      "reward:  -16\n",
      "reward:  -3\n",
      "reward:  -8\n",
      "reward:  -12\n",
      "reward:  -7\n",
      "reward:  -3\n",
      "reward:  -8\n",
      "reward:  -12\n",
      "reward:  -12\n"
     ]
    },
    {
     "name": "stderr",
     "output_type": "stream",
     "text": [
      "Iterations:   0%|          | 2/25000 [01:18<273:48:31, 39.43s/it]"
     ]
    },
    {
     "name": "stdout",
     "output_type": "stream",
     "text": [
      "reward:  -8\n",
      "epoch 3 saving model\n",
      "reward:  -12\n",
      "reward:  -7\n",
      "reward:  -8\n",
      "reward:  -8\n",
      "reward:  -16\n",
      "reward:  -3\n",
      "reward:  -3\n",
      "reward:  -7\n",
      "reward:  -8\n"
     ]
    },
    {
     "name": "stderr",
     "output_type": "stream",
     "text": [
      "Iterations:   0%|          | 3/25000 [01:52<256:57:32, 37.01s/it]"
     ]
    },
    {
     "name": "stdout",
     "output_type": "stream",
     "text": [
      "reward:  -8\n",
      "epoch 3 saving model\n",
      "reward:  -16\n",
      "reward:  2\n",
      "reward:  -3\n",
      "reward:  -8\n",
      "reward:  -12\n",
      "reward:  -12\n",
      "reward:  -3\n",
      "reward:  -7\n",
      "reward:  -3\n"
     ]
    },
    {
     "name": "stderr",
     "output_type": "stream",
     "text": [
      "Iterations:   0%|          | 4/25000 [02:28<254:26:08, 36.64s/it]"
     ]
    },
    {
     "name": "stdout",
     "output_type": "stream",
     "text": [
      "reward:  -3\n",
      "epoch 3 saving model\n",
      "reward:  -12\n",
      "reward:  -8\n",
      "reward:  -12\n",
      "reward:  -16\n",
      "reward:  -3\n",
      "reward:  -3\n",
      "reward:  -7\n",
      "reward:  2\n",
      "reward:  2\n"
     ]
    },
    {
     "name": "stderr",
     "output_type": "stream",
     "text": [
      "Iterations:   0%|          | 5/25000 [03:00<242:11:05, 34.88s/it]"
     ]
    },
    {
     "name": "stdout",
     "output_type": "stream",
     "text": [
      "reward:  -8\n",
      "epoch 3 saving model\n",
      "reward:  -8\n",
      "reward:  -16\n",
      "reward:  12\n",
      "reward:  -3\n",
      "reward:  -12\n",
      "reward:  -8\n",
      "reward:  -12\n",
      "reward:  -7\n",
      "reward:  2\n"
     ]
    },
    {
     "name": "stderr",
     "output_type": "stream",
     "text": [
      "Iterations:   0%|          | 6/25000 [03:34<240:13:44, 34.60s/it]"
     ]
    },
    {
     "name": "stdout",
     "output_type": "stream",
     "text": [
      "reward:  -3\n",
      "epoch 3 saving model\n",
      "reward:  -8\n",
      "reward:  -12\n",
      "reward:  -12\n",
      "reward:  -3\n",
      "reward:  -7\n",
      "reward:  12\n",
      "reward:  -8\n",
      "reward:  -12\n",
      "reward:  3\n"
     ]
    },
    {
     "name": "stderr",
     "output_type": "stream",
     "text": [
      "Iterations:   0%|          | 7/25000 [04:09<240:08:40, 34.59s/it]"
     ]
    },
    {
     "name": "stdout",
     "output_type": "stream",
     "text": [
      "reward:  -3\n",
      "epoch 3 saving model\n",
      "reward:  -7\n",
      "reward:  2\n",
      "reward:  2\n",
      "reward:  -8\n",
      "reward:  -8\n",
      "reward:  -16\n",
      "reward:  2\n",
      "reward:  -3\n",
      "reward:  -8\n"
     ]
    },
    {
     "name": "stderr",
     "output_type": "stream",
     "text": [
      "Iterations:   0%|          | 8/25000 [04:44<242:38:20, 34.95s/it]"
     ]
    },
    {
     "name": "stdout",
     "output_type": "stream",
     "text": [
      "reward:  -12\n",
      "epoch 3 saving model\n",
      "reward:  -7\n",
      "reward:  -3\n",
      "reward:  -3\n",
      "reward:  -12\n",
      "reward:  -3\n",
      "reward:  -12\n",
      "reward:  -3\n",
      "reward:  -7\n",
      "reward:  2\n"
     ]
    },
    {
     "name": "stderr",
     "output_type": "stream",
     "text": [
      "Iterations:   0%|          | 9/25000 [05:19<242:06:35, 34.88s/it]"
     ]
    },
    {
     "name": "stdout",
     "output_type": "stream",
     "text": [
      "reward:  7\n",
      "epoch 3 saving model\n",
      "reward:  -8\n",
      "reward:  -16\n",
      "reward:  -8\n",
      "reward:  -8\n",
      "reward:  -16\n",
      "reward:  -3\n",
      "reward:  -3\n",
      "reward:  -7\n",
      "reward:  12\n"
     ]
    },
    {
     "name": "stderr",
     "output_type": "stream",
     "text": [
      "Iterations:   0%|          | 10/25000 [05:48<230:11:19, 33.16s/it]"
     ]
    },
    {
     "name": "stdout",
     "output_type": "stream",
     "text": [
      "reward:  -3\n",
      "epoch 3 saving model\n",
      "reward:  -12\n",
      "reward:  -8\n",
      "reward:  -12\n",
      "reward:  -7\n",
      "reward:  -3\n",
      "reward:  -2\n",
      "reward:  -3\n",
      "reward:  -8\n",
      "reward:  -12\n"
     ]
    },
    {
     "name": "stderr",
     "output_type": "stream",
     "text": [
      "Iterations:   0%|          | 11/25000 [06:25<238:03:31, 34.30s/it]"
     ]
    },
    {
     "name": "stdout",
     "output_type": "stream",
     "text": [
      "reward:  3\n",
      "epoch 3 saving model\n",
      "reward:  -3\n",
      "reward:  -7\n",
      "reward:  2\n",
      "reward:  2\n",
      "reward:  -3\n",
      "reward:  -3\n",
      "reward:  -7\n",
      "reward:  -3\n",
      "reward:  7\n"
     ]
    },
    {
     "name": "stderr",
     "output_type": "stream",
     "text": [
      "Iterations:   0%|          | 12/25000 [07:02<243:30:06, 35.08s/it]"
     ]
    },
    {
     "name": "stdout",
     "output_type": "stream",
     "text": [
      "reward:  -12\n",
      "epoch 3 saving model\n",
      "reward:  -7\n",
      "reward:  12\n",
      "reward:  -3\n",
      "reward:  -12\n",
      "reward:  -3\n",
      "reward:  -7\n",
      "reward:  -3\n",
      "reward:  -3\n",
      "reward:  -12\n"
     ]
    },
    {
     "name": "stderr",
     "output_type": "stream",
     "text": [
      "Iterations:   0%|          | 13/25000 [07:31<230:04:11, 33.15s/it]"
     ]
    },
    {
     "name": "stdout",
     "output_type": "stream",
     "text": [
      "reward:  -8\n",
      "epoch 3 saving model\n",
      "reward:  -12\n",
      "reward:  -12\n",
      "reward:  -3\n",
      "reward:  -7\n",
      "reward:  22\n",
      "reward:  -8\n",
      "reward:  -16\n",
      "reward:  2\n",
      "reward:  -3\n"
     ]
    },
    {
     "name": "stderr",
     "output_type": "stream",
     "text": [
      "Iterations:   0%|          | 14/25000 [07:59<219:06:38, 31.57s/it]"
     ]
    },
    {
     "name": "stdout",
     "output_type": "stream",
     "text": [
      "reward:  7\n",
      "epoch 3 saving model\n",
      "reward:  -8\n",
      "reward:  -8\n",
      "reward:  -16\n",
      "reward:  7\n",
      "reward:  -8\n",
      "reward:  -16\n",
      "reward:  -8\n",
      "reward:  -8\n",
      "reward:  -16\n"
     ]
    },
    {
     "name": "stderr",
     "output_type": "stream",
     "text": [
      "Iterations:   0%|          | 15/25000 [08:21<199:12:46, 28.70s/it]"
     ]
    },
    {
     "name": "stdout",
     "output_type": "stream",
     "text": [
      "reward:  -12\n",
      "epoch 3 saving model\n",
      "reward:  7\n",
      "reward:  -12\n",
      "reward:  -12\n",
      "reward:  -3\n",
      "reward:  -12\n",
      "reward:  -3\n",
      "reward:  -7\n",
      "reward:  -8\n",
      "reward:  2\n"
     ]
    },
    {
     "name": "stderr",
     "output_type": "stream",
     "text": [
      "Iterations:   0%|          | 16/25000 [08:48<196:02:55, 28.25s/it]"
     ]
    },
    {
     "name": "stdout",
     "output_type": "stream",
     "text": [
      "reward:  -12\n",
      "epoch 3 saving model\n",
      "reward:  -8\n",
      "reward:  -12\n",
      "reward:  -12\n",
      "reward:  7\n",
      "reward:  -3\n",
      "reward:  -8\n",
      "reward:  -12\n",
      "reward:  -12\n",
      "reward:  -3\n"
     ]
    },
    {
     "name": "stderr",
     "output_type": "stream",
     "text": [
      "Iterations:   0%|          | 17/25000 [09:16<196:17:26, 28.29s/it]"
     ]
    },
    {
     "name": "stdout",
     "output_type": "stream",
     "text": [
      "reward:  -12\n",
      "epoch 3 saving model\n",
      "reward:  -8\n",
      "reward:  -12\n",
      "reward:  -12\n",
      "reward:  -3\n",
      "reward:  -7\n",
      "reward:  -3\n",
      "reward:  -3\n",
      "reward:  -12\n",
      "reward:  -8\n"
     ]
    },
    {
     "name": "stderr",
     "output_type": "stream",
     "text": [
      "Iterations:   0%|          | 18/25000 [09:38<182:28:10, 26.29s/it]"
     ]
    },
    {
     "name": "stdout",
     "output_type": "stream",
     "text": [
      "reward:  -12\n",
      "epoch 3 saving model\n",
      "reward:  -12\n",
      "reward:  -3\n",
      "reward:  -12\n",
      "reward:  -8\n",
      "reward:  -12\n",
      "reward:  -7\n",
      "reward:  -3\n",
      "reward:  -8\n",
      "reward:  -12\n"
     ]
    },
    {
     "name": "stderr",
     "output_type": "stream",
     "text": [
      "Iterations:   0%|          | 19/25000 [10:10<194:45:28, 28.07s/it]"
     ]
    },
    {
     "name": "stdout",
     "output_type": "stream",
     "text": [
      "reward:  -12\n",
      "epoch 3 saving model\n",
      "reward:  -3\n",
      "reward:  -7\n",
      "reward:  -8\n",
      "reward:  -8\n",
      "reward:  -16\n",
      "reward:  2\n",
      "reward:  22\n",
      "reward:  2\n",
      "reward:  -7\n"
     ]
    },
    {
     "name": "stderr",
     "output_type": "stream",
     "text": [
      "Iterations:   0%|          | 20/25000 [10:45<208:28:11, 30.04s/it]"
     ]
    },
    {
     "name": "stdout",
     "output_type": "stream",
     "text": [
      "reward:  -3\n",
      "epoch 3 saving model\n",
      "reward:  2\n",
      "reward:  -8\n",
      "reward:  -12\n",
      "reward:  -12\n",
      "reward:  -8\n",
      "reward:  -12\n",
      "reward:  -12\n",
      "reward:  -3\n",
      "reward:  -12\n"
     ]
    },
    {
     "name": "stderr",
     "output_type": "stream",
     "text": [
      "Iterations:   0%|          | 21/25000 [11:10<197:20:35, 28.44s/it]"
     ]
    },
    {
     "name": "stdout",
     "output_type": "stream",
     "text": [
      "reward:  -8\n",
      "epoch 3 saving model\n",
      "reward:  -12\n",
      "reward:  -12\n",
      "reward:  -8\n",
      "reward:  -2\n",
      "reward:  -3\n",
      "reward:  -3\n",
      "reward:  -12\n",
      "reward:  -8\n",
      "reward:  -12\n"
     ]
    },
    {
     "name": "stderr",
     "output_type": "stream",
     "text": [
      "Iterations:   0%|          | 22/25000 [11:29<177:32:40, 25.59s/it]"
     ]
    },
    {
     "name": "stdout",
     "output_type": "stream",
     "text": [
      "reward:  -7\n",
      "epoch 3 saving model\n",
      "reward:  -8\n",
      "reward:  -2\n",
      "reward:  -8\n",
      "reward:  -8\n",
      "reward:  -16\n",
      "reward:  12\n",
      "reward:  2\n",
      "reward:  2\n",
      "reward:  -3\n"
     ]
    },
    {
     "name": "stderr",
     "output_type": "stream",
     "text": [
      "Iterations:   0%|          | 23/25000 [11:50<169:25:21, 24.42s/it]"
     ]
    },
    {
     "name": "stdout",
     "output_type": "stream",
     "text": [
      "reward:  -7\n",
      "epoch 3 saving model\n",
      "reward:  -3\n",
      "reward:  7\n",
      "reward:  2\n",
      "reward:  -3\n",
      "reward:  -8\n",
      "reward:  -12\n",
      "reward:  -7\n",
      "reward:  7\n",
      "reward:  -8\n"
     ]
    },
    {
     "name": "stderr",
     "output_type": "stream",
     "text": [
      "Iterations:   0%|          | 24/25000 [12:19<178:36:50, 25.75s/it]"
     ]
    },
    {
     "name": "stdout",
     "output_type": "stream",
     "text": [
      "reward:  -16\n",
      "epoch 3 saving model\n",
      "reward:  7\n",
      "reward:  2\n",
      "reward:  -7\n",
      "reward:  -3\n",
      "reward:  2\n",
      "reward:  -3\n",
      "reward:  -7\n",
      "reward:  -3\n",
      "reward:  7\n"
     ]
    },
    {
     "name": "stderr",
     "output_type": "stream",
     "text": [
      "Iterations:   0%|          | 25/25000 [12:45<178:45:44, 25.77s/it]"
     ]
    },
    {
     "name": "stdout",
     "output_type": "stream",
     "text": [
      "reward:  2\n",
      "epoch 3 saving model\n",
      "reward:  -3\n",
      "reward:  -3\n",
      "reward:  -7\n",
      "reward:  -3\n",
      "reward:  -3\n",
      "reward:  -7\n",
      "reward:  2\n",
      "reward:  2\n",
      "reward:  2\n"
     ]
    },
    {
     "name": "stderr",
     "output_type": "stream",
     "text": [
      "Iterations:   0%|          | 26/25000 [13:11<179:32:46, 25.88s/it]"
     ]
    },
    {
     "name": "stdout",
     "output_type": "stream",
     "text": [
      "reward:  -3\n",
      "epoch 3 saving model\n",
      "reward:  -3\n",
      "reward:  -12\n",
      "reward:  -7\n",
      "reward:  -3\n",
      "reward:  -3\n",
      "reward:  -7\n",
      "reward:  2\n",
      "reward:  2\n",
      "reward:  2\n"
     ]
    },
    {
     "name": "stderr",
     "output_type": "stream",
     "text": [
      "Iterations:   0%|          | 27/25000 [13:36<176:29:46, 25.44s/it]"
     ]
    },
    {
     "name": "stdout",
     "output_type": "stream",
     "text": [
      "reward:  -8\n",
      "epoch 3 saving model\n",
      "reward:  -8\n",
      "reward:  -16\n",
      "reward:  -8\n",
      "reward:  -8\n",
      "reward:  -16\n",
      "reward:  -3\n",
      "reward:  -3\n",
      "reward:  -12\n",
      "reward:  -8\n"
     ]
    },
    {
     "name": "stderr",
     "output_type": "stream",
     "text": [
      "Iterations:   0%|          | 28/25000 [13:59<172:12:00, 24.82s/it]"
     ]
    },
    {
     "name": "stdout",
     "output_type": "stream",
     "text": [
      "reward:  -2\n",
      "epoch 3 saving model\n",
      "reward:  2\n",
      "reward:  12\n",
      "reward:  -8\n",
      "reward:  -16\n",
      "reward:  2\n",
      "reward:  -8\n",
      "reward:  -12\n",
      "reward:  -16\n",
      "reward:  -3\n"
     ]
    },
    {
     "name": "stderr",
     "output_type": "stream",
     "text": [
      "Iterations:   0%|          | 29/25000 [14:24<173:14:34, 24.98s/it]"
     ]
    },
    {
     "name": "stdout",
     "output_type": "stream",
     "text": [
      "reward:  7\n",
      "epoch 3 saving model\n",
      "reward:  -12\n",
      "reward:  -7\n",
      "reward:  -3\n",
      "reward:  2\n",
      "reward:  -8\n",
      "reward:  -12\n",
      "reward:  -7\n",
      "reward:  -3\n",
      "reward:  -3\n"
     ]
    },
    {
     "name": "stderr",
     "output_type": "stream",
     "text": [
      "Iterations:   0%|          | 30/25000 [14:49<172:09:15, 24.82s/it]"
     ]
    },
    {
     "name": "stdout",
     "output_type": "stream",
     "text": [
      "reward:  -7\n",
      "epoch 3 saving model\n",
      "reward:  2\n",
      "reward:  -3\n",
      "reward:  -8\n",
      "reward:  -12\n",
      "reward:  -12\n",
      "reward:  -8\n",
      "reward:  -12\n",
      "reward:  -7\n",
      "reward:  -3\n"
     ]
    },
    {
     "name": "stderr",
     "output_type": "stream",
     "text": [
      "Iterations:   0%|          | 31/25000 [15:12<169:04:30, 24.38s/it]"
     ]
    },
    {
     "name": "stdout",
     "output_type": "stream",
     "text": [
      "reward:  2\n",
      "epoch 3 saving model\n",
      "reward:  -8\n",
      "reward:  -12\n",
      "reward:  -7\n",
      "reward:  2\n",
      "reward:  -3\n",
      "reward:  7\n",
      "reward:  -12\n",
      "reward:  -7\n",
      "reward:  7\n"
     ]
    },
    {
     "name": "stderr",
     "output_type": "stream",
     "text": [
      "Iterations:   0%|          | 32/25000 [15:37<170:26:01, 24.57s/it]"
     ]
    },
    {
     "name": "stdout",
     "output_type": "stream",
     "text": [
      "reward:  -8\n",
      "epoch 3 saving model\n",
      "reward:  -16\n",
      "reward:  -3\n",
      "reward:  -8\n",
      "reward:  -12\n",
      "reward:  -12\n",
      "reward:  2\n",
      "reward:  -3\n",
      "reward:  -12\n",
      "reward:  -8\n"
     ]
    },
    {
     "name": "stderr",
     "output_type": "stream",
     "text": [
      "Iterations:   0%|          | 33/25000 [16:01<168:43:59, 24.33s/it]"
     ]
    },
    {
     "name": "stdout",
     "output_type": "stream",
     "text": [
      "reward:  -12\n",
      "epoch 3 saving model\n",
      "reward:  -12\n",
      "reward:  -8\n",
      "reward:  -12\n",
      "reward:  -12\n",
      "reward:  -3\n",
      "reward:  -7\n",
      "reward:  2\n",
      "reward:  2\n",
      "reward:  -8\n"
     ]
    },
    {
     "name": "stderr",
     "output_type": "stream",
     "text": [
      "Iterations:   0%|          | 34/25000 [16:26<171:27:26, 24.72s/it]"
     ]
    },
    {
     "name": "stdout",
     "output_type": "stream",
     "text": [
      "reward:  -8\n",
      "epoch 3 saving model\n",
      "reward:  -16\n",
      "reward:  -3\n",
      "reward:  -3\n",
      "reward:  -12\n",
      "reward:  7\n",
      "reward:  -3\n",
      "reward:  -8\n",
      "reward:  -12\n",
      "reward:  -7\n"
     ]
    },
    {
     "name": "stderr",
     "output_type": "stream",
     "text": [
      "Iterations:   0%|          | 35/25000 [16:51<170:12:45, 24.54s/it]"
     ]
    },
    {
     "name": "stdout",
     "output_type": "stream",
     "text": [
      "reward:  -7\n",
      "epoch 3 saving model\n",
      "reward:  -8\n",
      "reward:  -8\n",
      "reward:  -16\n",
      "reward:  -8\n",
      "reward:  -8\n",
      "reward:  -16\n",
      "reward:  -3\n",
      "reward:  -8\n",
      "reward:  -12\n"
     ]
    },
    {
     "name": "stderr",
     "output_type": "stream",
     "text": [
      "Iterations:   0%|          | 36/25000 [17:16<172:07:47, 24.82s/it]"
     ]
    },
    {
     "name": "stdout",
     "output_type": "stream",
     "text": [
      "reward:  -12\n",
      "epoch 3 saving model\n",
      "reward:  -8\n",
      "reward:  -2\n",
      "reward:  7\n",
      "reward:  -2\n",
      "reward:  2\n",
      "reward:  -8\n",
      "reward:  -8\n",
      "reward:  -16\n",
      "reward:  2\n"
     ]
    },
    {
     "name": "stderr",
     "output_type": "stream",
     "text": [
      "Iterations:   0%|          | 37/25000 [17:39<168:41:13, 24.33s/it]"
     ]
    },
    {
     "name": "stdout",
     "output_type": "stream",
     "text": [
      "reward:  -3\n",
      "epoch 3 saving model\n",
      "reward:  -8\n",
      "reward:  -12\n",
      "reward:  -12\n",
      "reward:  7\n",
      "reward:  -12\n",
      "reward:  -16\n",
      "reward:  -3\n",
      "reward:  -8\n",
      "reward:  -12\n"
     ]
    },
    {
     "name": "stderr",
     "output_type": "stream",
     "text": [
      "Iterations:   0%|          | 38/25000 [18:02<165:33:33, 23.88s/it]"
     ]
    },
    {
     "name": "stdout",
     "output_type": "stream",
     "text": [
      "reward:  -12\n",
      "epoch 3 saving model\n",
      "reward:  -3\n",
      "reward:  -7\n",
      "reward:  -12\n",
      "reward:  -3\n",
      "reward:  -7\n",
      "reward:  -3\n",
      "reward:  -8\n",
      "reward:  -12\n",
      "reward:  -12\n"
     ]
    },
    {
     "name": "stderr",
     "output_type": "stream",
     "text": [
      "Iterations:   0%|          | 39/25000 [18:29<171:34:24, 24.75s/it]"
     ]
    },
    {
     "name": "stdout",
     "output_type": "stream",
     "text": [
      "reward:  -3\n",
      "epoch 3 saving model\n",
      "reward:  -12\n",
      "reward:  7\n",
      "reward:  -12\n",
      "reward:  -12\n",
      "reward:  7\n",
      "reward:  -12\n",
      "reward:  -7\n",
      "reward:  -3\n",
      "reward:  -3\n"
     ]
    },
    {
     "name": "stderr",
     "output_type": "stream",
     "text": [
      "Iterations:   0%|          | 40/25000 [18:51<166:11:48, 23.97s/it]"
     ]
    },
    {
     "name": "stdout",
     "output_type": "stream",
     "text": [
      "reward:  -7\n",
      "epoch 3 saving model\n",
      "reward:  2\n",
      "reward:  2\n",
      "reward:  -3\n",
      "reward:  -8\n",
      "reward:  -12\n",
      "reward:  -7\n",
      "reward:  2\n",
      "reward:  2\n",
      "reward:  -3\n"
     ]
    },
    {
     "name": "stderr",
     "output_type": "stream",
     "text": [
      "Iterations:   0%|          | 41/25000 [19:16<169:09:51, 24.40s/it]"
     ]
    },
    {
     "name": "stdout",
     "output_type": "stream",
     "text": [
      "reward:  -7\n",
      "epoch 3 saving model\n",
      "reward:  2\n",
      "reward:  -8\n",
      "reward:  -8\n",
      "reward:  -16\n",
      "reward:  12\n",
      "reward:  -8\n",
      "reward:  -2\n",
      "reward:  -8\n",
      "reward:  -8\n"
     ]
    },
    {
     "name": "stderr",
     "output_type": "stream",
     "text": [
      "Iterations:   0%|          | 42/25000 [19:39<165:34:02, 23.88s/it]"
     ]
    },
    {
     "name": "stdout",
     "output_type": "stream",
     "text": [
      "reward:  -16\n",
      "epoch 3 saving model\n",
      "reward:  -3\n",
      "reward:  -3\n",
      "reward:  -12\n",
      "reward:  -3\n",
      "reward:  -12\n",
      "reward:  2\n",
      "reward:  -8\n",
      "reward:  -12\n",
      "reward:  -7\n"
     ]
    },
    {
     "name": "stderr",
     "output_type": "stream",
     "text": [
      "Iterations:   0%|          | 43/25000 [20:04<167:17:31, 24.13s/it]"
     ]
    },
    {
     "name": "stdout",
     "output_type": "stream",
     "text": [
      "reward:  -3\n",
      "epoch 3 saving model\n",
      "reward:  -3\n",
      "reward:  -7\n",
      "reward:  2\n",
      "reward:  -3\n",
      "reward:  -3\n",
      "reward:  -12\n",
      "reward:  -8\n",
      "reward:  -16\n",
      "reward:  -8\n"
     ]
    },
    {
     "name": "stderr",
     "output_type": "stream",
     "text": [
      "Iterations:   0%|          | 44/25000 [20:26<162:21:28, 23.42s/it]"
     ]
    },
    {
     "name": "stdout",
     "output_type": "stream",
     "text": [
      "reward:  2\n",
      "epoch 3 saving model\n",
      "reward:  3\n",
      "reward:  -8\n",
      "reward:  -12\n",
      "reward:  -7\n",
      "reward:  -7\n",
      "reward:  -3\n",
      "reward:  2\n",
      "reward:  -3\n",
      "reward:  3\n"
     ]
    },
    {
     "name": "stderr",
     "output_type": "stream",
     "text": [
      "Iterations:   0%|          | 45/25000 [20:53<171:17:42, 24.71s/it]"
     ]
    },
    {
     "name": "stdout",
     "output_type": "stream",
     "text": [
      "reward:  -8\n",
      "epoch 3 saving model\n",
      "reward:  -12\n",
      "reward:  -12\n",
      "reward:  -8\n",
      "reward:  -12\n",
      "reward:  -12\n",
      "reward:  -3\n",
      "reward:  -12\n",
      "reward:  -8\n",
      "reward:  -12\n"
     ]
    },
    {
     "name": "stderr",
     "output_type": "stream",
     "text": [
      "Iterations:   0%|          | 46/25000 [21:41<218:59:49, 31.59s/it]"
     ]
    },
    {
     "name": "stdout",
     "output_type": "stream",
     "text": [
      "reward:  -7\n",
      "epoch 3 saving model\n",
      "reward:  2\n",
      "reward:  -3\n",
      "reward:  -8\n",
      "reward:  -12\n",
      "reward:  -12\n",
      "reward:  -8\n",
      "reward:  -12\n",
      "reward:  -7\n",
      "reward:  -3\n"
     ]
    },
    {
     "name": "stderr",
     "output_type": "stream",
     "text": [
      "Iterations:   0%|          | 47/25000 [22:32<260:18:16, 37.55s/it]"
     ]
    },
    {
     "name": "stdout",
     "output_type": "stream",
     "text": [
      "reward:  -8\n",
      "epoch 3 saving model\n",
      "reward:  -12\n",
      "reward:  -7\n",
      "reward:  -3\n",
      "reward:  -3\n",
      "reward:  -7\n",
      "reward:  2\n",
      "reward:  -3\n",
      "reward:  -3\n",
      "reward:  3\n"
     ]
    },
    {
     "name": "stderr",
     "output_type": "stream",
     "text": [
      "Iterations:   0%|          | 48/25000 [23:23<287:43:36, 41.51s/it]"
     ]
    },
    {
     "name": "stdout",
     "output_type": "stream",
     "text": [
      "reward:  2\n",
      "epoch 3 saving model\n",
      "reward:  -3\n",
      "reward:  -12\n",
      "reward:  7\n",
      "reward:  -12\n",
      "reward:  -12\n",
      "reward:  -8\n",
      "reward:  -2\n",
      "reward:  -3\n",
      "reward:  -8\n"
     ]
    },
    {
     "name": "stderr",
     "output_type": "stream",
     "text": [
      "Iterations:   0%|          | 49/25000 [24:15<309:47:59, 44.70s/it]"
     ]
    },
    {
     "name": "stdout",
     "output_type": "stream",
     "text": [
      "reward:  -12\n",
      "epoch 3 saving model\n",
      "reward:  -12\n",
      "reward:  -8\n",
      "reward:  -2\n",
      "reward:  12\n",
      "reward:  2\n",
      "reward:  -3\n",
      "reward:  -7\n",
      "reward:  12\n",
      "reward:  3\n"
     ]
    },
    {
     "name": "stderr",
     "output_type": "stream",
     "text": [
      "Iterations:   0%|          | 50/25000 [25:02<313:10:48, 45.19s/it]"
     ]
    },
    {
     "name": "stdout",
     "output_type": "stream",
     "text": [
      "reward:  -8\n",
      "epoch 3 saving model\n",
      "reward:  -12\n",
      "reward:  -12\n",
      "reward:  -8\n",
      "reward:  -12\n",
      "reward:  -7\n",
      "reward:  -3\n",
      "reward:  -3\n",
      "reward:  -7\n",
      "reward:  -3\n"
     ]
    },
    {
     "name": "stderr",
     "output_type": "stream",
     "text": [
      "Iterations:   0%|          | 51/25000 [25:25<268:48:47, 38.79s/it]"
     ]
    },
    {
     "name": "stdout",
     "output_type": "stream",
     "text": [
      "reward:  -8\n",
      "epoch 3 saving model\n",
      "reward:  -12\n",
      "reward:  -7\n",
      "reward:  -3\n",
      "reward:  -8\n",
      "reward:  -12\n",
      "reward:  -12\n",
      "reward:  7\n",
      "reward:  -12\n",
      "reward:  -7\n"
     ]
    },
    {
     "name": "stderr",
     "output_type": "stream",
     "text": [
      "Iterations:   0%|          | 52/25000 [25:48<234:57:48, 33.91s/it]"
     ]
    },
    {
     "name": "stdout",
     "output_type": "stream",
     "text": [
      "reward:  2\n",
      "epoch 3 saving model\n",
      "reward:  -3\n",
      "reward:  -8\n",
      "reward:  -12\n",
      "reward:  -12\n",
      "reward:  -8\n",
      "reward:  -12\n",
      "reward:  -7\n",
      "reward:  -8\n",
      "reward:  -8\n"
     ]
    },
    {
     "name": "stderr",
     "output_type": "stream",
     "text": [
      "Iterations:   0%|          | 53/25000 [26:09<207:42:29, 29.97s/it]"
     ]
    },
    {
     "name": "stdout",
     "output_type": "stream",
     "text": [
      "reward:  -16\n",
      "epoch 3 saving model\n",
      "reward:  7\n",
      "reward:  -8\n",
      "reward:  -16\n",
      "reward:  -3\n",
      "reward:  -3\n",
      "reward:  -7\n",
      "reward:  -7\n",
      "reward:  -12\n",
      "reward:  -8\n"
     ]
    },
    {
     "name": "stderr",
     "output_type": "stream",
     "text": [
      "Iterations:   0%|          | 54/25000 [26:30<189:08:58, 27.30s/it]"
     ]
    },
    {
     "name": "stdout",
     "output_type": "stream",
     "text": [
      "reward:  -2\n",
      "epoch 3 saving model\n",
      "reward:  12\n",
      "reward:  7\n",
      "reward:  -2\n",
      "reward:  -3\n",
      "reward:  7\n",
      "reward:  -12\n",
      "reward:  -7\n",
      "reward:  2\n",
      "reward:  -8\n"
     ]
    },
    {
     "name": "stderr",
     "output_type": "stream",
     "text": [
      "Iterations:   0%|          | 55/25000 [26:53<180:23:02, 26.03s/it]"
     ]
    },
    {
     "name": "stdout",
     "output_type": "stream",
     "text": [
      "reward:  2\n",
      "epoch 3 saving model\n",
      "reward:  -7\n",
      "reward:  -3\n",
      "reward:  -12\n",
      "reward:  -12\n",
      "reward:  -3\n",
      "reward:  -7\n",
      "reward:  22\n",
      "reward:  -8\n",
      "reward:  -16\n"
     ]
    },
    {
     "name": "stderr",
     "output_type": "stream",
     "text": [
      "Iterations:   0%|          | 56/25000 [27:15<171:11:47, 24.71s/it]"
     ]
    },
    {
     "name": "stdout",
     "output_type": "stream",
     "text": [
      "reward:  -7\n",
      "epoch 3 saving model\n",
      "reward:  2\n",
      "reward:  -8\n",
      "reward:  -8\n",
      "reward:  -16\n",
      "reward:  2\n",
      "reward:  -8\n",
      "reward:  -8\n",
      "reward:  -16\n",
      "reward:  -3\n"
     ]
    },
    {
     "name": "stderr",
     "output_type": "stream",
     "text": [
      "Iterations:   0%|          | 57/25000 [27:38<168:36:16, 24.33s/it]"
     ]
    },
    {
     "name": "stdout",
     "output_type": "stream",
     "text": [
      "reward:  -8\n",
      "epoch 3 saving model\n",
      "reward:  -12\n",
      "reward:  -12\n",
      "reward:  7\n",
      "reward:  -3\n",
      "reward:  -8\n",
      "reward:  -12\n",
      "reward:  -7\n",
      "reward:  -3\n",
      "reward:  -3\n"
     ]
    },
    {
     "name": "stderr",
     "output_type": "stream",
     "text": [
      "Iterations:   0%|          | 58/25000 [28:03<170:12:37, 24.57s/it]"
     ]
    },
    {
     "name": "stdout",
     "output_type": "stream",
     "text": [
      "reward:  -12\n",
      "epoch 3 saving model\n",
      "reward:  -8\n",
      "reward:  -12\n",
      "reward:  -7\n",
      "reward:  12\n",
      "reward:  7\n",
      "reward:  2\n",
      "reward:  -3\n",
      "reward:  -8\n",
      "reward:  -12\n"
     ]
    },
    {
     "name": "stderr",
     "output_type": "stream",
     "text": [
      "Iterations:   0%|          | 59/25000 [28:26<166:00:05, 23.96s/it]"
     ]
    },
    {
     "name": "stdout",
     "output_type": "stream",
     "text": [
      "reward:  -7\n",
      "epoch 3 saving model\n",
      "reward:  -8\n",
      "reward:  2\n",
      "reward:  -7\n",
      "reward:  2\n",
      "reward:  -3\n",
      "reward:  -3\n",
      "reward:  -12\n",
      "reward:  -3\n",
      "reward:  -7\n"
     ]
    },
    {
     "name": "stderr",
     "output_type": "stream",
     "text": [
      "Iterations:   0%|          | 60/25000 [28:48<163:15:56, 23.57s/it]"
     ]
    },
    {
     "name": "stdout",
     "output_type": "stream",
     "text": [
      "reward:  -3\n",
      "epoch 3 saving model\n",
      "reward:  -3\n",
      "reward:  -7\n",
      "reward:  -3\n",
      "reward:  -8\n",
      "reward:  -2\n",
      "reward:  -3\n",
      "reward:  -8\n",
      "reward:  -2\n",
      "reward:  2\n"
     ]
    },
    {
     "name": "stderr",
     "output_type": "stream",
     "text": [
      "Iterations:   0%|          | 61/25000 [29:10<160:08:51, 23.12s/it]"
     ]
    },
    {
     "name": "stdout",
     "output_type": "stream",
     "text": [
      "reward:  -8\n",
      "epoch 3 saving model\n",
      "reward:  -8\n",
      "reward:  -16\n",
      "reward:  -8\n",
      "reward:  2\n",
      "reward:  -7\n",
      "reward:  -3\n",
      "reward:  7\n",
      "reward:  -12\n",
      "reward:  -7\n"
     ]
    },
    {
     "name": "stderr",
     "output_type": "stream",
     "text": [
      "Iterations:   0%|          | 62/25000 [29:36<164:49:12, 23.79s/it]"
     ]
    },
    {
     "name": "stdout",
     "output_type": "stream",
     "text": [
      "reward:  -8\n",
      "epoch 3 saving model\n",
      "reward:  -8\n",
      "reward:  -16\n",
      "reward:  -3\n",
      "reward:  -3\n",
      "reward:  -7\n",
      "reward:  2\n",
      "reward:  -3\n",
      "reward:  -3\n",
      "reward:  -7\n"
     ]
    },
    {
     "name": "stderr",
     "output_type": "stream",
     "text": [
      "Iterations:   0%|          | 63/25000 [30:01<168:46:43, 24.37s/it]"
     ]
    },
    {
     "name": "stdout",
     "output_type": "stream",
     "text": [
      "reward:  2\n",
      "epoch 3 saving model\n",
      "reward:  -7\n",
      "reward:  2\n",
      "reward:  -3\n",
      "reward:  -3\n",
      "reward:  -7\n",
      "reward:  -7\n",
      "reward:  -3\n",
      "reward:  -8\n",
      "reward:  -12\n"
     ]
    },
    {
     "name": "stderr",
     "output_type": "stream",
     "text": [
      "Iterations:   0%|          | 64/25000 [30:26<169:14:58, 24.43s/it]"
     ]
    },
    {
     "name": "stdout",
     "output_type": "stream",
     "text": [
      "reward:  -7\n",
      "epoch 3 saving model\n",
      "reward:  22\n",
      "reward:  -8\n",
      "reward:  -16\n",
      "reward:  -8\n",
      "reward:  2\n",
      "reward:  -7\n",
      "reward:  -3\n",
      "reward:  -3\n",
      "reward:  -7\n"
     ]
    },
    {
     "name": "stderr",
     "output_type": "stream",
     "text": [
      "Iterations:   0%|          | 65/25000 [30:49<166:00:21, 23.97s/it]"
     ]
    },
    {
     "name": "stdout",
     "output_type": "stream",
     "text": [
      "reward:  12\n",
      "epoch 3 saving model\n",
      "reward:  -8\n",
      "reward:  -12\n",
      "reward:  -12\n",
      "reward:  -8\n",
      "reward:  -12\n",
      "reward:  -12\n",
      "reward:  -3\n",
      "reward:  -12\n",
      "reward:  -3\n"
     ]
    },
    {
     "name": "stderr",
     "output_type": "stream",
     "text": [
      "Iterations:   0%|          | 66/25000 [31:14<169:15:50, 24.44s/it]"
     ]
    },
    {
     "name": "stdout",
     "output_type": "stream",
     "text": [
      "reward:  -7\n",
      "epoch 3 saving model\n",
      "reward:  -3\n",
      "reward:  -8\n",
      "reward:  -12\n",
      "reward:  -12\n",
      "reward:  -3\n",
      "reward:  -12\n",
      "reward:  -3\n",
      "reward:  -7\n",
      "reward:  -3\n"
     ]
    },
    {
     "name": "stderr",
     "output_type": "stream",
     "text": [
      "Iterations:   0%|          | 67/25000 [31:37<165:52:35, 23.95s/it]"
     ]
    },
    {
     "name": "stdout",
     "output_type": "stream",
     "text": [
      "reward:  -3\n",
      "epoch 3 saving model\n",
      "reward:  -12\n",
      "reward:  -3\n",
      "reward:  -7\n",
      "reward:  -3\n",
      "reward:  -8\n",
      "reward:  -12\n",
      "reward:  -12\n",
      "reward:  -8\n",
      "reward:  -12\n"
     ]
    },
    {
     "name": "stderr",
     "output_type": "stream",
     "text": [
      "Iterations:   0%|          | 68/25000 [32:01<164:48:23, 23.80s/it]"
     ]
    },
    {
     "name": "stdout",
     "output_type": "stream",
     "text": [
      "reward:  -7\n",
      "epoch 3 saving model\n",
      "reward:  -3\n",
      "reward:  -3\n",
      "reward:  -12\n",
      "reward:  -8\n",
      "reward:  -12\n",
      "reward:  -7\n",
      "reward:  12\n",
      "reward:  -3\n",
      "reward:  -12\n"
     ]
    },
    {
     "name": "stderr",
     "output_type": "stream",
     "text": [
      "Iterations:   0%|          | 69/25000 [32:24<164:19:15, 23.73s/it]"
     ]
    },
    {
     "name": "stdout",
     "output_type": "stream",
     "text": [
      "reward:  -8\n",
      "epoch 3 saving model\n",
      "reward:  -12\n",
      "reward:  -12\n",
      "reward:  -3\n",
      "reward:  -12\n",
      "reward:  -3\n",
      "reward:  -7\n",
      "reward:  2\n",
      "reward:  -3\n",
      "reward:  -8\n"
     ]
    },
    {
     "name": "stderr",
     "output_type": "stream",
     "text": [
      "Iterations:   0%|          | 70/25000 [32:45<157:49:40, 22.79s/it]"
     ]
    },
    {
     "name": "stdout",
     "output_type": "stream",
     "text": [
      "reward:  -16\n",
      "epoch 3 saving model\n",
      "reward:  2\n",
      "reward:  -3\n",
      "reward:  -3\n",
      "reward:  -7\n",
      "reward:  12\n",
      "reward:  -3\n",
      "reward:  -7\n",
      "reward:  -3\n",
      "reward:  -8\n"
     ]
    },
    {
     "name": "stderr",
     "output_type": "stream",
     "text": [
      "Iterations:   0%|          | 71/25000 [33:10<162:58:29, 23.54s/it]"
     ]
    },
    {
     "name": "stdout",
     "output_type": "stream",
     "text": [
      "reward:  -12\n",
      "epoch 3 saving model\n",
      "reward:  -12\n",
      "reward:  -8\n",
      "reward:  -2\n",
      "reward:  -3\n",
      "reward:  -3\n",
      "reward:  -12\n",
      "reward:  -3\n",
      "reward:  -7\n",
      "reward:  -3\n"
     ]
    },
    {
     "name": "stderr",
     "output_type": "stream",
     "text": [
      "Iterations:   0%|          | 72/25000 [33:34<163:52:01, 23.66s/it]"
     ]
    },
    {
     "name": "stdout",
     "output_type": "stream",
     "text": [
      "reward:  -8\n",
      "epoch 3 saving model\n",
      "reward:  -12\n",
      "reward:  -12\n",
      "reward:  -3\n",
      "reward:  -12\n",
      "reward:  -3\n",
      "reward:  -12\n",
      "reward:  -3\n",
      "reward:  -12\n",
      "reward:  -8\n"
     ]
    },
    {
     "name": "stderr",
     "output_type": "stream",
     "text": [
      "Iterations:   0%|          | 73/25000 [33:59<167:08:00, 24.14s/it]"
     ]
    },
    {
     "name": "stdout",
     "output_type": "stream",
     "text": [
      "reward:  -12\n",
      "epoch 3 saving model\n",
      "reward:  -7\n",
      "reward:  2\n",
      "reward:  -3\n",
      "reward:  -8\n",
      "reward:  -12\n",
      "reward:  -7\n",
      "reward:  -8\n",
      "reward:  -8\n",
      "reward:  -16\n"
     ]
    },
    {
     "name": "stderr",
     "output_type": "stream",
     "text": [
      "Iterations:   0%|          | 74/25000 [34:35<191:00:27, 27.59s/it]"
     ]
    },
    {
     "name": "stdout",
     "output_type": "stream",
     "text": [
      "reward:  -8\n",
      "epoch 3 saving model\n",
      "reward:  -8\n",
      "reward:  -16\n",
      "reward:  -3\n",
      "reward:  -3\n",
      "reward:  -12\n",
      "reward:  2\n",
      "reward:  -3\n",
      "reward:  3\n",
      "reward:  -3\n"
     ]
    },
    {
     "name": "stderr",
     "output_type": "stream",
     "text": [
      "Iterations:   0%|          | 75/25000 [35:04<192:55:55, 27.87s/it]"
     ]
    },
    {
     "name": "stdout",
     "output_type": "stream",
     "text": [
      "reward:  -12\n",
      "epoch 3 saving model\n",
      "reward:  -3\n",
      "reward:  -12\n",
      "reward:  -3\n",
      "reward:  -7\n",
      "reward:  -3\n",
      "reward:  -3\n",
      "reward:  -7\n",
      "reward:  -8\n",
      "reward:  -8\n"
     ]
    },
    {
     "name": "stderr",
     "output_type": "stream",
     "text": [
      "Iterations:   0%|          | 76/25000 [35:25<179:42:41, 25.96s/it]"
     ]
    },
    {
     "name": "stdout",
     "output_type": "stream",
     "text": [
      "reward:  -16\n",
      "epoch 3 saving model\n",
      "reward:  -8\n",
      "reward:  -8\n",
      "reward:  -16\n",
      "reward:  -3\n",
      "reward:  -8\n",
      "reward:  -12\n",
      "reward:  -7\n",
      "reward:  -8\n",
      "reward:  -8\n"
     ]
    },
    {
     "name": "stderr",
     "output_type": "stream",
     "text": [
      "Iterations:   0%|          | 77/25000 [35:49<175:12:53, 25.31s/it]"
     ]
    },
    {
     "name": "stdout",
     "output_type": "stream",
     "text": [
      "reward:  -16\n",
      "epoch 3 saving model\n",
      "reward:  -3\n",
      "reward:  2\n",
      "reward:  -8\n",
      "reward:  -12\n",
      "reward:  -12\n",
      "reward:  -8\n",
      "reward:  -12\n",
      "reward:  -7\n",
      "reward:  -3\n"
     ]
    },
    {
     "name": "stderr",
     "output_type": "stream",
     "text": [
      "Iterations:   0%|          | 78/25000 [36:18<182:29:10, 26.36s/it]"
     ]
    },
    {
     "name": "stdout",
     "output_type": "stream",
     "text": [
      "reward:  -8\n",
      "epoch 3 saving model\n",
      "reward:  -12\n",
      "reward:  -7\n",
      "reward:  2\n",
      "reward:  -3\n",
      "reward:  -3\n",
      "reward:  -12\n",
      "reward:  -8\n",
      "reward:  -12\n",
      "reward:  -12\n"
     ]
    },
    {
     "name": "stderr",
     "output_type": "stream",
     "text": [
      "Iterations:   0%|          | 79/25000 [36:41<177:08:58, 25.59s/it]"
     ]
    },
    {
     "name": "stdout",
     "output_type": "stream",
     "text": [
      "reward:  7\n",
      "epoch 3 saving model\n",
      "reward:  -12\n",
      "reward:  -12\n",
      "reward:  -8\n",
      "reward:  -12\n",
      "reward:  -12\n",
      "reward:  -8\n",
      "reward:  -12\n",
      "reward:  -12\n",
      "reward:  -8\n"
     ]
    },
    {
     "name": "stderr",
     "output_type": "stream",
     "text": [
      "Iterations:   0%|          | 80/25000 [37:06<175:42:10, 25.38s/it]"
     ]
    },
    {
     "name": "stdout",
     "output_type": "stream",
     "text": [
      "reward:  -12\n",
      "epoch 3 saving model\n",
      "reward:  -7\n",
      "reward:  12\n",
      "reward:  -3\n",
      "reward:  -7\n",
      "reward:  2\n",
      "reward:  7\n",
      "reward:  2\n",
      "reward:  -7\n",
      "reward:  -3\n"
     ]
    },
    {
     "name": "stderr",
     "output_type": "stream",
     "text": [
      "Iterations:   0%|          | 81/25000 [37:30<172:02:29, 24.85s/it]"
     ]
    },
    {
     "name": "stdout",
     "output_type": "stream",
     "text": [
      "reward:  -8\n",
      "epoch 3 saving model\n",
      "reward:  -2\n",
      "reward:  -3\n",
      "reward:  -7\n",
      "reward:  -12\n",
      "reward:  -3\n",
      "reward:  -7\n",
      "reward:  -8\n",
      "reward:  -8\n",
      "reward:  -16\n"
     ]
    },
    {
     "name": "stderr",
     "output_type": "stream",
     "text": [
      "Iterations:   0%|          | 82/25000 [37:54<170:18:15, 24.60s/it]"
     ]
    },
    {
     "name": "stdout",
     "output_type": "stream",
     "text": [
      "reward:  12\n",
      "epoch 3 saving model\n",
      "reward:  -8\n",
      "reward:  -12\n",
      "reward:  -12\n",
      "reward:  -8\n",
      "reward:  -12\n",
      "reward:  3\n",
      "reward:  7\n",
      "reward:  -2\n",
      "reward:  -8\n"
     ]
    },
    {
     "name": "stderr",
     "output_type": "stream",
     "text": [
      "Iterations:   0%|          | 83/25000 [38:21<174:59:55, 25.28s/it]"
     ]
    },
    {
     "name": "stdout",
     "output_type": "stream",
     "text": [
      "reward:  -8\n",
      "epoch 3 saving model\n",
      "reward:  -16\n",
      "reward:  -3\n",
      "reward:  -3\n",
      "reward:  -12\n",
      "reward:  -3\n",
      "reward:  -7\n",
      "reward:  -7\n",
      "reward:  -3\n",
      "reward:  -8\n"
     ]
    },
    {
     "name": "stderr",
     "output_type": "stream",
     "text": [
      "Iterations:   0%|          | 84/25000 [38:47<177:45:50, 25.68s/it]"
     ]
    },
    {
     "name": "stdout",
     "output_type": "stream",
     "text": [
      "reward:  -12\n",
      "epoch 3 saving model\n",
      "reward:  -7\n",
      "reward:  2\n",
      "reward:  12\n",
      "reward:  -3\n",
      "reward:  -7\n",
      "reward:  -3\n",
      "reward:  -8\n",
      "reward:  -12\n",
      "reward:  -7\n"
     ]
    },
    {
     "name": "stderr",
     "output_type": "stream",
     "text": [
      "Iterations:   0%|          | 85/25000 [39:13<176:28:08, 25.50s/it]"
     ]
    },
    {
     "name": "stdout",
     "output_type": "stream",
     "text": [
      "reward:  -12\n",
      "epoch 3 saving model\n",
      "reward:  -8\n",
      "reward:  -16\n",
      "reward:  -3\n",
      "reward:  -3\n",
      "reward:  -12\n",
      "reward:  -8\n",
      "reward:  -12\n",
      "reward:  -7\n",
      "reward:  -8\n"
     ]
    },
    {
     "name": "stderr",
     "output_type": "stream",
     "text": [
      "Iterations:   0%|          | 86/25000 [39:38<176:47:39, 25.55s/it]"
     ]
    },
    {
     "name": "stdout",
     "output_type": "stream",
     "text": [
      "reward:  -8\n",
      "epoch 3 saving model\n",
      "reward:  -16\n",
      "reward:  2\n",
      "reward:  -2\n",
      "reward:  -3\n",
      "reward:  -3\n",
      "reward:  -7\n",
      "reward:  -3\n",
      "reward:  -3\n",
      "reward:  3\n"
     ]
    },
    {
     "name": "stderr",
     "output_type": "stream",
     "text": [
      "Iterations:   0%|          | 87/25000 [40:02<172:23:31, 24.91s/it]"
     ]
    },
    {
     "name": "stdout",
     "output_type": "stream",
     "text": [
      "reward:  -8\n",
      "epoch 3 saving model\n",
      "reward:  -2\n",
      "reward:  -8\n",
      "reward:  -8\n",
      "reward:  -16\n",
      "reward:  2\n",
      "reward:  -3\n",
      "reward:  -3\n",
      "reward:  -12\n",
      "reward:  7\n"
     ]
    },
    {
     "name": "stderr",
     "output_type": "stream",
     "text": [
      "Iterations:   0%|          | 88/25000 [40:24<167:37:29, 24.22s/it]"
     ]
    },
    {
     "name": "stdout",
     "output_type": "stream",
     "text": [
      "reward:  -2\n",
      "epoch 3 saving model\n",
      "reward:  -3\n",
      "reward:  -8\n",
      "reward:  -2\n",
      "reward:  2\n",
      "reward:  -8\n",
      "reward:  -8\n",
      "reward:  -16\n",
      "reward:  -3\n",
      "reward:  17\n"
     ]
    },
    {
     "name": "stderr",
     "output_type": "stream",
     "text": [
      "Iterations:   0%|          | 89/25000 [40:46<163:18:44, 23.60s/it]"
     ]
    },
    {
     "name": "stdout",
     "output_type": "stream",
     "text": [
      "reward:  -8\n",
      "epoch 3 saving model\n",
      "reward:  -12\n",
      "reward:  -7\n",
      "reward:  12\n",
      "reward:  -2\n",
      "reward:  -12\n",
      "reward:  -8\n",
      "reward:  -12\n",
      "reward:  -7\n",
      "reward:  -8\n"
     ]
    },
    {
     "name": "stderr",
     "output_type": "stream",
     "text": [
      "Iterations:   0%|          | 90/25000 [41:08<158:33:52, 22.92s/it]"
     ]
    },
    {
     "name": "stdout",
     "output_type": "stream",
     "text": [
      "reward:  -8\n",
      "epoch 3 saving model\n",
      "reward:  -16\n",
      "reward:  2\n",
      "reward:  -3\n",
      "reward:  -3\n",
      "reward:  -12\n",
      "reward:  -3\n",
      "reward:  -12\n",
      "reward:  -8\n",
      "reward:  -2\n"
     ]
    },
    {
     "name": "stderr",
     "output_type": "stream",
     "text": [
      "Iterations:   0%|          | 91/25000 [41:32<162:23:59, 23.47s/it]"
     ]
    },
    {
     "name": "stdout",
     "output_type": "stream",
     "text": [
      "reward:  7\n",
      "epoch 3 saving model\n",
      "reward:  -8\n",
      "reward:  -16\n",
      "reward:  -3\n",
      "reward:  -12\n",
      "reward:  -8\n",
      "reward:  -12\n",
      "reward:  -12\n",
      "reward:  -8\n",
      "reward:  -12\n"
     ]
    },
    {
     "name": "stderr",
     "output_type": "stream",
     "text": [
      "Iterations:   0%|          | 92/25000 [41:56<162:11:11, 23.44s/it]"
     ]
    },
    {
     "name": "stdout",
     "output_type": "stream",
     "text": [
      "reward:  -7\n",
      "epoch 3 saving model\n",
      "reward:  -3\n",
      "reward:  -8\n",
      "reward:  -12\n",
      "reward:  -12\n",
      "reward:  -16\n",
      "reward:  2\n",
      "reward:  -8\n",
      "reward:  -8\n",
      "reward:  -16\n"
     ]
    },
    {
     "name": "stderr",
     "output_type": "stream",
     "text": [
      "Iterations:   0%|          | 93/25000 [42:20<163:53:18, 23.69s/it]"
     ]
    },
    {
     "name": "stdout",
     "output_type": "stream",
     "text": [
      "reward:  -8\n",
      "epoch 3 saving model\n",
      "reward:  2\n",
      "reward:  -7\n",
      "reward:  7\n",
      "reward:  2\n",
      "reward:  3\n",
      "reward:  -3\n",
      "reward:  -7\n",
      "reward:  -3\n",
      "reward:  7\n"
     ]
    },
    {
     "name": "stderr",
     "output_type": "stream",
     "text": [
      "Iterations:   0%|          | 94/25000 [42:45<167:06:23, 24.15s/it]"
     ]
    },
    {
     "name": "stdout",
     "output_type": "stream",
     "text": [
      "reward:  -12\n",
      "epoch 3 saving model\n",
      "reward:  -7\n",
      "reward:  2\n",
      "reward:  7\n",
      "reward:  -8\n",
      "reward:  -16\n",
      "reward:  -3\n",
      "reward:  17\n",
      "reward:  -8\n",
      "reward:  -12\n"
     ]
    },
    {
     "name": "stderr",
     "output_type": "stream",
     "text": [
      "Iterations:   0%|          | 95/25000 [43:10<167:12:11, 24.17s/it]"
     ]
    },
    {
     "name": "stdout",
     "output_type": "stream",
     "text": [
      "reward:  -7\n",
      "epoch 3 saving model\n",
      "reward:  2\n",
      "reward:  2\n",
      "reward:  -3\n",
      "reward:  7\n",
      "reward:  -12\n",
      "reward:  3\n",
      "reward:  -3\n",
      "reward:  -12\n",
      "reward:  -3\n"
     ]
    },
    {
     "name": "stderr",
     "output_type": "stream",
     "text": [
      "Iterations:   0%|          | 96/25000 [43:34<166:52:17, 24.12s/it]"
     ]
    },
    {
     "name": "stdout",
     "output_type": "stream",
     "text": [
      "reward:  -7\n",
      "epoch 3 saving model\n",
      "reward:  -8\n",
      "reward:  -8\n",
      "reward:  -16\n",
      "reward:  -8\n",
      "reward:  -8\n",
      "reward:  -16\n",
      "reward:  12\n",
      "reward:  -8\n",
      "reward:  -12\n"
     ]
    },
    {
     "name": "stderr",
     "output_type": "stream",
     "text": [
      "Iterations:   0%|          | 97/25000 [43:59<170:21:37, 24.63s/it]"
     ]
    },
    {
     "name": "stdout",
     "output_type": "stream",
     "text": [
      "reward:  -7\n",
      "epoch 3 saving model\n",
      "reward:  -7\n",
      "reward:  -3\n",
      "reward:  -12\n",
      "reward:  -8\n",
      "reward:  -12\n",
      "reward:  -7\n",
      "reward:  2\n",
      "reward:  -3\n",
      "reward:  -8\n"
     ]
    },
    {
     "name": "stderr",
     "output_type": "stream",
     "text": [
      "Iterations:   0%|          | 98/25000 [44:23<168:18:37, 24.33s/it]"
     ]
    },
    {
     "name": "stdout",
     "output_type": "stream",
     "text": [
      "reward:  -12\n",
      "epoch 3 saving model\n",
      "reward:  -12\n",
      "reward:  -3\n",
      "reward:  -12\n",
      "reward:  -8\n",
      "reward:  -12\n",
      "reward:  -12\n",
      "reward:  -3\n",
      "reward:  -12\n",
      "reward:  -8\n"
     ]
    },
    {
     "name": "stderr",
     "output_type": "stream",
     "text": [
      "Iterations:   0%|          | 99/25000 [44:48<169:13:42, 24.47s/it]"
     ]
    },
    {
     "name": "stdout",
     "output_type": "stream",
     "text": [
      "reward:  -12\n",
      "epoch 3 saving model\n",
      "reward:  -7\n",
      "reward:  -3\n",
      "reward:  -8\n",
      "reward:  -12\n",
      "reward:  -7\n",
      "reward:  -3\n",
      "reward:  -3\n",
      "reward:  -7\n",
      "reward:  -8\n"
     ]
    },
    {
     "name": "stderr",
     "output_type": "stream",
     "text": [
      "Iterations:   0%|          | 100/25000 [45:12<169:23:59, 24.49s/it]"
     ]
    },
    {
     "name": "stdout",
     "output_type": "stream",
     "text": [
      "reward:  -8\n",
      "epoch 3 saving model\n",
      "reward:  -16\n",
      "reward:  7\n",
      "reward:  2\n",
      "reward:  -12\n",
      "reward:  -3\n",
      "reward:  -12\n",
      "reward:  -12\n",
      "reward:  -7\n",
      "reward:  -8\n"
     ]
    },
    {
     "name": "stderr",
     "output_type": "stream",
     "text": [
      "Iterations:   0%|          | 101/25000 [45:35<165:14:03, 23.89s/it]"
     ]
    },
    {
     "name": "stdout",
     "output_type": "stream",
     "text": [
      "reward:  -8\n",
      "epoch 3 saving model\n",
      "reward:  -16\n",
      "reward:  -8\n",
      "reward:  -8\n",
      "reward:  -16\n",
      "reward:  2\n",
      "reward:  7\n",
      "reward:  -8\n",
      "reward:  -16\n",
      "reward:  -3\n"
     ]
    },
    {
     "name": "stderr",
     "output_type": "stream",
     "text": [
      "Iterations:   0%|          | 102/25000 [45:58<164:15:01, 23.75s/it]"
     ]
    },
    {
     "name": "stdout",
     "output_type": "stream",
     "text": [
      "reward:  -8\n",
      "epoch 3 saving model\n",
      "reward:  -12\n",
      "reward:  -12\n",
      "reward:  -8\n",
      "reward:  -12\n",
      "reward:  -7\n",
      "reward:  2\n",
      "reward:  2\n",
      "reward:  12\n",
      "reward:  -8\n"
     ]
    },
    {
     "name": "stderr",
     "output_type": "stream",
     "text": [
      "Iterations:   0%|          | 103/25000 [46:23<166:55:11, 24.14s/it]"
     ]
    },
    {
     "name": "stdout",
     "output_type": "stream",
     "text": [
      "reward:  -12\n",
      "epoch 3 saving model\n",
      "reward:  3\n",
      "reward:  -8\n",
      "reward:  -12\n",
      "reward:  -7\n",
      "reward:  -3\n",
      "reward:  -8\n",
      "reward:  -12\n",
      "reward:  -7\n",
      "reward:  2\n"
     ]
    },
    {
     "name": "stderr",
     "output_type": "stream",
     "text": [
      "Iterations:   0%|          | 104/25000 [46:46<164:20:38, 23.76s/it]"
     ]
    },
    {
     "name": "stdout",
     "output_type": "stream",
     "text": [
      "reward:  2\n",
      "epoch 3 saving model\n",
      "reward:  -8\n",
      "reward:  -8\n",
      "reward:  -16\n",
      "reward:  2\n",
      "reward:  -3\n",
      "reward:  -8\n",
      "reward:  -12\n",
      "reward:  -7\n",
      "reward:  -8\n"
     ]
    },
    {
     "name": "stderr",
     "output_type": "stream",
     "text": [
      "Iterations:   0%|          | 105/25000 [47:11<166:07:58, 24.02s/it]"
     ]
    },
    {
     "name": "stdout",
     "output_type": "stream",
     "text": [
      "reward:  -8\n",
      "epoch 3 saving model\n",
      "reward:  -16\n",
      "reward:  12\n",
      "reward:  -8\n",
      "reward:  -12\n",
      "reward:  -7\n",
      "reward:  -8\n",
      "reward:  -8\n",
      "reward:  -16\n",
      "reward:  -3\n"
     ]
    },
    {
     "name": "stderr",
     "output_type": "stream",
     "text": [
      "Iterations:   0%|          | 106/25000 [47:55<208:37:14, 30.17s/it]"
     ]
    },
    {
     "name": "stdout",
     "output_type": "stream",
     "text": [
      "reward:  -3\n",
      "epoch 3 saving model\n",
      "reward:  -7\n",
      "reward:  2\n",
      "reward:  22\n",
      "reward:  -8\n",
      "reward:  -16\n",
      "reward:  -3\n",
      "reward:  7\n",
      "reward:  -12\n",
      "reward:  -12\n"
     ]
    },
    {
     "name": "stderr",
     "output_type": "stream",
     "text": [
      "Iterations:   0%|          | 107/25000 [48:43<243:59:51, 35.29s/it]"
     ]
    },
    {
     "name": "stdout",
     "output_type": "stream",
     "text": [
      "reward:  -3\n",
      "epoch 3 saving model\n",
      "reward:  -7\n",
      "reward:  -16\n",
      "reward:  -3\n",
      "reward:  7\n",
      "reward:  -3\n",
      "reward:  -8\n",
      "reward:  -12\n",
      "reward:  -7\n",
      "reward:  -3\n"
     ]
    },
    {
     "name": "stderr",
     "output_type": "stream",
     "text": [
      "Iterations:   0%|          | 108/25000 [49:05<217:22:51, 31.44s/it]"
     ]
    },
    {
     "name": "stdout",
     "output_type": "stream",
     "text": [
      "reward:  -3\n",
      "epoch 3 saving model\n",
      "reward:  -12\n",
      "reward:  -8\n",
      "reward:  -12\n",
      "reward:  -12\n",
      "reward:  -8\n",
      "reward:  -12\n",
      "reward:  -7\n",
      "reward:  2\n",
      "reward:  -3\n"
     ]
    },
    {
     "name": "stderr",
     "output_type": "stream",
     "text": [
      "Iterations:   0%|          | 109/25000 [49:27<197:40:39, 28.59s/it]"
     ]
    },
    {
     "name": "stdout",
     "output_type": "stream",
     "text": [
      "reward:  -8\n",
      "epoch 3 saving model\n",
      "reward:  -2\n",
      "reward:  -3\n",
      "reward:  7\n",
      "reward:  -3\n",
      "reward:  -8\n",
      "reward:  -16\n",
      "reward:  2\n",
      "reward:  2\n",
      "reward:  2\n"
     ]
    },
    {
     "name": "stderr",
     "output_type": "stream",
     "text": [
      "Iterations:   0%|          | 110/25000 [49:50<185:17:15, 26.80s/it]"
     ]
    },
    {
     "name": "stdout",
     "output_type": "stream",
     "text": [
      "reward:  -3\n",
      "epoch 3 saving model\n",
      "reward:  7\n",
      "reward:  -3\n",
      "reward:  2\n",
      "reward:  -3\n",
      "reward:  -12\n",
      "reward:  -3\n",
      "reward:  -12\n",
      "reward:  -3\n",
      "reward:  -12\n"
     ]
    },
    {
     "name": "stderr",
     "output_type": "stream",
     "text": [
      "Iterations:   0%|          | 111/25000 [50:12<176:56:04, 25.59s/it]"
     ]
    },
    {
     "name": "stdout",
     "output_type": "stream",
     "text": [
      "reward:  7\n",
      "epoch 3 saving model\n",
      "reward:  -12\n",
      "reward:  -12\n",
      "reward:  -3\n",
      "reward:  -7\n",
      "reward:  7\n",
      "reward:  -8\n",
      "reward:  -16\n",
      "reward:  -3\n",
      "reward:  -3\n"
     ]
    },
    {
     "name": "stderr",
     "output_type": "stream",
     "text": [
      "Iterations:   0%|          | 112/25000 [50:37<174:05:46, 25.18s/it]"
     ]
    },
    {
     "name": "stdout",
     "output_type": "stream",
     "text": [
      "reward:  -7\n",
      "epoch 3 saving model\n",
      "reward:  -3\n",
      "reward:  -8\n",
      "reward:  -12\n",
      "reward:  -7\n",
      "reward:  -8\n",
      "reward:  -8\n",
      "reward:  -16\n",
      "reward:  -3\n",
      "reward:  -8\n"
     ]
    },
    {
     "name": "stderr",
     "output_type": "stream",
     "text": [
      "Iterations:   0%|          | 113/25000 [51:05<179:55:27, 26.03s/it]"
     ]
    },
    {
     "name": "stdout",
     "output_type": "stream",
     "text": [
      "reward:  -12\n",
      "epoch 3 saving model\n",
      "reward:  -7\n",
      "reward:  7\n",
      "reward:  -8\n",
      "reward:  -16\n",
      "reward:  -3\n",
      "reward:  -8\n",
      "reward:  -12\n",
      "reward:  -12\n",
      "reward:  -8\n"
     ]
    },
    {
     "name": "stderr",
     "output_type": "stream",
     "text": [
      "Iterations:   0%|          | 114/25000 [51:29<175:57:37, 25.45s/it]"
     ]
    },
    {
     "name": "stdout",
     "output_type": "stream",
     "text": [
      "reward:  -12\n",
      "epoch 3 saving model\n",
      "reward:  -7\n",
      "reward:  2\n",
      "reward:  -3\n",
      "reward:  -3\n",
      "reward:  3\n",
      "reward:  -8\n",
      "reward:  -2\n",
      "reward:  -8\n",
      "reward:  -8\n"
     ]
    },
    {
     "name": "stderr",
     "output_type": "stream",
     "text": [
      "Iterations:   0%|          | 115/25000 [51:57<182:00:41, 26.33s/it]"
     ]
    },
    {
     "name": "stdout",
     "output_type": "stream",
     "text": [
      "reward:  -16\n",
      "epoch 3 saving model\n",
      "reward:  2\n",
      "reward:  -3\n",
      "reward:  -8\n",
      "reward:  -12\n",
      "reward:  -7\n",
      "reward:  2\n",
      "reward:  -3\n",
      "reward:  -3\n",
      "reward:  -7\n"
     ]
    },
    {
     "name": "stderr",
     "output_type": "stream",
     "text": [
      "Iterations:   0%|          | 116/25000 [52:25<185:43:12, 26.87s/it]"
     ]
    },
    {
     "name": "stdout",
     "output_type": "stream",
     "text": [
      "reward:  -3\n",
      "epoch 3 saving model\n",
      "reward:  -3\n",
      "reward:  -12\n",
      "reward:  -8\n",
      "reward:  -12\n",
      "reward:  -12\n",
      "reward:  -3\n",
      "reward:  -7\n",
      "reward:  2\n",
      "reward:  -8\n"
     ]
    },
    {
     "name": "stderr",
     "output_type": "stream",
     "text": [
      "Iterations:   0%|          | 117/25000 [52:54<188:52:06, 27.32s/it]"
     ]
    },
    {
     "name": "stdout",
     "output_type": "stream",
     "text": [
      "reward:  -8\n",
      "epoch 3 saving model\n",
      "reward:  -16\n",
      "reward:  -3\n",
      "reward:  -3\n",
      "reward:  -7\n",
      "reward:  2\n",
      "reward:  -3\n",
      "reward:  -8\n",
      "reward:  -12\n",
      "reward:  -12\n"
     ]
    },
    {
     "name": "stderr",
     "output_type": "stream",
     "text": [
      "Iterations:   0%|          | 118/25000 [53:20<186:03:21, 26.92s/it]"
     ]
    },
    {
     "name": "stdout",
     "output_type": "stream",
     "text": [
      "reward:  2\n",
      "epoch 3 saving model\n",
      "reward:  -3\n",
      "reward:  -7\n",
      "reward:  2\n",
      "reward:  2\n",
      "reward:  -3\n",
      "reward:  -8\n",
      "reward:  -12\n",
      "reward:  -7\n",
      "reward:  -3\n"
     ]
    },
    {
     "name": "stderr",
     "output_type": "stream",
     "text": [
      "Iterations:   0%|          | 119/25000 [53:49<191:31:32, 27.71s/it]"
     ]
    },
    {
     "name": "stdout",
     "output_type": "stream",
     "text": [
      "reward:  -8\n",
      "epoch 3 saving model\n",
      "reward:  -12\n",
      "reward:  3\n",
      "reward:  -3\n",
      "reward:  -7\n",
      "reward:  -3\n",
      "reward:  -8\n",
      "reward:  -12\n",
      "reward:  -12\n",
      "reward:  -3\n"
     ]
    },
    {
     "name": "stderr",
     "output_type": "stream",
     "text": [
      "Iterations:   0%|          | 120/25000 [54:17<191:57:41, 27.78s/it]"
     ]
    },
    {
     "name": "stdout",
     "output_type": "stream",
     "text": [
      "reward:  -7\n",
      "epoch 3 saving model\n",
      "reward:  -3\n",
      "reward:  -3\n",
      "reward:  -7\n",
      "reward:  -3\n",
      "reward:  2\n",
      "reward:  -8\n",
      "reward:  -2\n",
      "reward:  -12\n",
      "reward:  7\n"
     ]
    },
    {
     "name": "stderr",
     "output_type": "stream",
     "text": [
      "Iterations:   0%|          | 121/25000 [54:43<187:27:30, 27.13s/it]"
     ]
    },
    {
     "name": "stdout",
     "output_type": "stream",
     "text": [
      "reward:  -12\n",
      "epoch 3 saving model\n",
      "reward:  -12\n",
      "reward:  7\n",
      "reward:  2\n",
      "reward:  -3\n",
      "reward:  -3\n",
      "reward:  -12\n",
      "reward:  -3\n",
      "reward:  -12\n",
      "reward:  -3\n"
     ]
    },
    {
     "name": "stderr",
     "output_type": "stream",
     "text": [
      "Iterations:   0%|          | 122/25000 [55:09<186:49:08, 27.03s/it]"
     ]
    },
    {
     "name": "stdout",
     "output_type": "stream",
     "text": [
      "reward:  3\n",
      "epoch 3 saving model\n",
      "reward:  -12\n",
      "reward:  -7\n",
      "reward:  -3\n",
      "reward:  7\n",
      "reward:  2\n",
      "reward:  2\n",
      "reward:  2\n",
      "reward:  2\n",
      "reward:  2\n"
     ]
    },
    {
     "name": "stderr",
     "output_type": "stream",
     "text": [
      "Iterations:   0%|          | 123/25000 [55:37<188:07:29, 27.22s/it]"
     ]
    },
    {
     "name": "stdout",
     "output_type": "stream",
     "text": [
      "reward:  -3\n",
      "epoch 3 saving model\n",
      "reward:  -8\n",
      "reward:  -12\n",
      "reward:  -7\n",
      "reward:  -3\n",
      "reward:  -3\n",
      "reward:  3\n",
      "reward:  -8\n",
      "reward:  -12\n",
      "reward:  -7\n"
     ]
    },
    {
     "name": "stderr",
     "output_type": "stream",
     "text": [
      "Iterations:   0%|          | 124/25000 [56:05<189:16:16, 27.39s/it]"
     ]
    },
    {
     "name": "stdout",
     "output_type": "stream",
     "text": [
      "reward:  -3\n",
      "epoch 3 saving model\n",
      "reward:  -3\n",
      "reward:  -7\n",
      "reward:  -3\n",
      "reward:  -3\n",
      "reward:  -7\n",
      "reward:  -3\n",
      "reward:  -3\n",
      "reward:  -12\n",
      "reward:  -8\n"
     ]
    },
    {
     "name": "stderr",
     "output_type": "stream",
     "text": [
      "Iterations:   0%|          | 125/25000 [56:33<189:43:33, 27.46s/it]"
     ]
    },
    {
     "name": "stdout",
     "output_type": "stream",
     "text": [
      "reward:  -12\n",
      "epoch 3 saving model\n",
      "reward:  -7\n",
      "reward:  12\n",
      "reward:  -3\n",
      "reward:  -7\n",
      "reward:  -8\n",
      "reward:  2\n",
      "reward:  -12\n",
      "reward:  -8\n",
      "reward:  -12\n"
     ]
    },
    {
     "name": "stderr",
     "output_type": "stream",
     "text": [
      "Iterations:   1%|          | 126/25000 [56:57<183:12:06, 26.51s/it]"
     ]
    },
    {
     "name": "stdout",
     "output_type": "stream",
     "text": [
      "reward:  -7\n",
      "epoch 3 saving model\n",
      "reward:  -3\n",
      "reward:  -3\n",
      "reward:  -7\n",
      "reward:  12\n",
      "reward:  -3\n",
      "reward:  3\n",
      "reward:  -8\n",
      "reward:  -12\n",
      "reward:  -12\n"
     ]
    },
    {
     "name": "stderr",
     "output_type": "stream",
     "text": [
      "Iterations:   1%|          | 127/25000 [57:21<179:10:54, 25.93s/it]"
     ]
    },
    {
     "name": "stdout",
     "output_type": "stream",
     "text": [
      "reward:  -8\n",
      "epoch 3 saving model\n",
      "reward:  -12\n",
      "reward:  -7\n",
      "reward:  7\n",
      "reward:  -8\n",
      "reward:  -16\n",
      "reward:  2\n",
      "reward:  -3\n",
      "reward:  -3\n",
      "reward:  -12\n"
     ]
    },
    {
     "name": "stderr",
     "output_type": "stream",
     "text": [
      "Iterations:   1%|          | 128/25000 [57:48<179:33:26, 25.99s/it]"
     ]
    },
    {
     "name": "stdout",
     "output_type": "stream",
     "text": [
      "reward:  -3\n",
      "epoch 3 saving model\n",
      "reward:  -7\n",
      "reward:  7\n",
      "reward:  -8\n",
      "reward:  -16\n",
      "reward:  12\n",
      "reward:  -3\n",
      "reward:  -12\n",
      "reward:  -8\n",
      "reward:  -12\n"
     ]
    },
    {
     "name": "stderr",
     "output_type": "stream",
     "text": [
      "Iterations:   1%|          | 129/25000 [58:16<185:14:33, 26.81s/it]"
     ]
    },
    {
     "name": "stdout",
     "output_type": "stream",
     "text": [
      "reward:  -12\n",
      "epoch 3 saving model\n",
      "reward:  -8\n",
      "reward:  -12\n",
      "reward:  -12\n",
      "reward:  -3\n",
      "reward:  -12\n",
      "reward:  -8\n",
      "reward:  -12\n",
      "reward:  -7\n",
      "reward:  -3\n"
     ]
    },
    {
     "name": "stderr",
     "output_type": "stream",
     "text": [
      "Iterations:   1%|          | 130/25000 [58:45<189:47:11, 27.47s/it]"
     ]
    },
    {
     "name": "stdout",
     "output_type": "stream",
     "text": [
      "reward:  -3\n",
      "epoch 3 saving model\n",
      "reward:  -7\n",
      "reward:  -3\n",
      "reward:  -8\n",
      "reward:  -12\n",
      "reward:  -12\n",
      "reward:  -8\n",
      "reward:  -12\n",
      "reward:  -12\n",
      "reward:  -8\n"
     ]
    },
    {
     "name": "stderr",
     "output_type": "stream",
     "text": [
      "Iterations:   1%|          | 131/25000 [59:13<189:50:09, 27.48s/it]"
     ]
    },
    {
     "name": "stdout",
     "output_type": "stream",
     "text": [
      "reward:  -12\n",
      "epoch 3 saving model\n",
      "reward:  -12\n",
      "reward:  -8\n",
      "reward:  -12\n",
      "reward:  -7\n",
      "reward:  -3\n",
      "reward:  -12\n",
      "reward:  -12\n",
      "reward:  3\n",
      "reward:  -3\n"
     ]
    },
    {
     "name": "stderr",
     "output_type": "stream",
     "text": [
      "Iterations:   1%|          | 132/25000 [59:41<190:22:37, 27.56s/it]"
     ]
    },
    {
     "name": "stdout",
     "output_type": "stream",
     "text": [
      "reward:  -7\n",
      "epoch 3 saving model\n",
      "reward:  -3\n",
      "reward:  -8\n",
      "reward:  -12\n",
      "reward:  -12\n",
      "reward:  -12\n",
      "reward:  3\n",
      "reward:  -3\n",
      "reward:  -12\n",
      "reward:  2\n"
     ]
    },
    {
     "name": "stderr",
     "output_type": "stream",
     "text": [
      "Iterations:   1%|          | 133/25000 [1:00:07<188:18:27, 27.26s/it]"
     ]
    },
    {
     "name": "stdout",
     "output_type": "stream",
     "text": [
      "reward:  -3\n",
      "epoch 3 saving model\n",
      "reward:  3\n",
      "reward:  2\n",
      "reward:  -7\n",
      "reward:  -8\n",
      "reward:  2\n",
      "reward:  -7\n",
      "reward:  -3\n",
      "reward:  -8\n",
      "reward:  -12\n"
     ]
    },
    {
     "name": "stderr",
     "output_type": "stream",
     "text": [
      "Iterations:   1%|          | 134/25000 [1:00:31<181:45:08, 26.31s/it]"
     ]
    },
    {
     "name": "stdout",
     "output_type": "stream",
     "text": [
      "reward:  -12\n",
      "epoch 3 saving model\n",
      "reward:  -8\n",
      "reward:  -12\n",
      "reward:  -7\n",
      "reward:  -3\n",
      "reward:  -8\n",
      "reward:  -12\n",
      "reward:  -7\n",
      "reward:  -3\n",
      "reward:  -3\n"
     ]
    },
    {
     "name": "stderr",
     "output_type": "stream",
     "text": [
      "Iterations:   1%|          | 135/25000 [1:00:59<185:04:01, 26.79s/it]"
     ]
    },
    {
     "name": "stdout",
     "output_type": "stream",
     "text": [
      "reward:  -12\n",
      "epoch 3 saving model\n",
      "reward:  -3\n",
      "reward:  -7\n",
      "reward:  -3\n",
      "reward:  -8\n",
      "reward:  -12\n",
      "reward:  -12\n",
      "reward:  -8\n",
      "reward:  -12\n",
      "reward:  -12\n"
     ]
    },
    {
     "name": "stderr",
     "output_type": "stream",
     "text": [
      "Iterations:   1%|          | 136/25000 [1:01:27<187:24:34, 27.13s/it]"
     ]
    },
    {
     "name": "stdout",
     "output_type": "stream",
     "text": [
      "reward:  -7\n",
      "epoch 3 saving model\n",
      "reward:  2\n",
      "reward:  -12\n",
      "reward:  -3\n",
      "reward:  -7\n",
      "reward:  2\n",
      "reward:  2\n",
      "reward:  -3\n",
      "reward:  -8\n",
      "reward:  -12\n"
     ]
    },
    {
     "name": "stderr",
     "output_type": "stream",
     "text": [
      "Iterations:   1%|          | 137/25000 [1:01:54<186:45:25, 27.04s/it]"
     ]
    },
    {
     "name": "stdout",
     "output_type": "stream",
     "text": [
      "reward:  -12\n",
      "epoch 3 saving model\n",
      "reward:  -3\n",
      "reward:  -12\n",
      "reward:  -12\n",
      "reward:  -12\n",
      "reward:  2\n",
      "reward:  -8\n",
      "reward:  -12\n",
      "reward:  -12\n",
      "reward:  -8\n"
     ]
    },
    {
     "name": "stderr",
     "output_type": "stream",
     "text": [
      "Iterations:   1%|          | 138/25000 [1:02:21<186:42:15, 27.03s/it]"
     ]
    },
    {
     "name": "stdout",
     "output_type": "stream",
     "text": [
      "reward:  -12\n",
      "epoch 3 saving model\n",
      "reward:  -7\n",
      "reward:  2\n",
      "reward:  -8\n",
      "reward:  -8\n",
      "reward:  -16\n",
      "reward:  -3\n",
      "reward:  -3\n",
      "reward:  -7\n",
      "reward:  -3\n"
     ]
    },
    {
     "name": "stderr",
     "output_type": "stream",
     "text": [
      "Iterations:   1%|          | 139/25000 [1:02:48<187:39:21, 27.17s/it]"
     ]
    },
    {
     "name": "stdout",
     "output_type": "stream",
     "text": [
      "reward:  -12\n",
      "epoch 3 saving model\n",
      "reward:  -12\n",
      "reward:  -7\n",
      "reward:  -3\n",
      "reward:  -8\n",
      "reward:  -2\n",
      "reward:  12\n",
      "reward:  7\n",
      "reward:  -12\n",
      "reward:  -7\n"
     ]
    },
    {
     "name": "stderr",
     "output_type": "stream",
     "text": [
      "Iterations:   1%|          | 140/25000 [1:03:15<186:21:56, 26.99s/it]"
     ]
    },
    {
     "name": "stdout",
     "output_type": "stream",
     "text": [
      "reward:  -3\n",
      "epoch 3 saving model\n",
      "reward:  -8\n",
      "reward:  -12\n",
      "reward:  -12\n",
      "reward:  -3\n",
      "reward:  -7\n",
      "reward:  7\n",
      "reward:  -8\n",
      "reward:  -16\n",
      "reward:  -3\n"
     ]
    },
    {
     "name": "stderr",
     "output_type": "stream",
     "text": [
      "Iterations:   1%|          | 141/25000 [1:03:42<186:01:59, 26.94s/it]"
     ]
    },
    {
     "name": "stdout",
     "output_type": "stream",
     "text": [
      "reward:  -8\n",
      "epoch 3 saving model\n",
      "reward:  -12\n",
      "reward:  -12\n",
      "reward:  2\n",
      "reward:  -8\n",
      "reward:  -12\n",
      "reward:  -12\n",
      "reward:  -8\n",
      "reward:  -12\n",
      "reward:  -12\n"
     ]
    },
    {
     "name": "stderr",
     "output_type": "stream",
     "text": [
      "Iterations:   1%|          | 142/25000 [1:04:09<187:23:03, 27.14s/it]"
     ]
    },
    {
     "name": "stdout",
     "output_type": "stream",
     "text": [
      "reward:  -3\n",
      "epoch 3 saving model\n",
      "reward:  -16\n",
      "reward:  2\n",
      "reward:  -3\n",
      "reward:  -3\n",
      "reward:  -12\n",
      "reward:  -8\n",
      "reward:  -12\n",
      "reward:  -7\n",
      "reward:  7\n"
     ]
    },
    {
     "name": "stderr",
     "output_type": "stream",
     "text": [
      "Iterations:   1%|          | 143/25000 [1:04:37<189:06:57, 27.39s/it]"
     ]
    },
    {
     "name": "stdout",
     "output_type": "stream",
     "text": [
      "reward:  -8\n",
      "epoch 3 saving model\n",
      "reward:  -16\n",
      "reward:  2\n",
      "reward:  2\n",
      "reward:  -3\n",
      "reward:  -8\n",
      "reward:  -12\n",
      "reward:  -12\n",
      "reward:  -3\n",
      "reward:  -12\n"
     ]
    },
    {
     "name": "stderr",
     "output_type": "stream",
     "text": [
      "Iterations:   1%|          | 144/25000 [1:05:02<183:51:24, 26.63s/it]"
     ]
    },
    {
     "name": "stdout",
     "output_type": "stream",
     "text": [
      "reward:  -8\n",
      "epoch 3 saving model\n",
      "reward:  -2\n",
      "reward:  -8\n",
      "reward:  2\n",
      "reward:  3\n",
      "reward:  -3\n",
      "reward:  -12\n",
      "reward:  2\n",
      "reward:  -12\n",
      "reward:  -12\n"
     ]
    },
    {
     "name": "stderr",
     "output_type": "stream",
     "text": [
      "Iterations:   1%|          | 145/25000 [1:05:29<183:33:15, 26.59s/it]"
     ]
    },
    {
     "name": "stdout",
     "output_type": "stream",
     "text": [
      "reward:  -12\n",
      "epoch 3 saving model\n",
      "reward:  -12\n",
      "reward:  -8\n",
      "reward:  -12\n",
      "reward:  -12\n",
      "reward:  -3\n",
      "reward:  -12\n",
      "reward:  -3\n",
      "reward:  -7\n",
      "reward:  -8\n"
     ]
    },
    {
     "name": "stderr",
     "output_type": "stream",
     "text": [
      "Iterations:   1%|          | 146/25000 [1:05:53<178:29:07, 25.85s/it]"
     ]
    },
    {
     "name": "stdout",
     "output_type": "stream",
     "text": [
      "reward:  2\n",
      "epoch 3 saving model\n",
      "reward:  -7\n",
      "reward:  -3\n",
      "reward:  -8\n",
      "reward:  -12\n",
      "reward:  -7\n",
      "reward:  -8\n",
      "reward:  -8\n",
      "reward:  -16\n"
     ]
    },
    {
     "name": "stderr",
     "output_type": "stream",
     "text": [
      "Iterations:   1%|          | 147/25000 [1:06:17<174:44:48, 25.31s/it]"
     ]
    },
    {
     "name": "stdout",
     "output_type": "stream",
     "text": [
      "reward:  2\n",
      "reward:  -8\n",
      "epoch 3 saving model\n",
      "reward:  -8\n",
      "reward:  -16\n",
      "reward:  12\n",
      "reward:  7\n",
      "reward:  -2\n",
      "reward:  -3\n",
      "reward:  -8\n",
      "reward:  -12\n",
      "reward:  -12\n"
     ]
    },
    {
     "name": "stderr",
     "output_type": "stream",
     "text": [
      "Iterations:   1%|          | 148/25000 [1:06:44<178:03:20, 25.79s/it]"
     ]
    },
    {
     "name": "stdout",
     "output_type": "stream",
     "text": [
      "reward:  -8\n",
      "epoch 3 saving model\n",
      "reward:  -2\n",
      "reward:  12\n",
      "reward:  -8\n",
      "reward:  -12\n",
      "reward:  -12\n",
      "reward:  -3\n",
      "reward:  -12\n",
      "reward:  -8\n",
      "reward:  -12\n"
     ]
    },
    {
     "name": "stderr",
     "output_type": "stream",
     "text": [
      "Iterations:   1%|          | 149/25000 [1:07:12<182:37:53, 26.46s/it]"
     ]
    },
    {
     "name": "stdout",
     "output_type": "stream",
     "text": [
      "reward:  -7\n",
      "epoch 3 saving model\n",
      "reward:  -3\n",
      "reward:  -8\n",
      "reward:  -12\n",
      "reward:  -12\n",
      "reward:  -8\n",
      "reward:  -12\n",
      "reward:  -12\n",
      "reward:  -3\n",
      "reward:  -12\n"
     ]
    },
    {
     "name": "stderr",
     "output_type": "stream",
     "text": [
      "Iterations:   1%|          | 150/25000 [1:07:34<174:42:29, 25.31s/it]"
     ]
    },
    {
     "name": "stdout",
     "output_type": "stream",
     "text": [
      "reward:  7\n",
      "epoch 3 saving model\n",
      "reward:  -12\n",
      "reward:  -12\n",
      "reward:  -3\n",
      "reward:  -7\n",
      "reward:  -3\n",
      "reward:  -8\n",
      "reward:  -12\n",
      "reward:  -12\n",
      "reward:  -8\n"
     ]
    },
    {
     "name": "stderr",
     "output_type": "stream",
     "text": [
      "Iterations:   1%|          | 151/25000 [1:08:01<177:00:30, 25.64s/it]"
     ]
    },
    {
     "name": "stdout",
     "output_type": "stream",
     "text": [
      "reward:  -12\n",
      "epoch 3 saving model\n",
      "reward:  -7\n",
      "reward:  2\n",
      "reward:  -3\n",
      "reward:  -3\n",
      "reward:  -7\n",
      "reward:  -8\n",
      "reward:  -8\n",
      "reward:  -16\n",
      "reward:  2\n"
     ]
    },
    {
     "name": "stderr",
     "output_type": "stream",
     "text": [
      "Iterations:   1%|          | 152/25000 [1:08:26<176:37:26, 25.59s/it]"
     ]
    },
    {
     "name": "stdout",
     "output_type": "stream",
     "text": [
      "reward:  -3\n",
      "epoch 3 saving model\n",
      "reward:  -8\n",
      "reward:  -16\n",
      "reward:  -3\n",
      "reward:  -8\n",
      "reward:  -12\n",
      "reward:  -12\n",
      "reward:  -8\n",
      "reward:  -12\n",
      "reward:  -7\n"
     ]
    },
    {
     "name": "stderr",
     "output_type": "stream",
     "text": [
      "Iterations:   1%|          | 153/25000 [1:08:51<174:38:38, 25.30s/it]"
     ]
    },
    {
     "name": "stdout",
     "output_type": "stream",
     "text": [
      "reward:  2\n",
      "epoch 3 saving model\n",
      "reward:  -3\n",
      "reward:  -3\n",
      "reward:  -12\n",
      "reward:  -8\n",
      "reward:  -12\n",
      "reward:  -7\n",
      "reward:  2\n",
      "reward:  2\n",
      "reward:  12\n"
     ]
    },
    {
     "name": "stderr",
     "output_type": "stream",
     "text": [
      "Iterations:   1%|          | 154/25000 [1:09:19<180:02:16, 26.09s/it]"
     ]
    },
    {
     "name": "stdout",
     "output_type": "stream",
     "text": [
      "reward:  7\n",
      "epoch 3 saving model\n",
      "reward:  -3\n",
      "reward:  -8\n",
      "reward:  -12\n",
      "reward:  -7\n",
      "reward:  2\n",
      "reward:  -3\n",
      "reward:  2\n",
      "reward:  -3\n",
      "reward:  -7\n"
     ]
    },
    {
     "name": "stderr",
     "output_type": "stream",
     "text": [
      "Iterations:   1%|          | 155/25000 [1:09:50<189:50:17, 27.51s/it]"
     ]
    },
    {
     "name": "stdout",
     "output_type": "stream",
     "text": [
      "reward:  -3\n",
      "epoch 3 saving model\n",
      "reward:  -8\n",
      "reward:  -2\n",
      "reward:  -8\n",
      "reward:  2\n",
      "reward:  -12\n",
      "reward:  -3\n",
      "reward:  -12\n",
      "reward:  -8\n",
      "reward:  -12\n"
     ]
    },
    {
     "name": "stderr",
     "output_type": "stream",
     "text": [
      "Iterations:   1%|          | 156/25000 [1:10:14<182:38:52, 26.47s/it]"
     ]
    },
    {
     "name": "stdout",
     "output_type": "stream",
     "text": [
      "reward:  -7\n",
      "epoch 3 saving model\n",
      "reward:  2\n",
      "reward:  -3\n",
      "reward:  7\n",
      "reward:  -8\n",
      "reward:  -8\n",
      "reward:  -16\n",
      "reward:  7\n",
      "reward:  -8\n",
      "reward:  -16\n"
     ]
    },
    {
     "name": "stderr",
     "output_type": "stream",
     "text": [
      "Iterations:   1%|          | 157/25000 [1:10:39<179:16:20, 25.98s/it]"
     ]
    },
    {
     "name": "stdout",
     "output_type": "stream",
     "text": [
      "reward:  3\n",
      "epoch 3 saving model\n",
      "reward:  2\n",
      "reward:  -12\n",
      "reward:  -12\n",
      "reward:  -3\n",
      "reward:  -7\n",
      "reward:  2\n",
      "reward:  2\n",
      "reward:  -3\n",
      "reward:  -3\n"
     ]
    },
    {
     "name": "stderr",
     "output_type": "stream",
     "text": [
      "Iterations:   1%|          | 158/25000 [1:11:04<177:12:31, 25.68s/it]"
     ]
    },
    {
     "name": "stdout",
     "output_type": "stream",
     "text": [
      "reward:  -7\n",
      "epoch 3 saving model\n",
      "reward:  2\n",
      "reward:  -12\n",
      "reward:  7\n",
      "reward:  2\n",
      "reward:  2\n",
      "reward:  -8\n",
      "reward:  -8\n",
      "reward:  -16\n",
      "reward:  2\n"
     ]
    },
    {
     "name": "stderr",
     "output_type": "stream",
     "text": [
      "Iterations:   1%|          | 159/25000 [1:11:29<175:47:55, 25.48s/it]"
     ]
    },
    {
     "name": "stdout",
     "output_type": "stream",
     "text": [
      "reward:  2\n",
      "epoch 3 saving model\n",
      "reward:  2\n",
      "reward:  -3\n",
      "reward:  -12\n",
      "reward:  -7\n",
      "reward:  -8\n",
      "reward:  -8\n",
      "reward:  -16\n",
      "reward:  -8\n",
      "reward:  -8\n"
     ]
    },
    {
     "name": "stderr",
     "output_type": "stream",
     "text": [
      "Iterations:   1%|          | 160/25000 [1:11:56<179:03:46, 25.95s/it]"
     ]
    },
    {
     "name": "stdout",
     "output_type": "stream",
     "text": [
      "reward:  -16\n",
      "epoch 3 saving model\n",
      "reward:  -8\n",
      "reward:  -8\n",
      "reward:  -16\n",
      "reward:  -8\n",
      "reward:  -8\n",
      "reward:  -16\n",
      "reward:  -3\n",
      "reward:  -3\n",
      "reward:  -12\n"
     ]
    },
    {
     "name": "stderr",
     "output_type": "stream",
     "text": [
      "Iterations:   1%|          | 161/25000 [1:12:20<175:34:47, 25.45s/it]"
     ]
    },
    {
     "name": "stdout",
     "output_type": "stream",
     "text": [
      "reward:  -8\n",
      "epoch 3 saving model\n",
      "reward:  -12\n",
      "reward:  -7\n",
      "reward:  -3\n",
      "reward:  7\n",
      "reward:  -3\n",
      "reward:  2\n",
      "reward:  -3\n",
      "reward:  -12\n",
      "reward:  -8\n"
     ]
    },
    {
     "name": "stderr",
     "output_type": "stream",
     "text": [
      "Iterations:   1%|          | 162/25000 [1:12:44<173:42:02, 25.18s/it]"
     ]
    },
    {
     "name": "stdout",
     "output_type": "stream",
     "text": [
      "reward:  -12\n",
      "epoch 3 saving model\n",
      "reward:  -7\n",
      "reward:  -3\n",
      "reward:  2\n",
      "reward:  -8\n",
      "reward:  -12\n",
      "reward:  -12\n",
      "reward:  -8\n",
      "reward:  -12\n",
      "reward:  3\n"
     ]
    },
    {
     "name": "stderr",
     "output_type": "stream",
     "text": [
      "Iterations:   1%|          | 163/25000 [1:13:09<172:38:57, 25.02s/it]"
     ]
    },
    {
     "name": "stdout",
     "output_type": "stream",
     "text": [
      "reward:  -3\n",
      "epoch 3 saving model\n",
      "reward:  -12\n",
      "reward:  -3\n",
      "reward:  -12\n",
      "reward:  -8\n",
      "reward:  -12\n",
      "reward:  -7\n",
      "reward:  -3\n",
      "reward:  7\n",
      "reward:  -12\n"
     ]
    },
    {
     "name": "stderr",
     "output_type": "stream",
     "text": [
      "Iterations:   1%|          | 164/25000 [1:13:32<168:34:00, 24.43s/it]"
     ]
    },
    {
     "name": "stdout",
     "output_type": "stream",
     "text": [
      "reward:  -8\n",
      "epoch 3 saving model\n",
      "reward:  -12\n",
      "reward:  -12\n",
      "reward:  -8\n",
      "reward:  -12\n",
      "reward:  -7\n",
      "reward:  2\n",
      "reward:  12\n",
      "reward:  -3\n",
      "reward:  -7\n"
     ]
    },
    {
     "name": "stderr",
     "output_type": "stream",
     "text": [
      "Iterations:   1%|          | 165/25000 [1:13:56<167:09:01, 24.23s/it]"
     ]
    },
    {
     "name": "stdout",
     "output_type": "stream",
     "text": [
      "reward:  12\n",
      "epoch 3 saving model\n",
      "reward:  -8\n",
      "reward:  -12\n",
      "reward:  -7\n",
      "reward:  -7\n",
      "reward:  -3\n",
      "reward:  -3\n",
      "reward:  -7\n",
      "reward:  12\n",
      "reward:  -8\n"
     ]
    },
    {
     "name": "stderr",
     "output_type": "stream",
     "text": [
      "Iterations:   1%|          | 166/25000 [1:14:19<165:31:46, 24.00s/it]"
     ]
    },
    {
     "name": "stdout",
     "output_type": "stream",
     "text": [
      "reward:  -12\n",
      "epoch 3 saving model\n",
      "reward:  -7\n",
      "reward:  -8\n",
      "reward:  -8\n",
      "reward:  -16\n",
      "reward:  -3\n",
      "reward:  7\n",
      "reward:  -12\n",
      "reward:  3\n",
      "reward:  -3\n"
     ]
    },
    {
     "name": "stderr",
     "output_type": "stream",
     "text": [
      "Iterations:   1%|          | 167/25000 [1:14:43<164:00:13, 23.78s/it]"
     ]
    },
    {
     "name": "stdout",
     "output_type": "stream",
     "text": [
      "reward:  -7\n",
      "epoch 3 saving model\n",
      "reward:  2\n",
      "reward:  -3\n",
      "reward:  -3\n",
      "reward:  -12\n",
      "reward:  -3\n",
      "reward:  -16\n",
      "reward:  -8\n",
      "reward:  -8\n",
      "reward:  -16\n"
     ]
    },
    {
     "name": "stderr",
     "output_type": "stream",
     "text": [
      "Iterations:   1%|          | 168/25000 [1:15:15<181:43:17, 26.34s/it]"
     ]
    },
    {
     "name": "stdout",
     "output_type": "stream",
     "text": [
      "reward:  2\n",
      "epoch 3 saving model\n",
      "reward:  -3\n",
      "reward:  -8\n",
      "reward:  -12\n",
      "reward:  -12\n",
      "reward:  -3\n",
      "reward:  -7\n",
      "reward:  -3\n",
      "reward:  -8\n",
      "reward:  -12\n"
     ]
    },
    {
     "name": "stderr",
     "output_type": "stream",
     "text": [
      "Iterations:   1%|          | 169/25000 [1:15:52<203:20:30, 29.48s/it]"
     ]
    },
    {
     "name": "stdout",
     "output_type": "stream",
     "text": [
      "reward:  -7\n",
      "epoch 3 saving model\n",
      "reward:  -3\n",
      "reward:  -3\n",
      "reward:  -7\n",
      "reward:  2\n",
      "reward:  2\n",
      "reward:  2\n",
      "reward:  -3\n",
      "reward:  -3\n",
      "reward:  -12\n"
     ]
    },
    {
     "name": "stderr",
     "output_type": "stream",
     "text": [
      "Iterations:   1%|          | 170/25000 [1:16:32<225:49:48, 32.74s/it]"
     ]
    },
    {
     "name": "stdout",
     "output_type": "stream",
     "text": [
      "reward:  -3\n",
      "epoch 3 saving model\n",
      "reward:  -16\n",
      "reward:  -3\n",
      "reward:  -3\n",
      "reward:  -7\n",
      "reward:  -3\n",
      "reward:  -8\n",
      "reward:  -12\n",
      "reward:  -12\n",
      "reward:  -8\n"
     ]
    },
    {
     "name": "stderr",
     "output_type": "stream",
     "text": [
      "Iterations:   1%|          | 171/25000 [1:17:14<244:20:56, 35.43s/it]"
     ]
    },
    {
     "name": "stdout",
     "output_type": "stream",
     "text": [
      "reward:  -12\n",
      "epoch 3 saving model\n",
      "reward:  -7\n",
      "reward:  -3\n",
      "reward:  2\n",
      "reward:  -3\n",
      "reward:  -12\n",
      "reward:  -3\n",
      "reward:  -12\n",
      "reward:  -8\n",
      "reward:  -12\n"
     ]
    },
    {
     "name": "stderr",
     "output_type": "stream",
     "text": [
      "Iterations:   1%|          | 172/25000 [1:17:49<243:54:16, 35.37s/it]"
     ]
    },
    {
     "name": "stdout",
     "output_type": "stream",
     "text": [
      "reward:  -7\n",
      "epoch 3 saving model\n",
      "reward:  -12\n",
      "reward:  -8\n",
      "reward:  -12\n",
      "reward:  -7\n",
      "reward:  2\n",
      "reward:  -3\n",
      "reward:  -3\n",
      "reward:  -12\n",
      "reward:  -3\n"
     ]
    },
    {
     "name": "stderr",
     "output_type": "stream",
     "text": [
      "Iterations:   1%|          | 173/25000 [1:18:26<247:59:05, 35.96s/it]"
     ]
    },
    {
     "name": "stdout",
     "output_type": "stream",
     "text": [
      "reward:  -12\n",
      "epoch 3 saving model\n",
      "reward:  7\n",
      "reward:  -12\n",
      "reward:  -7\n",
      "reward:  -3\n",
      "reward:  -8\n",
      "reward:  -2\n",
      "reward:  -3\n",
      "reward:  7\n",
      "reward:  -3\n"
     ]
    },
    {
     "name": "stderr",
     "output_type": "stream",
     "text": [
      "Iterations:   1%|          | 174/25000 [1:18:57<237:05:56, 34.38s/it]"
     ]
    },
    {
     "name": "stdout",
     "output_type": "stream",
     "text": [
      "reward:  -3\n",
      "epoch 3 saving model\n",
      "reward:  -7\n",
      "reward:  -8\n",
      "reward:  12\n",
      "reward:  -7\n",
      "reward:  -12\n",
      "reward:  -12\n",
      "reward:  -3\n",
      "reward:  -12\n",
      "reward:  -3\n"
     ]
    },
    {
     "name": "stderr",
     "output_type": "stream",
     "text": [
      "Iterations:   1%|          | 175/25000 [1:19:26<226:35:00, 32.86s/it]"
     ]
    },
    {
     "name": "stdout",
     "output_type": "stream",
     "text": [
      "reward:  -12\n",
      "epoch 3 saving model\n",
      "reward:  -3\n",
      "reward:  -7\n",
      "reward:  -3\n",
      "reward:  7\n",
      "reward:  -12\n",
      "reward:  -12\n",
      "reward:  -8\n",
      "reward:  -12\n",
      "reward:  -7\n"
     ]
    },
    {
     "name": "stderr",
     "output_type": "stream",
     "text": [
      "Iterations:   1%|          | 176/25000 [1:20:05<238:12:22, 34.54s/it]"
     ]
    },
    {
     "name": "stdout",
     "output_type": "stream",
     "text": [
      "reward:  -3\n",
      "epoch 3 saving model\n",
      "reward:  -8\n",
      "reward:  -12\n",
      "reward:  -12\n",
      "reward:  -8\n",
      "reward:  -12\n",
      "reward:  -7\n",
      "reward:  -8\n",
      "reward:  -8\n",
      "reward:  -16\n"
     ]
    },
    {
     "name": "stderr",
     "output_type": "stream",
     "text": [
      "Iterations:   1%|          | 177/25000 [1:20:40<239:45:07, 34.77s/it]"
     ]
    },
    {
     "name": "stdout",
     "output_type": "stream",
     "text": [
      "reward:  -7\n",
      "epoch 3 saving model\n",
      "reward:  -3\n",
      "reward:  -12\n",
      "reward:  -8\n",
      "reward:  -12\n",
      "reward:  -12\n",
      "reward:  -12\n",
      "reward:  -12\n",
      "reward:  -3\n",
      "reward:  -7\n"
     ]
    },
    {
     "name": "stderr",
     "output_type": "stream",
     "text": [
      "Iterations:   1%|          | 178/25000 [1:21:16<241:41:27, 35.05s/it]"
     ]
    },
    {
     "name": "stdout",
     "output_type": "stream",
     "text": [
      "reward:  -3\n",
      "epoch 3 saving model\n",
      "reward:  7\n",
      "reward:  -12\n",
      "reward:  -12\n",
      "reward:  -8\n",
      "reward:  -12\n",
      "reward:  -12\n",
      "reward:  -8\n",
      "reward:  -12\n",
      "reward:  -12\n"
     ]
    },
    {
     "name": "stderr",
     "output_type": "stream",
     "text": [
      "Iterations:   1%|          | 179/25000 [1:21:55<251:01:56, 36.41s/it]"
     ]
    },
    {
     "name": "stdout",
     "output_type": "stream",
     "text": [
      "reward:  -3\n",
      "epoch 3 saving model\n",
      "reward:  -7\n",
      "reward:  2\n",
      "reward:  2\n",
      "reward:  -3\n",
      "reward:  -8\n",
      "reward:  -12\n",
      "reward:  -12\n",
      "reward:  -8\n",
      "reward:  -12\n"
     ]
    },
    {
     "name": "stderr",
     "output_type": "stream",
     "text": [
      "Iterations:   1%|          | 180/25000 [1:22:34<255:52:40, 37.11s/it]"
     ]
    },
    {
     "name": "stdout",
     "output_type": "stream",
     "text": [
      "reward:  -12\n",
      "epoch 3 saving model\n",
      "reward:  -8\n",
      "reward:  -12\n",
      "reward:  -7\n",
      "reward:  2\n",
      "reward:  -3\n",
      "reward:  -3\n",
      "reward:  -7\n",
      "reward:  -3\n",
      "reward:  -3\n"
     ]
    },
    {
     "name": "stderr",
     "output_type": "stream",
     "text": [
      "Iterations:   1%|          | 181/25000 [1:23:17<268:35:25, 38.96s/it]"
     ]
    },
    {
     "name": "stdout",
     "output_type": "stream",
     "text": [
      "reward:  -7\n",
      "epoch 3 saving model\n",
      "reward:  -3\n",
      "reward:  -8\n",
      "reward:  -12\n",
      "reward:  -7\n",
      "reward:  -3\n",
      "reward:  -3\n",
      "reward:  -7\n",
      "reward:  2\n",
      "reward:  2\n"
     ]
    },
    {
     "name": "stderr",
     "output_type": "stream",
     "text": [
      "Iterations:   1%|          | 182/25000 [1:23:58<272:05:24, 39.47s/it]"
     ]
    },
    {
     "name": "stdout",
     "output_type": "stream",
     "text": [
      "reward:  -3\n",
      "epoch 3 saving model\n",
      "reward:  -3\n",
      "reward:  -12\n",
      "reward:  -3\n",
      "reward:  -12\n",
      "reward:  -3\n",
      "reward:  -7\n",
      "reward:  -3\n"
     ]
    }
   ],
   "source": [
    "from tqdm import tqdm\n",
    "import time\n",
    "\n",
    "\n",
    "metrics = defaultdict(list)\n",
    "    \n",
    "def run(args: Args):\n",
    "    args.batch_size = int(args.num_envs * args.num_steps)\n",
    "    args.minibatch_size = int(args.batch_size // args.num_minibatches)\n",
    "    args.num_iterations = args.total_timesteps // args.batch_size\n",
    "    args.run_name = f\"__{args.exp_name}__{args.seed}__{int(time.time())}\"\n",
    "\n",
    "    writer = SummaryWriter(f\"runs/{args.run_name}\")\n",
    "    writer.add_text(\n",
    "        \"hyperparameters\",\n",
    "        \"|param|value|\\n|-|-|\\n%s\" % (\"\\n\".join([f\"|{key}|{value}|\" for key, value in vars(args).items()])),\n",
    "    )\n",
    "\n",
    "    # seeding\n",
    "    random.seed(args.seed)\n",
    "    np.random.seed(args.seed)\n",
    "    torch.manual_seed(args.seed)\n",
    "    torch.backends.cudnn.deterministic = args.torch_deterministic\n",
    "\n",
    "    device = torch.device(\"cuda\" if torch.cuda.is_available() and args.cuda else \"cpu\")\n",
    "\n",
    "    # env setup\n",
    "    agent = Agent(action_dim=2,model_args=args.model_args).to(device)\n",
    "    envs = ambientes(n=args.num_envs, agent=agent,rewards_function=rewards_function)\n",
    "\n",
    "\n",
    "    optimizer = optim.Adam(agent.parameters(), lr=args.learning_rate, eps=1e-5)\n",
    "\n",
    "\n",
    "    # ALGO Logic: Storage setup\n",
    "    obs = torch.zeros((args.num_steps, args.num_envs) + (15,4)).to(device)\n",
    "    obs_white_ball = torch.zeros((args.num_steps, args.num_envs) + (2,)).to(device)\n",
    "    \n",
    "    actions = torch.zeros((args.num_steps, args.num_envs) + (3,)).to(device)\n",
    "    logprobs = torch.zeros((args.num_steps, args.num_envs)).to(device)\n",
    "    rewards = torch.zeros((args.num_steps, args.num_envs)).to(device)\n",
    "    dones = torch.zeros((args.num_steps, args.num_envs)).to(device)\n",
    "    values = torch.zeros((args.num_steps, args.num_envs)).to(device)\n",
    "\n",
    "\n",
    "\n",
    "\n",
    "    # start the game\n",
    "    global_step = 0\n",
    "    start_time = time.time()\n",
    "    \n",
    "    #next_obs, _ = envs.reset(seed=args.seed)\n",
    "    \n",
    "    next_obs, next_obs_white = envs.reset()\n",
    "    next_done = torch.zeros(args.num_envs).to(device)\n",
    "\n",
    "    # --------------------------------------------------------------------------------\n",
    "\n",
    "    pbar = tqdm(range(1, args.num_iterations + 1), desc=\"Iterations\")\n",
    "    for iteration in pbar:\n",
    "        # annealing the rate if instructed to do so.\n",
    "        if args.anneal_lr:\n",
    "            frac = 1.0 - (iteration - 1.0) / args.num_iterations\n",
    "            lrnow = frac * args.learning_rate\n",
    "            optimizer.param_groups[0][\"lr\"] = lrnow\n",
    "\n",
    "        for step in range(0, args.num_steps):\n",
    "            global_step += args.num_envs\n",
    "            obs[step] = next_obs\n",
    "            obs_white_ball[step] = next_obs_white\n",
    "            \n",
    "            dones[step] = next_done\n",
    "\n",
    "            # action logic\n",
    "            with torch.no_grad():\n",
    "                action, logprob, _, value = agent.get_action_and_value(next_obs, next_obs_white)\n",
    "                values[step] = value.flatten()\n",
    "                \n",
    "            actions[step] = action\n",
    "            logprobs[step] = logprob\n",
    "\n",
    "            # execute the game and log data.\n",
    "            env_action = action[..., 1:]\n",
    "            (next_obs,next_obs_white), infos, next_done, reward = envs.step(env_action)\n",
    "\n",
    "            # \n",
    "            print('reward: ', sum(reward))\n",
    "            rewards[step] = torch.tensor(reward).to(device).view(-1)\n",
    "            next_obs, next_done , next_obs_white = torch.Tensor(next_obs).to(device), torch.Tensor(next_done).to(device), torch.tensor(next_obs_white).to(device)\n",
    "            \n",
    "        \n",
    "            \n",
    "            \n",
    "            \n",
    "            \n",
    "            \n",
    "            \n",
    "            \n",
    "            # TODO: IMPLEMENTAR NO AMBIENTE\n",
    "            \n",
    "            #if \"final_info\" in infos:\n",
    "            #    for info in infos[\"final_info\"]:\n",
    "            #        if info and \"episode\" in info:\n",
    "            #            writer.add_scalar(\"charts/episodic_return\", info[\"episode\"][\"r\"], global_step)\n",
    "            #            writer.add_scalar(\"charts/episodic_length\", info[\"episode\"][\"l\"], global_step)\n",
    "            #            metrics[\"charts/episodic_return\"].append(info[\"episode\"][\"r\"])\n",
    "            #            metrics[\"charts/episodic_length\"].append(info[\"episode\"][\"l\"])\n",
    "            #            pbar.set_postfix_str(f\"step={global_step}, return={info['episode']['r']}\")\n",
    "            \n",
    "            \n",
    "            \n",
    "            \n",
    "        \"\"\"\n",
    "            PASS OK\n",
    "        \"\"\"  \n",
    "\n",
    "\n",
    "\n",
    "        with torch.no_grad():\n",
    "            # bootstrap value if not done\n",
    "            next_value = agent.get_value(next_obs,next_obs_white).reshape(1, -1)\n",
    "            advantages = torch.zeros_like(rewards).to(device)\n",
    "            lastgaelam = 0\n",
    "\n",
    "            # Calculate returns and advantages using GAE\n",
    "            for t in reversed(range(args.num_steps)):\n",
    "                if t == args.num_steps - 1:\n",
    "                    nextnonterminal = 1.0 - next_done\n",
    "                    nextvalues = next_value\n",
    "                else:\n",
    "                    nextnonterminal = 1.0 - dones[t + 1]\n",
    "                    nextvalues = values[t + 1]\n",
    "                delta = rewards[t] + args.gamma * nextvalues * nextnonterminal - values[t]\n",
    "                advantages[t] = lastgaelam = delta + args.gamma * args.gae_lambda * lastgaelam\n",
    "            returns = advantages + values\n",
    "\n",
    "        # flatten the batch\n",
    "        \n",
    "        b_obs = obs.reshape((-1,) + envs.single_observation_space())\n",
    "        b_obs_white = obs_white_ball.reshape((-1,) + envs.single_observation_space_white()).squeeze(1)\n",
    "        \n",
    "        \n",
    "        b_logprobs = logprobs.reshape(-1)\n",
    "        b_actions = actions.reshape((-1,) + envs.single_action_space())\n",
    "        b_advantages = advantages.reshape(-1)\n",
    "        b_returns = returns.reshape(-1)\n",
    "        b_values = values.reshape(-1)\n",
    "\n",
    "        \n",
    "        \n",
    "        # Optimizing the policy and value network\n",
    "        b_inds = np.arange(args.batch_size)\n",
    "        clipfracs = []\n",
    "        for epoch in range(args.update_epochs):\n",
    "            np.random.shuffle(b_inds)\n",
    "            for start in range(0, args.batch_size, args.minibatch_size):\n",
    "                end = start + args.minibatch_size\n",
    "                mb_inds = b_inds[start:end]                \n",
    "\n",
    "                _, newlogprob, entropy, newvalue = agent.get_action_and_value(b_obs[mb_inds], b_obs_white[mb_inds], b_actions[mb_inds])\n",
    "                \n",
    "                \n",
    "                logratio = b_logprobs[mb_inds] - newlogprob\n",
    "                ratio = logratio.exp()\n",
    "\n",
    "                with torch.no_grad():\n",
    "                    # calculate approx_kl http://joschu.net/blog/kl-approx.html\n",
    "                    old_approx_kl = (-logratio).mean()\n",
    "                    approx_kl = ((ratio - 1) - logratio).mean()\n",
    "                    clipfracs += [((ratio - 1.0).abs() > args.clip_coef).float().mean().item()]\n",
    "\n",
    "                mb_advantages = b_advantages[mb_inds]\n",
    "                if args.norm_adv:\n",
    "                    mb_advantages = (mb_advantages - mb_advantages.mean()) / (mb_advantages.std() + 1e-8)\n",
    "\n",
    "                # Policy loss\n",
    "                pg_loss1 = mb_advantages * ratio\n",
    "                pg_loss2 = mb_advantages * torch.clamp(ratio, 1 - args.clip_coef, 1 + args.clip_coef)\n",
    "                pg_loss = torch.min(pg_loss1, pg_loss2).mean()\n",
    "\n",
    "                # Value loss\n",
    "                newvalue = newvalue.view(-1)\n",
    "                if args.clip_vloss:\n",
    "                    v_loss_unclipped = (newvalue - b_returns[mb_inds]) ** 2\n",
    "                    v_clipped = b_values[mb_inds] + torch.clamp(\n",
    "                        newvalue - b_values[mb_inds],\n",
    "                        -args.clip_coef,\n",
    "                        args.clip_coef,\n",
    "                    )\n",
    "                    v_loss_clipped = (v_clipped - b_returns[mb_inds]) ** 2\n",
    "                    v_loss_max = torch.max(v_loss_unclipped, v_loss_clipped)\n",
    "                    v_loss = 0.5 * v_loss_max.mean()\n",
    "                else:\n",
    "                    v_loss = 0.5 * ((newvalue - b_returns[mb_inds]) ** 2).mean()\n",
    "\n",
    "                # Entropy Loss\n",
    "                entropy_loss = entropy.mean()\n",
    "                loss = pg_loss + args.ent_coef * entropy_loss + v_loss * args.vf_coef\n",
    "\n",
    "                optimizer.zero_grad()\n",
    "                loss.backward()\n",
    "                \n",
    "                nn.utils.clip_grad_norm_(agent.parameters(), args.max_grad_norm)\n",
    "                optimizer.step()\n",
    "\n",
    "            if args.target_kl is not None and approx_kl > args.target_kl:\n",
    "                break\n",
    "\n",
    "        y_pred, y_true = b_values.cpu().numpy(), b_returns.cpu().numpy()\n",
    "        var_y = np.var(y_true)\n",
    "        explained_var = np.nan if var_y == 0 else 1 - np.var(y_true - y_pred) / var_y\n",
    "\n",
    "        # TRY NOT TO MODIFY: record rewards for plotting purposes\n",
    "        \n",
    "        writer.add_scalar(\"charts/learning_rate\", optimizer.param_groups[0][\"lr\"], global_step)\n",
    "        writer.add_scalar(\"losses/value_loss\", v_loss.item(), global_step)\n",
    "        writer.add_scalar(\"losses/policy_loss\", pg_loss.item(), global_step)\n",
    "        writer.add_scalar(\"losses/entropy\", entropy_loss.item(), global_step)\n",
    "        writer.add_scalar(\"losses/old_approx_kl\", old_approx_kl.item(), global_step)\n",
    "        writer.add_scalar(\"losses/approx_kl\", approx_kl.item(), global_step)\n",
    "        writer.add_scalar(\"losses/clipfrac\", np.mean(clipfracs), global_step)\n",
    "        writer.add_scalar(\"losses/explained_variance\", explained_var, global_step)\n",
    "        writer.add_scalar(\"charts/SPS\", int(global_step / (time.time() - start_time)), global_step)\n",
    "        writer.add_scalar(\"charts/reward\", np.mean(rewards.cpu().numpy()), global_step)\n",
    "        writer.add_scalar(\"charts/return\", np.mean(returns.cpu().numpy()), global_step)\n",
    "        writer.add_scalar(\"charts/value\", np.mean(values.cpu().numpy()), global_step)\n",
    "        writer.add_scalar(\"charts/advantage\", np.mean(advantages.cpu().numpy()), global_step)\n",
    "        \n",
    "        metrics[\"losses/value_loss\"].append(v_loss.item())\n",
    "        metrics[\"losses/policy_loss\"].append(pg_loss.item())\n",
    "        metrics[\"losses/entropy\"].append(entropy_loss.item())\n",
    "        metrics[\"losses/SPS\"].append(int(global_step / (time.time() - start_time)) )\n",
    "        \n",
    "        \n",
    "        if args.save_model:\n",
    "            print('epoch', epoch, 'saving model')\n",
    "            model_path = f\"runs/{args.run_name}/{args.exp_name}_model_iteration_{iteration}\"\n",
    "            torch.save(agent.state_dict(), model_path)\n",
    "        \n",
    "\n",
    "    # --------------------------------------------------------------------------------\n",
    "\n",
    "    if args.save_model:\n",
    "        model_path = f\"runs/{args.run_name}/{args.exp_name}_model\"\n",
    "        torch.save(agent.state_dict(), model_path)\n",
    "\n",
    "    #envs.close()\n",
    "    \"\"\"\n",
    "    \n",
    "    writer.close()\n",
    "    \n",
    "    # final evaluation\n",
    "    eval_episodes = 3\n",
    "    envs = gym.vector.SyncVectorEnv([make_env(args.env_id, 0, True, args.run_name)])\n",
    "    agent.eval()\n",
    "    obs, _ = envs.reset()\n",
    "    episodic_returns = []\n",
    "    while len(episodic_returns) < eval_episodes:\n",
    "        action, logprob, entropy, value = agent.get_action_and_value(torch.Tensor(obs).to(device))\n",
    "        action = action.cpu().numpy()\n",
    "        next_obs, _, _, _, infos = envs.step(action)\n",
    "        obs = next_obs\n",
    "        if \"final_info\" in infos:\n",
    "            for info in infos[\"final_info\"]:\n",
    "                if \"episode\" not in info:\n",
    "                    continue\n",
    "                print(f\"eval_episode={len(episodic_returns)}, episodic_return={info['episode']['r']}\")\n",
    "                episodic_returns += [info[\"episode\"][\"r\"]]\n",
    "    \n",
    "    return metrics\n",
    "    \"\"\"\n",
    "\n",
    "cfg.use_clock = False\n",
    "run(args)"
   ]
  },
  {
   "cell_type": "code",
   "execution_count": null,
   "metadata": {},
   "outputs": [],
   "source": []
  },
  {
   "cell_type": "code",
   "execution_count": null,
   "metadata": {},
   "outputs": [],
   "source": []
  }
 ],
 "metadata": {
  "kernelspec": {
   "display_name": "Python 3 (ipyflow)",
   "language": "python",
   "name": "ipyflow"
  },
  "language_info": {
   "codemirror_mode": {
    "name": "ipython",
    "version": 3
   },
   "file_extension": ".py",
   "mimetype": "text/x-python",
   "name": "python",
   "nbconvert_exporter": "python",
   "pygments_lexer": "ipython3",
   "version": "3.12.7"
  }
 },
 "nbformat": 4,
 "nbformat_minor": 2
}
