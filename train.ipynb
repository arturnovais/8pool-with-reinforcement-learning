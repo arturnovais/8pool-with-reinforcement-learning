{
 "cells": [
  {
   "cell_type": "code",
   "execution_count": 1,
   "metadata": {},
   "outputs": [
    {
     "name": "stdout",
     "output_type": "stream",
     "text": [
      "WARNING - APLICANDO NORMALIZAÇÃO NO DATASET\n"
     ]
    }
   ],
   "source": [
    "import sys\n",
    "\n",
    "from models.agent import Agent\n",
    "from models.model_transformers import Model_args\n",
    "import pickle\n",
    "import torch\n",
    "\n",
    "\n",
    "dataset = 'dataset\\one_ball.pkl'\n",
    "\n",
    "with open(dataset, 'rb') as f:\n",
    "    dataset = pickle.load(f)\n",
    "    \n",
    "states, states_white, labels = dataset['states'], dataset['states_white'], dataset['label']\n",
    "\n",
    "states_white = [ s.unsqueeze(0) for s in states_white]\n",
    "states = [ s.unsqueeze(0) for s in states]\n",
    "labels = [ s.unsqueeze(0) for s in labels]\n",
    "\n",
    "\n",
    "device = torch.device('cuda' if torch.cuda.is_available() else 'cpu')\n",
    "\n",
    "batch_size = 128\n",
    "\n",
    "states = torch.concatenate(states).to(device)\n",
    "states_white = torch.concatenate(states_white).to(device)\n",
    "labels = torch.concatenate(labels).to(device)\n",
    "\n",
    "\n",
    "model_args = Model_args(\n",
    "    embed_dim = 1024,\n",
    "    num_heads = 8,\n",
    "    ff_dim    = 4*1024,\n",
    "    num_layers =1,\n",
    "    dropout  = 0,\n",
    "    mlp_dim=1024,\n",
    ")\n",
    "\n",
    "\n",
    "agent = Agent(action_dim=2, model_args=model_args).to(device)\n",
    "\n",
    "\n",
    "\n",
    "print(\"WARNING - APLICANDO NORMALIZAÇÃO NO DATASET\")\n",
    "#states[:,:,0] = states[:,:,0] / 800\n",
    "#states[:,:,1] = states[:,:,1] / 400\n",
    "#states_white[:,0] = states_white[:,0] / 800\n",
    "#states_white[:,1] = states_white[:,1] / 400\n",
    "# -------------------------\n",
    "epochs = 10\n",
    "loss = torch.nn.MSELoss()\n",
    "optimizer = torch.optim.Adam(agent.parameters(), lr=0.001)\n",
    "\n",
    "\n",
    "split_idx = 6000\n",
    "test_states = states[split_idx:]\n",
    "test_states_white = states_white[split_idx:]\n",
    "test_labels = labels[split_idx:]\n",
    "train_states = states[:split_idx]\n",
    "train_states_white = states_white[:split_idx]\n",
    "train_labels = labels[:split_idx]"
   ]
  },
  {
   "cell_type": "code",
   "execution_count": 2,
   "metadata": {},
   "outputs": [],
   "source": [
    "    \n",
    "def evaluate(agent):\n",
    "    agent.eval()  # Coloca o modelo em modo de avaliação\n",
    "\n",
    "    with torch.no_grad():\n",
    "        output = agent.actor_mean(test_states, test_states_white)\n",
    "        mse = torch.nn.functional.mse_loss(output[:,0], test_labels[:,0])\n",
    "\n",
    "    return mse.item()\n"
   ]
  },
  {
   "cell_type": "code",
   "execution_count": 9,
   "metadata": {},
   "outputs": [
    {
     "name": "stdout",
     "output_type": "stream",
     "text": [
      " Loss Test: 0.10617955029010773\n"
     ]
    },
    {
     "name": "stderr",
     "output_type": "stream",
     "text": [
      "  0%|          | 0/55 [00:00<?, ?it/s]"
     ]
    },
    {
     "name": "stderr",
     "output_type": "stream",
     "text": [
      "100%|██████████| 55/55 [00:02<00:00, 23.66it/s]\n"
     ]
    },
    {
     "name": "stdout",
     "output_type": "stream",
     "text": [
      "Epoch 0 - Loss: 0.07712698727846146 - Loss Test: 0.16204676032066345\n"
     ]
    },
    {
     "name": "stderr",
     "output_type": "stream",
     "text": [
      "100%|██████████| 55/55 [00:02<00:00, 24.49it/s]\n"
     ]
    },
    {
     "name": "stdout",
     "output_type": "stream",
     "text": [
      "Epoch 1 - Loss: 0.1255646049976349 - Loss Test: 0.08414249867200851\n"
     ]
    },
    {
     "name": "stderr",
     "output_type": "stream",
     "text": [
      "100%|██████████| 55/55 [00:02<00:00, 25.50it/s]\n"
     ]
    },
    {
     "name": "stdout",
     "output_type": "stream",
     "text": [
      "Epoch 2 - Loss: 0.35482585430145264 - Loss Test: 0.41618970036506653\n"
     ]
    },
    {
     "name": "stderr",
     "output_type": "stream",
     "text": [
      "100%|██████████| 55/55 [00:02<00:00, 25.18it/s]\n"
     ]
    },
    {
     "name": "stdout",
     "output_type": "stream",
     "text": [
      "Epoch 3 - Loss: 0.08650097250938416 - Loss Test: 0.1364562064409256\n"
     ]
    },
    {
     "name": "stderr",
     "output_type": "stream",
     "text": [
      "100%|██████████| 55/55 [00:02<00:00, 26.52it/s]\n"
     ]
    },
    {
     "name": "stdout",
     "output_type": "stream",
     "text": [
      "Epoch 4 - Loss: 0.3192104399204254 - Loss Test: 0.1522943526506424\n"
     ]
    },
    {
     "name": "stderr",
     "output_type": "stream",
     "text": [
      "100%|██████████| 55/55 [00:02<00:00, 24.15it/s]\n"
     ]
    },
    {
     "name": "stdout",
     "output_type": "stream",
     "text": [
      "Epoch 5 - Loss: 0.029294831678271294 - Loss Test: 0.13906657695770264\n"
     ]
    },
    {
     "name": "stderr",
     "output_type": "stream",
     "text": [
      "100%|██████████| 55/55 [00:02<00:00, 25.86it/s]\n"
     ]
    },
    {
     "name": "stdout",
     "output_type": "stream",
     "text": [
      "Epoch 6 - Loss: 0.040183503180742264 - Loss Test: 0.12437700480222702\n"
     ]
    },
    {
     "name": "stderr",
     "output_type": "stream",
     "text": [
      "100%|██████████| 55/55 [00:01<00:00, 28.67it/s]\n"
     ]
    },
    {
     "name": "stdout",
     "output_type": "stream",
     "text": [
      "Epoch 7 - Loss: 0.026570064947009087 - Loss Test: 0.13508105278015137\n"
     ]
    },
    {
     "name": "stderr",
     "output_type": "stream",
     "text": [
      "100%|██████████| 55/55 [00:01<00:00, 27.86it/s]\n"
     ]
    },
    {
     "name": "stdout",
     "output_type": "stream",
     "text": [
      "Epoch 8 - Loss: 0.37809908390045166 - Loss Test: 0.17740914225578308\n"
     ]
    },
    {
     "name": "stderr",
     "output_type": "stream",
     "text": [
      "100%|██████████| 55/55 [00:01<00:00, 28.12it/s]"
     ]
    },
    {
     "name": "stdout",
     "output_type": "stream",
     "text": [
      "Epoch 9 - Loss: 0.03994094952940941 - Loss Test: 0.16418500244617462\n"
     ]
    },
    {
     "name": "stderr",
     "output_type": "stream",
     "text": [
      "\n"
     ]
    }
   ],
   "source": [
    "from tqdm import tqdm\n",
    "losses = []\n",
    "losses_test = []\n",
    "\n",
    "losses_test.append(evaluate(agent))\n",
    "print(f\" Loss Test: {losses_test[-1]}\")\n",
    "\n",
    "\n",
    "for epc in range(epochs):\n",
    "    agent.train()\n",
    "    for i in tqdm(range(0, len(states), batch_size)):\n",
    "        batch_states = states[i:i+batch_size]\n",
    "        batch_states_white = states_white[i:i+batch_size]\n",
    "        batch_label = labels[i:i+batch_size]\n",
    "        \n",
    "        output = agent.actor_mean(batch_states, batch_states_white)\n",
    "        output = output[:,0]\n",
    "        batch_label = batch_label[:,0]\n",
    "        loss_value = loss(output, batch_label)\n",
    "        \n",
    "        \n",
    "        optimizer.zero_grad()\n",
    "        loss_value.backward()\n",
    "        optimizer.step()\n",
    "\n",
    "        losses.append(loss_value.item())\n",
    "    \n",
    "    losses_test.append(evaluate(agent))\n",
    "    print(f\"Epoch {epc} - Loss: {losses[-1]} - Loss Test: {losses_test[-1]}\")"
   ]
  },
  {
   "cell_type": "code",
   "execution_count": 4,
   "metadata": {},
   "outputs": [
    {
     "data": {
      "text/plain": [
       "torch.Size([1, 64])"
      ]
     },
     "execution_count": 4,
     "metadata": {},
     "output_type": "execute_result"
    }
   ],
   "source": [
    "x = states[0].unsqueeze(0)\n",
    "bola_branca = states_white[0].unsqueeze(0)\n",
    "b = x.shape[0]\n",
    "        \n",
    "t_concat = torch.zeros(b,2, device=bola_branca.device)\n",
    "t_concat[:,0] = 1\n",
    "t_concat[:,1] = -1\n",
    "\n",
    "bola_branca = torch.concat( (bola_branca , t_concat), dim=-1).unsqueeze(1)\n",
    "x = torch.concat((bola_branca,x),dim=1)\n",
    "\n",
    "# [b, 16, 4]\n",
    "x = x.view(b,-1)\n",
    "x.shape"
   ]
  },
  {
   "cell_type": "code",
   "execution_count": 10,
   "metadata": {},
   "outputs": [
    {
     "data": {
      "text/plain": [
       "[<matplotlib.lines.Line2D at 0x1edadd55990>]"
      ]
     },
     "execution_count": 10,
     "metadata": {},
     "output_type": "execute_result"
    },
    {
     "data": {
      "image/png": "[encoded data removed]",
      "text/plain": [
       "<Figure size 640x480 with 1 Axes>"
      ]
     },
     "metadata": {},
     "output_type": "display_data"
    }
   ],
   "source": [
    "import matplotlib.pyplot as plt \n",
    "\n",
    "plt.plot(losses)"
   ]
  },
  {
   "cell_type": "code",
   "execution_count": 11,
   "metadata": {},
   "outputs": [],
   "source": [
    "# save model\n",
    "torch.save(agent.state_dict(), 'agent_big.pth')"
   ]
  },
  {
   "cell_type": "code",
   "execution_count": 14,
   "metadata": {},
   "outputs": [],
   "source": [
    "from game import GAME\n",
    "env = GAME(draw=True)\n"
   ]
  },
  {
   "cell_type": "code",
   "execution_count": 40,
   "metadata": {},
   "outputs": [
    {
     "name": "stderr",
     "output_type": "stream",
     "text": [
      "C:\\Users\\fazzi\\AppData\\Local\\Temp\\ipykernel_83720\\2084076435.py:4: FutureWarning: You are using `torch.load` with `weights_only=False` (the current default value), which uses the default pickle module implicitly. It is possible to construct malicious pickle data which will execute arbitrary code during unpickling (See https://github.com/pytorch/pytorch/blob/main/SECURITY.md#untrusted-models for more details). In a future release, the default value for `weights_only` will be flipped to `True`. This limits the functions that could be executed during unpickling. Arbitrary objects will no longer be allowed to be loaded via this mode unless they are explicitly allowlisted by the user via `torch.serialization.add_safe_globals`. We recommend you start setting `weights_only=True` for any use case where you don't have full control of the loaded file. Please open an issue on GitHub for any issues related to this experimental feature.\n",
      "  agent2.load_state_dict(torch.load(iteration))\n"
     ]
    },
    {
     "data": {
      "text/plain": [
       "<All keys matched successfully>"
      ]
     },
     "execution_count": 40,
     "metadata": {},
     "output_type": "execute_result"
    }
   ],
   "source": [
    "# load\n",
    "iteration = r\"C:\\CEIA\\RL\\8pool-with-reinforcement-learning\\runs\\__PPO__1__1734357635\\PPO_model_iteration_39\"\n",
    "agent2 = Agent(action_dim=2, model_args=model_args).to(device)\n",
    "agent2.load_state_dict(torch.load(iteration))"
   ]
  },
  {
   "cell_type": "code",
   "execution_count": 45,
   "metadata": {},
   "outputs": [],
   "source": [
    "from curriculum.reset import reset_random_one_ball\n",
    "import matplotlib.pyplot as plt\n",
    "import pickle\n",
    "\n",
    "from tqdm import tqdm\n",
    "\n",
    "# load weights\n",
    "\n",
    "\n",
    "\n",
    "state, state_bola_branca = reset_random_one_ball(env=env)\n",
    "\n",
    "action  = agent2.actor_mean( state.unsqueeze(0), state_bola_branca.unsqueeze(0) )\n",
    "\n",
    "o = env.step(action[0].detach().cpu().numpy().tolist())\n"
   ]
  },
  {
   "cell_type": "code",
   "execution_count": 38,
   "metadata": {},
   "outputs": [
    {
     "data": {
      "text/plain": [
       "{'colisoes': [(<utils.Ball.Ball at 0x1edb342e550>,\n",
       "   <utils.Ball.Ball at 0x1edb3460dd0>)],\n",
       " 'bolas_caidas': [],\n",
       " 'state': [<utils.Ball.Ball at 0x1edb342cd50>,\n",
       "  <utils.Ball.Ball at 0x1edb342e550>,\n",
       "  <utils.Ball.Ball at 0x1edb3460dd0>],\n",
       " 'perdeu': False,\n",
       " 'ganhou': False,\n",
       " 'penalizado': False,\n",
       " 'joga_novamente': False,\n",
       " 'bolas_jogador': [2],\n",
       " 'bolas_adversario': [1],\n",
       " 'winner': None}"
      ]
     },
     "execution_count": 38,
     "metadata": {},
     "output_type": "execute_result"
    }
   ],
   "source": [
    "o[-3]"
   ]
  },
  {
   "cell_type": "code",
   "execution_count": null,
   "metadata": {},
   "outputs": [],
   "source": []
  }
 ],
 "metadata": {
  "kernelspec": {
   "display_name": ".venv",
   "language": "python",
   "name": "python3"
  },
  "language_info": {
   "codemirror_mode": {
    "name": "ipython",
    "version": 3
   },
   "file_extension": ".py",
   "mimetype": "text/x-python",
   "name": "python",
   "nbconvert_exporter": "python",
   "pygments_lexer": "ipython3",
   "version": "3.11.9"
  }
 },
 "nbformat": 4,
 "nbformat_minor": 2
}
