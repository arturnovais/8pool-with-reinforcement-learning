{
 "cells": [
  {
   "cell_type": "code",
   "execution_count": 1,
   "metadata": {},
   "outputs": [
    {
     "name": "stdout",
     "output_type": "stream",
     "text": [
      "WARNING - APLICANDO NORMALIZAÇÃO NO DATASET\n"
     ]
    }
   ],
   "source": [
    "import sys\n",
    "\n",
    "from models.agent import Agent\n",
    "from models.model_transformers import Model_args\n",
    "import pickle\n",
    "import torch\n",
    "\n",
    "\n",
    "dataset = 'dataset\\one_ball.pkl'\n",
    "\n",
    "with open(dataset, 'rb') as f:\n",
    "    dataset = pickle.load(f)\n",
    "    \n",
    "states, states_white, labels = dataset['states'], dataset['states_white'], dataset['label']\n",
    "\n",
    "states_white = [ s.unsqueeze(0) for s in states_white]\n",
    "states = [ s.unsqueeze(0) for s in states]\n",
    "labels = [ s.unsqueeze(0) for s in labels]\n",
    "\n",
    "\n",
    "device = torch.device('cuda' if torch.cuda.is_available() else 'cpu')\n",
    "\n",
    "batch_size = 128\n",
    "\n",
    "states = torch.concatenate(states).to(device)\n",
    "states_white = torch.concatenate(states_white).to(device)\n",
    "labels = torch.concatenate(labels).to(device)\n",
    "\n",
    "\n",
    "model_args = Model_args(\n",
    "    embed_dim = 1024,\n",
    "    num_heads = 8,\n",
    "    ff_dim    = 4*1024,\n",
    "    num_layers =1,\n",
    "    dropout  = 0,\n",
    "    mlp_dim=1024,\n",
    ")\n",
    "\n",
    "\n",
    "agent = Agent(action_dim=2, model_args=Model_args()).to(device)\n",
    "\n",
    "\n",
    "\n",
    "print(\"WARNING - APLICANDO NORMALIZAÇÃO NO DATASET\")\n",
    "states[:,:,0] = states[:,:,0] / 800\n",
    "states[:,:,1] = states[:,:,1] / 400\n",
    "states_white[:,0] = states_white[:,0] / 800\n",
    "states_white[:,1] = states_white[:,1] / 400\n",
    "# -------------------------\n",
    "epochs = 10\n",
    "loss = torch.nn.MSELoss()\n",
    "optimizer = torch.optim.Adam(agent.parameters(), lr=0.001)\n",
    "\n",
    "\n",
    "split_idx = 6000\n",
    "test_states = states[split_idx:]\n",
    "test_states_white = states_white[split_idx:]\n",
    "test_labels = labels[split_idx:]\n",
    "train_states = states[:split_idx]\n",
    "train_states_white = states_white[:split_idx]\n",
    "train_labels = labels[:split_idx]"
   ]
  },
  {
   "cell_type": "code",
   "execution_count": 2,
   "metadata": {},
   "outputs": [],
   "source": [
    "    \n",
    "def evaluate(agent):\n",
    "    agent.eval()  # Coloca o modelo em modo de avaliação\n",
    "\n",
    "    with torch.no_grad():\n",
    "        output = agent.actor_mean(test_states, test_states_white)\n",
    "        mse = torch.nn.functional.mse_loss(output[:,0], test_labels[:,0])\n",
    "\n",
    "    return mse.item()\n"
   ]
  },
  {
   "cell_type": "code",
   "execution_count": 8,
   "metadata": {},
   "outputs": [
    {
     "name": "stdout",
     "output_type": "stream",
     "text": [
      " Loss Test: 0.6294102072715759\n"
     ]
    },
    {
     "name": "stderr",
     "output_type": "stream",
     "text": [
      "100%|██████████| 55/55 [00:05<00:00,  9.80it/s]\n"
     ]
    },
    {
     "name": "stdout",
     "output_type": "stream",
     "text": [
      "Epoch 0 - Loss: 0.1614125818014145 - Loss Test: 0.6172267198562622\n"
     ]
    },
    {
     "name": "stderr",
     "output_type": "stream",
     "text": [
      "100%|██████████| 55/55 [00:05<00:00,  9.73it/s]\n"
     ]
    },
    {
     "name": "stdout",
     "output_type": "stream",
     "text": [
      "Epoch 1 - Loss: 0.3683438301086426 - Loss Test: 0.647821843624115\n"
     ]
    },
    {
     "name": "stderr",
     "output_type": "stream",
     "text": [
      "100%|██████████| 55/55 [00:05<00:00, 10.15it/s]\n"
     ]
    },
    {
     "name": "stdout",
     "output_type": "stream",
     "text": [
      "Epoch 2 - Loss: 0.1582288146018982 - Loss Test: 0.7101115584373474\n"
     ]
    },
    {
     "name": "stderr",
     "output_type": "stream",
     "text": [
      "100%|██████████| 55/55 [00:06<00:00,  8.77it/s]\n"
     ]
    },
    {
     "name": "stdout",
     "output_type": "stream",
     "text": [
      "Epoch 3 - Loss: 0.2030573934316635 - Loss Test: 0.5898323655128479\n"
     ]
    },
    {
     "name": "stderr",
     "output_type": "stream",
     "text": [
      "100%|██████████| 55/55 [00:06<00:00,  8.52it/s]\n"
     ]
    },
    {
     "name": "stdout",
     "output_type": "stream",
     "text": [
      "Epoch 4 - Loss: 0.18433332443237305 - Loss Test: 0.6307364702224731\n"
     ]
    },
    {
     "name": "stderr",
     "output_type": "stream",
     "text": [
      "100%|██████████| 55/55 [00:05<00:00,  9.41it/s]\n"
     ]
    },
    {
     "name": "stdout",
     "output_type": "stream",
     "text": [
      "Epoch 5 - Loss: 0.20180058479309082 - Loss Test: 0.5442530512809753\n"
     ]
    },
    {
     "name": "stderr",
     "output_type": "stream",
     "text": [
      "100%|██████████| 55/55 [00:21<00:00,  2.58it/s]\n"
     ]
    },
    {
     "name": "stdout",
     "output_type": "stream",
     "text": [
      "Epoch 6 - Loss: 0.15495072305202484 - Loss Test: 0.5801306962966919\n"
     ]
    },
    {
     "name": "stderr",
     "output_type": "stream",
     "text": [
      "100%|██████████| 55/55 [00:06<00:00,  8.09it/s]\n"
     ]
    },
    {
     "name": "stdout",
     "output_type": "stream",
     "text": [
      "Epoch 7 - Loss: 0.14470355212688446 - Loss Test: 0.6748741269111633\n"
     ]
    },
    {
     "name": "stderr",
     "output_type": "stream",
     "text": [
      "100%|██████████| 55/55 [00:06<00:00,  8.12it/s]\n"
     ]
    },
    {
     "name": "stdout",
     "output_type": "stream",
     "text": [
      "Epoch 8 - Loss: 0.14452305436134338 - Loss Test: 0.5630258917808533\n"
     ]
    },
    {
     "name": "stderr",
     "output_type": "stream",
     "text": [
      "100%|██████████| 55/55 [00:06<00:00,  8.52it/s]\n"
     ]
    },
    {
     "name": "stdout",
     "output_type": "stream",
     "text": [
      "Epoch 9 - Loss: 0.16775617003440857 - Loss Test: 0.6082899570465088\n"
     ]
    }
   ],
   "source": [
    "from tqdm import tqdm\n",
    "losses = []\n",
    "losses_test = []\n",
    "\n",
    "losses_test.append(evaluate(agent))\n",
    "print(f\" Loss Test: {losses_test[-1]}\")\n",
    "\n",
    "\n",
    "for epc in range(epochs):\n",
    "    agent.train()\n",
    "    for i in tqdm(range(0, len(states), batch_size)):\n",
    "        batch_states = states[i:i+batch_size]\n",
    "        batch_states_white = states_white[i:i+batch_size]\n",
    "        batch_label = labels[i:i+batch_size]\n",
    "        \n",
    "        output = agent.actor_mean(batch_states, batch_states_white)\n",
    "        output = output[:,0]\n",
    "        batch_label = batch_label[:,0]\n",
    "        loss_value = loss(output, batch_label)\n",
    "        \n",
    "        \n",
    "        optimizer.zero_grad()\n",
    "        loss_value.backward()\n",
    "        optimizer.step()\n",
    "\n",
    "        losses.append(loss_value.item())\n",
    "    \n",
    "    losses_test.append(evaluate(agent))\n",
    "    print(f\"Epoch {epc} - Loss: {losses[-1]} - Loss Test: {losses_test[-1]}\")"
   ]
  },
  {
   "cell_type": "code",
   "execution_count": 6,
   "metadata": {},
   "outputs": [
    {
     "data": {
      "text/plain": [
       "torch.Size([1, 64])"
      ]
     },
     "execution_count": 6,
     "metadata": {},
     "output_type": "execute_result"
    }
   ],
   "source": [
    "x = states[0].unsqueeze(0)\n",
    "bola_branca = states_white[0].unsqueeze(0)\n",
    "b = x.shape[0]\n",
    "        \n",
    "t_concat = torch.zeros(b,2, device=bola_branca.device)\n",
    "t_concat[:,0] = 1\n",
    "t_concat[:,1] = -1\n",
    "\n",
    "bola_branca = torch.concat( (bola_branca , t_concat), dim=-1).unsqueeze(1)\n",
    "x = torch.concat((bola_branca,x),dim=1)\n",
    "\n",
    "# [b, 16, 4]\n",
    "x = x.view(b,-1)\n",
    "x.shape"
   ]
  },
  {
   "cell_type": "code",
   "execution_count": 9,
   "metadata": {},
   "outputs": [
    {
     "data": {
      "text/plain": [
       "[<matplotlib.lines.Line2D at 0x1a97afcb710>]"
      ]
     },
     "execution_count": 9,
     "metadata": {},
     "output_type": "execute_result"
    },
    {
     "data": {
      "image/png": "[encoded data removed]",
      "text/plain": [
       "<Figure size 640x480 with 1 Axes>"
      ]
     },
     "metadata": {},
     "output_type": "display_data"
    }
   ],
   "source": [
    "import matplotlib.pyplot as plt \n",
    "\n",
    "plt.plot(losses)"
   ]
  },
  {
   "cell_type": "code",
   "execution_count": 10,
   "metadata": {},
   "outputs": [],
   "source": [
    "# save model\n",
    "torch.save(agent.state_dict(), 'agent_big.pth')"
   ]
  },
  {
   "cell_type": "code",
   "execution_count": null,
   "metadata": {},
   "outputs": [],
   "source": []
  },
  {
   "cell_type": "code",
   "execution_count": null,
   "metadata": {},
   "outputs": [],
   "source": []
  },
  {
   "cell_type": "code",
   "execution_count": null,
   "metadata": {},
   "outputs": [],
   "source": []
  },
  {
   "cell_type": "code",
   "execution_count": null,
   "metadata": {},
   "outputs": [],
   "source": []
  }
 ],
 "metadata": {
  "kernelspec": {
   "display_name": ".venv",
   "language": "python",
   "name": "python3"
  },
  "language_info": {
   "codemirror_mode": {
    "name": "ipython",
    "version": 3
   },
   "file_extension": ".py",
   "mimetype": "text/x-python",
   "name": "python",
   "nbconvert_exporter": "python",
   "pygments_lexer": "ipython3",
   "version": "3.11.9"
  }
 },
 "nbformat": 4,
 "nbformat_minor": 2
}
