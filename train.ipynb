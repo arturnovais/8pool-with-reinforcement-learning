{
 "cells": [
  {
   "cell_type": "code",
   "execution_count": 23,
   "metadata": {},
   "outputs": [],
   "source": [
    "import sys\n",
    "\n",
    "from models.agent import Agent\n",
    "from models.model_transformers import Model_args\n",
    "import pickle\n",
    "import torch\n",
    "\n",
    "\n",
    "dataset = 'dataset/one_ball.pkl'\n",
    "\n",
    "with open(dataset, 'rb') as f:\n",
    "    dataset = pickle.load(f)\n",
    "    \n",
    "states, states_white, labels = dataset['states'], dataset['states_white'], dataset['label']\n",
    "\n",
    "states_white = [ s.unsqueeze(0) for s in states_white]\n",
    "states = [ s.unsqueeze(0) for s in states]\n",
    "labels = [ s.unsqueeze(0) for s in labels]\n",
    "\n",
    "\n",
    "device = torch.device('cuda' if torch.cuda.is_available() else 'cpu')\n",
    "\n",
    "batch_size = 256\n",
    "\n",
    "states = torch.concatenate(states).to(device)\n",
    "states_white = torch.concatenate(states_white).to(device)\n",
    "labels = torch.concatenate(labels).to(device)\n",
    "\n",
    "\n",
    "model_args = Model_args(\n",
    "    embed_dim = 128,\n",
    "    num_heads = 4,\n",
    "    ff_dim    = 256,\n",
    "    num_layers =2,\n",
    "    dropout  = 0,\n",
    "    mlp_dim=128,\n",
    ")\n",
    "\n",
    "\n",
    "agent = Agent(action_dim=2, model_args=model_args).to(device)\n",
    "\n",
    "\n",
    "\n",
    "#print(\"WARNING - APLICANDO NORMALIZAÇÃO NO DATASET\")\n",
    "#states[:,:,0] = states[:,:,0] / 800\n",
    "#states[:,:,1] = states[:,:,1] / 400\n",
    "#states_white[:,0] = states_white[:,0] / 800\n",
    "#states_white[:,1] = states_white[:,1] / 400\n",
    "# -------------------------\n",
    "epochs = 50\n",
    "loss = torch.nn.MSELoss()\n",
    "optimizer = torch.optim.Adam(agent.parameters(), lr=0.001)\n",
    "\n",
    "\n",
    "split_idx = 14000\n",
    "test_states = states[split_idx:]\n",
    "test_states_white = states_white[split_idx:]\n",
    "test_labels = labels[split_idx:]\n",
    "train_states = states[:split_idx]\n",
    "train_states_white = states_white[:split_idx]\n",
    "train_labels = labels[:split_idx]"
   ]
  },
  {
   "cell_type": "code",
   "execution_count": 24,
   "metadata": {},
   "outputs": [],
   "source": [
    "    \n",
    "def evaluate(agent):\n",
    "    agent.eval()  # Coloca o modelo em modo de avaliação\n",
    "\n",
    "    with torch.no_grad():\n",
    "        output = agent.actor_mean(test_states, test_states_white)\n",
    "        mse = torch.nn.functional.mse_loss(output[:,0], test_labels[:,0])\n",
    "\n",
    "    return mse.item()\n"
   ]
  },
  {
   "cell_type": "code",
<<<<<<< HEAD
   "execution_count": 8,
=======
   "execution_count": 25,
>>>>>>> 504dcc1eeeb0c76debc584415f1dca14a335593e
   "metadata": {},
   "outputs": [
    {
     "name": "stdout",
     "output_type": "stream",
     "text": [
<<<<<<< HEAD
      " Loss Test: 0.6294102072715759\n"
=======
      " Loss Test: 3.7060179710388184\n"
>>>>>>> 504dcc1eeeb0c76debc584415f1dca14a335593e
     ]
    },
    {
     "name": "stderr",
     "output_type": "stream",
     "text": [
<<<<<<< HEAD
      "100%|██████████| 55/55 [00:05<00:00,  9.80it/s]\n"
=======
      "100%|██████████| 59/59 [00:04<00:00, 14.00it/s]\n"
>>>>>>> 504dcc1eeeb0c76debc584415f1dca14a335593e
     ]
    },
    {
     "name": "stdout",
     "output_type": "stream",
     "text": [
<<<<<<< HEAD
      "Epoch 0 - Loss: 0.1614125818014145 - Loss Test: 0.6172267198562622\n"
=======
      "Epoch 0 - Loss: 2.7780258655548096 - Loss Test: 2.5777459144592285\n"
>>>>>>> 504dcc1eeeb0c76debc584415f1dca14a335593e
     ]
    },
    {
     "name": "stderr",
     "output_type": "stream",
     "text": [
<<<<<<< HEAD
      "100%|██████████| 55/55 [00:05<00:00,  9.73it/s]\n"
=======
      "100%|██████████| 59/59 [00:04<00:00, 14.49it/s]\n"
>>>>>>> 504dcc1eeeb0c76debc584415f1dca14a335593e
     ]
    },
    {
     "name": "stdout",
     "output_type": "stream",
     "text": [
<<<<<<< HEAD
      "Epoch 1 - Loss: 0.3683438301086426 - Loss Test: 0.647821843624115\n"
=======
      "Epoch 1 - Loss: 1.946415901184082 - Loss Test: 2.0201053619384766\n"
>>>>>>> 504dcc1eeeb0c76debc584415f1dca14a335593e
     ]
    },
    {
     "name": "stderr",
     "output_type": "stream",
     "text": [
<<<<<<< HEAD
      "100%|██████████| 55/55 [00:05<00:00, 10.15it/s]\n"
=======
      "100%|██████████| 59/59 [00:04<00:00, 13.85it/s]\n"
>>>>>>> 504dcc1eeeb0c76debc584415f1dca14a335593e
     ]
    },
    {
     "name": "stdout",
     "output_type": "stream",
     "text": [
<<<<<<< HEAD
      "Epoch 2 - Loss: 0.1582288146018982 - Loss Test: 0.7101115584373474\n"
=======
      "Epoch 2 - Loss: 1.8456544876098633 - Loss Test: 1.8197003602981567\n"
>>>>>>> 504dcc1eeeb0c76debc584415f1dca14a335593e
     ]
    },
    {
     "name": "stderr",
     "output_type": "stream",
     "text": [
<<<<<<< HEAD
      "100%|██████████| 55/55 [00:06<00:00,  8.77it/s]\n"
=======
      "100%|██████████| 59/59 [00:04<00:00, 14.22it/s]\n"
>>>>>>> 504dcc1eeeb0c76debc584415f1dca14a335593e
     ]
    },
    {
     "name": "stdout",
     "output_type": "stream",
     "text": [
<<<<<<< HEAD
      "Epoch 3 - Loss: 0.2030573934316635 - Loss Test: 0.5898323655128479\n"
=======
      "Epoch 3 - Loss: 1.7667720317840576 - Loss Test: 1.6721266508102417\n"
>>>>>>> 504dcc1eeeb0c76debc584415f1dca14a335593e
     ]
    },
    {
     "name": "stderr",
     "output_type": "stream",
     "text": [
<<<<<<< HEAD
      "100%|██████████| 55/55 [00:06<00:00,  8.52it/s]\n"
=======
      "100%|██████████| 59/59 [00:04<00:00, 13.49it/s]\n"
>>>>>>> 504dcc1eeeb0c76debc584415f1dca14a335593e
     ]
    },
    {
     "name": "stdout",
     "output_type": "stream",
     "text": [
<<<<<<< HEAD
      "Epoch 4 - Loss: 0.18433332443237305 - Loss Test: 0.6307364702224731\n"
=======
      "Epoch 4 - Loss: 1.6821489334106445 - Loss Test: 1.5387485027313232\n"
>>>>>>> 504dcc1eeeb0c76debc584415f1dca14a335593e
     ]
    },
    {
     "name": "stderr",
     "output_type": "stream",
     "text": [
<<<<<<< HEAD
      "100%|██████████| 55/55 [00:05<00:00,  9.41it/s]\n"
=======
      "100%|██████████| 59/59 [00:04<00:00, 14.04it/s]\n"
>>>>>>> 504dcc1eeeb0c76debc584415f1dca14a335593e
     ]
    },
    {
     "name": "stdout",
     "output_type": "stream",
     "text": [
<<<<<<< HEAD
      "Epoch 5 - Loss: 0.20180058479309082 - Loss Test: 0.5442530512809753\n"
=======
      "Epoch 5 - Loss: 1.5363644361495972 - Loss Test: 1.3774536848068237\n"
>>>>>>> 504dcc1eeeb0c76debc584415f1dca14a335593e
     ]
    },
    {
     "name": "stderr",
     "output_type": "stream",
     "text": [
<<<<<<< HEAD
      "100%|██████████| 55/55 [00:21<00:00,  2.58it/s]\n"
=======
      "100%|██████████| 59/59 [00:03<00:00, 15.07it/s]\n"
>>>>>>> 504dcc1eeeb0c76debc584415f1dca14a335593e
     ]
    },
    {
     "name": "stdout",
     "output_type": "stream",
     "text": [
<<<<<<< HEAD
      "Epoch 6 - Loss: 0.15495072305202484 - Loss Test: 0.5801306962966919\n"
=======
      "Epoch 6 - Loss: 1.4993081092834473 - Loss Test: 1.2554566860198975\n"
>>>>>>> 504dcc1eeeb0c76debc584415f1dca14a335593e
     ]
    },
    {
     "name": "stderr",
     "output_type": "stream",
     "text": [
<<<<<<< HEAD
      "100%|██████████| 55/55 [00:06<00:00,  8.09it/s]\n"
=======
      "100%|██████████| 59/59 [00:04<00:00, 13.52it/s]\n"
>>>>>>> 504dcc1eeeb0c76debc584415f1dca14a335593e
     ]
    },
    {
     "name": "stdout",
     "output_type": "stream",
     "text": [
<<<<<<< HEAD
      "Epoch 7 - Loss: 0.14470355212688446 - Loss Test: 0.6748741269111633\n"
=======
      "Epoch 7 - Loss: 1.3864243030548096 - Loss Test: 1.1117976903915405\n"
>>>>>>> 504dcc1eeeb0c76debc584415f1dca14a335593e
     ]
    },
    {
     "name": "stderr",
     "output_type": "stream",
     "text": [
<<<<<<< HEAD
      "100%|██████████| 55/55 [00:06<00:00,  8.12it/s]\n"
=======
      "100%|██████████| 59/59 [00:04<00:00, 13.39it/s]\n"
>>>>>>> 504dcc1eeeb0c76debc584415f1dca14a335593e
     ]
    },
    {
     "name": "stdout",
     "output_type": "stream",
     "text": [
<<<<<<< HEAD
      "Epoch 8 - Loss: 0.14452305436134338 - Loss Test: 0.5630258917808533\n"
=======
      "Epoch 8 - Loss: 1.3791477680206299 - Loss Test: 1.072182059288025\n"
>>>>>>> 504dcc1eeeb0c76debc584415f1dca14a335593e
     ]
    },
    {
     "name": "stderr",
     "output_type": "stream",
     "text": [
<<<<<<< HEAD
      "100%|██████████| 55/55 [00:06<00:00,  8.52it/s]\n"
=======
      "100%|██████████| 59/59 [00:04<00:00, 13.09it/s]\n"
>>>>>>> 504dcc1eeeb0c76debc584415f1dca14a335593e
     ]
    },
    {
     "name": "stdout",
     "output_type": "stream",
     "text": [
<<<<<<< HEAD
      "Epoch 9 - Loss: 0.16775617003440857 - Loss Test: 0.6082899570465088\n"
=======
      "Epoch 9 - Loss: 1.2986725568771362 - Loss Test: 1.1106348037719727\n"
     ]
    },
    {
     "name": "stderr",
     "output_type": "stream",
     "text": [
      "100%|██████████| 59/59 [00:03<00:00, 16.72it/s]\n"
     ]
    },
    {
     "name": "stdout",
     "output_type": "stream",
     "text": [
      "Epoch 10 - Loss: 1.0484896898269653 - Loss Test: 1.2085047960281372\n"
     ]
    },
    {
     "name": "stderr",
     "output_type": "stream",
     "text": [
      "100%|██████████| 59/59 [00:03<00:00, 16.37it/s]\n"
     ]
    },
    {
     "name": "stdout",
     "output_type": "stream",
     "text": [
      "Epoch 11 - Loss: 0.9989051818847656 - Loss Test: 1.0250247716903687\n"
     ]
    },
    {
     "name": "stderr",
     "output_type": "stream",
     "text": [
      "100%|██████████| 59/59 [00:04<00:00, 13.27it/s]\n"
     ]
    },
    {
     "name": "stdout",
     "output_type": "stream",
     "text": [
      "Epoch 12 - Loss: 0.924372136592865 - Loss Test: 0.9177011847496033\n"
     ]
    },
    {
     "name": "stderr",
     "output_type": "stream",
     "text": [
      "100%|██████████| 59/59 [00:03<00:00, 16.72it/s]\n"
     ]
    },
    {
     "name": "stdout",
     "output_type": "stream",
     "text": [
      "Epoch 13 - Loss: 0.8251908421516418 - Loss Test: 0.8613892197608948\n"
     ]
    },
    {
     "name": "stderr",
     "output_type": "stream",
     "text": [
      "100%|██████████| 59/59 [00:03<00:00, 16.20it/s]\n"
     ]
    },
    {
     "name": "stdout",
     "output_type": "stream",
     "text": [
      "Epoch 14 - Loss: 0.7338525056838989 - Loss Test: 0.8772268891334534\n"
     ]
    },
    {
     "name": "stderr",
     "output_type": "stream",
     "text": [
      "100%|██████████| 59/59 [00:03<00:00, 16.21it/s]\n"
     ]
    },
    {
     "name": "stdout",
     "output_type": "stream",
     "text": [
      "Epoch 15 - Loss: 0.6905477643013 - Loss Test: 0.8328368067741394\n"
     ]
    },
    {
     "name": "stderr",
     "output_type": "stream",
     "text": [
      "100%|██████████| 59/59 [00:03<00:00, 16.82it/s]\n"
     ]
    },
    {
     "name": "stdout",
     "output_type": "stream",
     "text": [
      "Epoch 16 - Loss: 0.7185709476470947 - Loss Test: 0.7641663551330566\n"
     ]
    },
    {
     "name": "stderr",
     "output_type": "stream",
     "text": [
      "100%|██████████| 59/59 [00:03<00:00, 17.10it/s]\n"
     ]
    },
    {
     "name": "stdout",
     "output_type": "stream",
     "text": [
      "Epoch 17 - Loss: 0.6722943186759949 - Loss Test: 0.6949763894081116\n"
     ]
    },
    {
     "name": "stderr",
     "output_type": "stream",
     "text": [
      "100%|██████████| 59/59 [00:03<00:00, 15.69it/s]\n"
     ]
    },
    {
     "name": "stdout",
     "output_type": "stream",
     "text": [
      "Epoch 18 - Loss: 0.5763494372367859 - Loss Test: 0.7117083668708801\n"
     ]
    },
    {
     "name": "stderr",
     "output_type": "stream",
     "text": [
      "100%|██████████| 59/59 [00:03<00:00, 16.58it/s]\n"
     ]
    },
    {
     "name": "stdout",
     "output_type": "stream",
     "text": [
      "Epoch 19 - Loss: 0.5871229767799377 - Loss Test: 0.7015414834022522\n"
     ]
    },
    {
     "name": "stderr",
     "output_type": "stream",
     "text": [
      "100%|██████████| 59/59 [00:03<00:00, 16.61it/s]\n"
     ]
    },
    {
     "name": "stdout",
     "output_type": "stream",
     "text": [
      "Epoch 20 - Loss: 0.5504080057144165 - Loss Test: 0.69072425365448\n"
     ]
    },
    {
     "name": "stderr",
     "output_type": "stream",
     "text": [
      "100%|██████████| 59/59 [00:03<00:00, 16.55it/s]\n"
     ]
    },
    {
     "name": "stdout",
     "output_type": "stream",
     "text": [
      "Epoch 21 - Loss: 0.5309578776359558 - Loss Test: 0.6476569771766663\n"
     ]
    },
    {
     "name": "stderr",
     "output_type": "stream",
     "text": [
      "100%|██████████| 59/59 [00:03<00:00, 16.49it/s]\n"
     ]
    },
    {
     "name": "stdout",
     "output_type": "stream",
     "text": [
      "Epoch 22 - Loss: 0.555142879486084 - Loss Test: 0.6153392195701599\n"
     ]
    },
    {
     "name": "stderr",
     "output_type": "stream",
     "text": [
      "100%|██████████| 59/59 [00:03<00:00, 16.21it/s]\n"
     ]
    },
    {
     "name": "stdout",
     "output_type": "stream",
     "text": [
      "Epoch 23 - Loss: 0.7439706325531006 - Loss Test: 0.5443152189254761\n"
     ]
    },
    {
     "name": "stderr",
     "output_type": "stream",
     "text": [
      "100%|██████████| 59/59 [00:03<00:00, 15.38it/s]\n"
     ]
    },
    {
     "name": "stdout",
     "output_type": "stream",
     "text": [
      "Epoch 24 - Loss: 0.705413818359375 - Loss Test: 0.5572931170463562\n"
     ]
    },
    {
     "name": "stderr",
     "output_type": "stream",
     "text": [
      "100%|██████████| 59/59 [00:03<00:00, 16.76it/s]\n"
     ]
    },
    {
     "name": "stdout",
     "output_type": "stream",
     "text": [
      "Epoch 25 - Loss: 0.5538376569747925 - Loss Test: 0.6520857214927673\n"
     ]
    },
    {
     "name": "stderr",
     "output_type": "stream",
     "text": [
      "100%|██████████| 59/59 [00:03<00:00, 15.36it/s]\n"
     ]
    },
    {
     "name": "stdout",
     "output_type": "stream",
     "text": [
      "Epoch 26 - Loss: 0.8649453520774841 - Loss Test: 0.592054009437561\n"
     ]
    },
    {
     "name": "stderr",
     "output_type": "stream",
     "text": [
      "100%|██████████| 59/59 [00:03<00:00, 15.64it/s]\n"
     ]
    },
    {
     "name": "stdout",
     "output_type": "stream",
     "text": [
      "Epoch 27 - Loss: 0.7298555970191956 - Loss Test: 0.6178493499755859\n"
     ]
    },
    {
     "name": "stderr",
     "output_type": "stream",
     "text": [
      "100%|██████████| 59/59 [00:03<00:00, 15.99it/s]\n"
     ]
    },
    {
     "name": "stdout",
     "output_type": "stream",
     "text": [
      "Epoch 28 - Loss: 0.4766828715801239 - Loss Test: 0.5947167277336121\n"
     ]
    },
    {
     "name": "stderr",
     "output_type": "stream",
     "text": [
      "100%|██████████| 59/59 [00:03<00:00, 16.45it/s]\n"
     ]
    },
    {
     "name": "stdout",
     "output_type": "stream",
     "text": [
      "Epoch 29 - Loss: 0.44857844710350037 - Loss Test: 0.46167510747909546\n"
     ]
    },
    {
     "name": "stderr",
     "output_type": "stream",
     "text": [
      "100%|██████████| 59/59 [00:03<00:00, 15.79it/s]\n"
     ]
    },
    {
     "name": "stdout",
     "output_type": "stream",
     "text": [
      "Epoch 30 - Loss: 0.6471794247627258 - Loss Test: 0.590126097202301\n"
     ]
    },
    {
     "name": "stderr",
     "output_type": "stream",
     "text": [
      "100%|██████████| 59/59 [00:03<00:00, 15.25it/s]\n"
     ]
    },
    {
     "name": "stdout",
     "output_type": "stream",
     "text": [
      "Epoch 31 - Loss: 0.573672354221344 - Loss Test: 0.5962269306182861\n"
     ]
    },
    {
     "name": "stderr",
     "output_type": "stream",
     "text": [
      "100%|██████████| 59/59 [00:03<00:00, 15.82it/s]\n"
     ]
    },
    {
     "name": "stdout",
     "output_type": "stream",
     "text": [
      "Epoch 32 - Loss: 0.37204840779304504 - Loss Test: 0.49172118306159973\n"
     ]
    },
    {
     "name": "stderr",
     "output_type": "stream",
     "text": [
      "100%|██████████| 59/59 [00:03<00:00, 15.77it/s]\n"
     ]
    },
    {
     "name": "stdout",
     "output_type": "stream",
     "text": [
      "Epoch 33 - Loss: 0.403476357460022 - Loss Test: 0.5186152458190918\n"
     ]
    },
    {
     "name": "stderr",
     "output_type": "stream",
     "text": [
      "100%|██████████| 59/59 [00:03<00:00, 16.61it/s]\n"
     ]
    },
    {
     "name": "stdout",
     "output_type": "stream",
     "text": [
      "Epoch 34 - Loss: 0.40472766757011414 - Loss Test: 0.5362159609794617\n"
     ]
    },
    {
     "name": "stderr",
     "output_type": "stream",
     "text": [
      "100%|██████████| 59/59 [00:04<00:00, 14.74it/s]\n"
     ]
    },
    {
     "name": "stdout",
     "output_type": "stream",
     "text": [
      "Epoch 35 - Loss: 0.3685842454433441 - Loss Test: 0.4781327545642853\n"
     ]
    },
    {
     "name": "stderr",
     "output_type": "stream",
     "text": [
      "100%|██████████| 59/59 [00:03<00:00, 15.53it/s]\n"
     ]
    },
    {
     "name": "stdout",
     "output_type": "stream",
     "text": [
      "Epoch 36 - Loss: 0.3527649939060211 - Loss Test: 0.49804529547691345\n"
     ]
    },
    {
     "name": "stderr",
     "output_type": "stream",
     "text": [
      "100%|██████████| 59/59 [00:03<00:00, 15.24it/s]\n"
     ]
    },
    {
     "name": "stdout",
     "output_type": "stream",
     "text": [
      "Epoch 37 - Loss: 0.2898022532463074 - Loss Test: 0.5175190567970276\n"
     ]
    },
    {
     "name": "stderr",
     "output_type": "stream",
     "text": [
      "100%|██████████| 59/59 [00:03<00:00, 16.25it/s]\n"
     ]
    },
    {
     "name": "stdout",
     "output_type": "stream",
     "text": [
      "Epoch 38 - Loss: 0.29898619651794434 - Loss Test: 0.4717637002468109\n"
     ]
    },
    {
     "name": "stderr",
     "output_type": "stream",
     "text": [
      "100%|██████████| 59/59 [00:04<00:00, 14.16it/s]\n"
     ]
    },
    {
     "name": "stdout",
     "output_type": "stream",
     "text": [
      "Epoch 39 - Loss: 0.2876063883304596 - Loss Test: 0.44416916370391846\n"
     ]
    },
    {
     "name": "stderr",
     "output_type": "stream",
     "text": [
      "100%|██████████| 59/59 [00:03<00:00, 16.91it/s]\n"
     ]
    },
    {
     "name": "stdout",
     "output_type": "stream",
     "text": [
      "Epoch 40 - Loss: 0.277153342962265 - Loss Test: 0.40587902069091797\n"
     ]
    },
    {
     "name": "stderr",
     "output_type": "stream",
     "text": [
      "100%|██████████| 59/59 [00:03<00:00, 15.74it/s]\n"
     ]
    },
    {
     "name": "stdout",
     "output_type": "stream",
     "text": [
      "Epoch 41 - Loss: 0.4344143569469452 - Loss Test: 0.4649496376514435\n"
     ]
    },
    {
     "name": "stderr",
     "output_type": "stream",
     "text": [
      "100%|██████████| 59/59 [00:03<00:00, 15.09it/s]\n"
     ]
    },
    {
     "name": "stdout",
     "output_type": "stream",
     "text": [
      "Epoch 42 - Loss: 0.26773881912231445 - Loss Test: 0.4336700141429901\n"
     ]
    },
    {
     "name": "stderr",
     "output_type": "stream",
     "text": [
      "100%|██████████| 59/59 [00:03<00:00, 15.93it/s]\n"
     ]
    },
    {
     "name": "stdout",
     "output_type": "stream",
     "text": [
      "Epoch 43 - Loss: 0.29438477754592896 - Loss Test: 0.39626044034957886\n"
     ]
    },
    {
     "name": "stderr",
     "output_type": "stream",
     "text": [
      "100%|██████████| 59/59 [00:03<00:00, 15.83it/s]\n"
     ]
    },
    {
     "name": "stdout",
     "output_type": "stream",
     "text": [
      "Epoch 44 - Loss: 0.30675095319747925 - Loss Test: 0.39833346009254456\n"
     ]
    },
    {
     "name": "stderr",
     "output_type": "stream",
     "text": [
      "100%|██████████| 59/59 [00:03<00:00, 16.26it/s]\n"
     ]
    },
    {
     "name": "stdout",
     "output_type": "stream",
     "text": [
      "Epoch 45 - Loss: 0.2620416581630707 - Loss Test: 0.34518203139305115\n"
     ]
    },
    {
     "name": "stderr",
     "output_type": "stream",
     "text": [
      "100%|██████████| 59/59 [00:03<00:00, 14.95it/s]\n"
     ]
    },
    {
     "name": "stdout",
     "output_type": "stream",
     "text": [
      "Epoch 46 - Loss: 0.3067367672920227 - Loss Test: 0.40876007080078125\n"
     ]
    },
    {
     "name": "stderr",
     "output_type": "stream",
     "text": [
      "100%|██████████| 59/59 [00:03<00:00, 15.68it/s]\n"
     ]
    },
    {
     "name": "stdout",
     "output_type": "stream",
     "text": [
      "Epoch 47 - Loss: 0.2626704275608063 - Loss Test: 0.35981279611587524\n"
     ]
    },
    {
     "name": "stderr",
     "output_type": "stream",
     "text": [
      "100%|██████████| 59/59 [00:03<00:00, 16.29it/s]\n"
     ]
    },
    {
     "name": "stdout",
     "output_type": "stream",
     "text": [
      "Epoch 48 - Loss: 0.28962650895118713 - Loss Test: 0.3386096656322479\n"
     ]
    },
    {
     "name": "stderr",
     "output_type": "stream",
     "text": [
      "100%|██████████| 59/59 [00:03<00:00, 16.60it/s]\n"
     ]
    },
    {
     "name": "stdout",
     "output_type": "stream",
     "text": [
      "Epoch 49 - Loss: 0.32232609391212463 - Loss Test: 0.3929191529750824\n"
>>>>>>> 504dcc1eeeb0c76debc584415f1dca14a335593e
     ]
    }
   ],
   "source": [
    "from tqdm import tqdm\n",
    "losses = []\n",
    "losses_test = []\n",
    "\n",
    "losses_test.append(evaluate(agent))\n",
    "print(f\" Loss Test: {losses_test[-1]}\")\n",
    "\n",
    "\n",
    "for epc in range(epochs):\n",
    "    agent.train()\n",
    "    for i in tqdm(range(0, len(states), batch_size)):\n",
    "        batch_states = states[i:i+batch_size]\n",
    "        batch_states_white = states_white[i:i+batch_size]\n",
    "        batch_label = labels[i:i+batch_size]\n",
    "         \n",
    "        output = agent.actor_mean(batch_states, batch_states_white)\n",
    "        output = output[:,0]\n",
    "        batch_label = batch_label[:,0]\n",
    "        loss_value = loss(output, batch_label)\n",
    "        \n",
    "        \n",
    "        optimizer.zero_grad()\n",
    "        loss_value.backward()\n",
    "        optimizer.step()\n",
    "\n",
    "        losses.append(loss_value.item())\n",
    "    \n",
    "    losses_test.append(evaluate(agent))\n",
    "    print(f\"Epoch {epc} - Loss: {losses[-1]} - Loss Test: {losses_test[-1]}\")"
   ]
  },
  {
   "cell_type": "code",
   "execution_count": 18,
   "metadata": {},
   "outputs": [
    {
     "data": {
      "text/plain": [
       "torch.Size([1, 64])"
      ]
     },
     "execution_count": 18,
     "metadata": {},
     "output_type": "execute_result"
    }
   ],
   "source": [
    "x = states[0].unsqueeze(0)\n",
    "bola_branca = states_white[0].unsqueeze(0)\n",
    "b = x.shape[0]\n",
    "        \n",
    "t_concat = torch.zeros(b,2, device=bola_branca.device)\n",
    "t_concat[:,0] = 1\n",
    "t_concat[:,1] = -1\n",
    "\n",
    "bola_branca = torch.concat( (bola_branca , t_concat), dim=-1).unsqueeze(1)\n",
    "x = torch.concat((bola_branca,x),dim=1)\n",
    "\n",
    "# [b, 16, 4]\n",
    "x = x.view(b,-1)\n",
    "x.shape"
   ]
  },
  {
   "cell_type": "code",
<<<<<<< HEAD
   "execution_count": 9,
=======
   "execution_count": 21,
>>>>>>> 504dcc1eeeb0c76debc584415f1dca14a335593e
   "metadata": {},
   "outputs": [
    {
     "data": {
      "text/plain": [
<<<<<<< HEAD
       "[<matplotlib.lines.Line2D at 0x1a97afcb710>]"
      ]
     },
     "execution_count": 9,
=======
       "[<matplotlib.lines.Line2D at 0x334ad4ec0>]"
      ]
     },
     "execution_count": 21,
>>>>>>> 504dcc1eeeb0c76debc584415f1dca14a335593e
     "metadata": {},
     "output_type": "execute_result"
    },
    {
     "data": {
<<<<<<< HEAD
      "image/png": "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",
=======
      "image/png": "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",
>>>>>>> 504dcc1eeeb0c76debc584415f1dca14a335593e
      "text/plain": [
       "<Figure size 640x480 with 1 Axes>"
      ]
     },
     "metadata": {},
     "output_type": "display_data"
    }
   ],
   "source": [
    "import matplotlib.pyplot as plt \n",
    "\n",
    "plt.plot(losses)"
   ]
  },
  {
   "cell_type": "code",
<<<<<<< HEAD
   "execution_count": 10,
=======
   "execution_count": 26,
>>>>>>> 504dcc1eeeb0c76debc584415f1dca14a335593e
   "metadata": {},
   "outputs": [],
   "source": [
    "# save model\n",
    "torch.save(agent.state_dict(), 'agent_big3.pth')"
   ]
  },
  {
   "cell_type": "code",
   "execution_count": null,
   "metadata": {},
   "outputs": [],
   "source": []
  },
  {
   "cell_type": "code",
   "execution_count": null,
   "metadata": {},
   "outputs": [],
   "source": []
  },
  {
   "cell_type": "code",
   "execution_count": null,
   "metadata": {},
   "outputs": [],
   "source": []
  },
  {
   "cell_type": "code",
   "execution_count": null,
   "metadata": {},
   "outputs": [],
   "source": []
  }
 ],
 "metadata": {
  "kernelspec": {
   "display_name": ".venv",
   "language": "python",
   "name": "python3"
  },
  "language_info": {
   "codemirror_mode": {
    "name": "ipython",
    "version": 3
   },
   "file_extension": ".py",
   "mimetype": "text/x-python",
   "name": "python",
   "nbconvert_exporter": "python",
   "pygments_lexer": "ipython3",
   "version": "3.11.9"
  }
 },
 "nbformat": 4,
 "nbformat_minor": 2
}
