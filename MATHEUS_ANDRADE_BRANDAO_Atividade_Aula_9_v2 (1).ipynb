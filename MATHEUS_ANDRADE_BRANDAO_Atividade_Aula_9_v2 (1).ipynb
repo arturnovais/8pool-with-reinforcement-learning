{
  "cells": [
    {
      "cell_type": "markdown",
      "source": [
        "Nomes no Grupo:"
      ],
      "metadata": {
        "id": "Te8XG1Hzl77m"
      }
    },
    {
      "cell_type": "code",
      "execution_count": null,
      "metadata": {
        "id": "X-BQSMjjrt7r"
      },
      "outputs": [],
      "source": [
        "!pip install swig\n",
        "!pip install gymnasium[box2d]\n",
        "!pip install stable-baselines3==2.0"
      ]
    },
    {
      "cell_type": "code",
      "execution_count": null,
      "metadata": {
        "id": "7_GmjTd0xA-n"
      },
      "outputs": [],
      "source": [
        "# docs and experiment results can be found at https://docs.cleanrl.dev/rl-algorithms/ppo/#ppopy\n",
        "import os\n",
        "import random\n",
        "import time\n",
        "from dataclasses import dataclass\n",
        "from collections import defaultdict\n",
        "import plotly.express as px\n",
        "import gymnasium as gym\n",
        "import numpy as np\n",
        "import torch\n",
        "import torch.nn as nn\n",
        "import torch.optim as optim\n",
        "from torch.distributions.categorical import Categorical\n",
        "from torch.utils.tensorboard import SummaryWriter"
      ]
    },
    {
      "cell_type": "code",
      "source": [
        "from IPython.display import HTML\n",
        "from base64 import b64encode\n",
        "\n",
        "def display_video(file_name):\n",
        "  mp4 = open(file_name,'rb').read()\n",
        "  data_url = \"data:video/mp4;base64,\" + b64encode(mp4).decode()\n",
        "  return HTML(\"\"\"\n",
        "  <video width=400 controls>\n",
        "        <source src=\"%s\" type=\"video/mp4\">\n",
        "  </video>\n",
        "  \"\"\" % data_url)"
      ],
      "metadata": {
        "id": "E3CCVMSCYsrE"
      },
      "execution_count": null,
      "outputs": []
    },
    {
      "cell_type": "markdown",
      "metadata": {
        "id": "hOmUjEOL8xw8"
      },
      "source": [
        "Hiperparâmetros e configurações"
      ]
    },
    {
      "cell_type": "code",
      "source": [
        "from datetime import datetime\n",
        "\n",
        "\n",
        "@dataclass\n",
        "class Args:\n",
        "    exp_name: str = \"PPO\"\n",
        "    \"\"\"the name of this experiment\"\"\"\n",
        "    seed: int = 1\n",
        "    \"\"\"seed of the experiment\"\"\"\n",
        "    torch_deterministic: bool = True\n",
        "    \"\"\"if toggled, `torch.backends.cudnn.deterministic=False`\"\"\"\n",
        "    cuda: bool = torch.cuda.is_available()\n",
        "    \"\"\"if toggled, cuda will be enabled by default\"\"\"\n",
        "    capture_video: bool = False\n",
        "    \"\"\"whether to capture videos of the agent performances (check out `videos` folder)\"\"\"\n",
        "    save_model: bool = True\n",
        "    \"\"\"whether to save the final model\"\"\"\n",
        "\n",
        "    # Algorithm specific arguments\n",
        "    env_id: str = \"CartPole-v1\"\n",
        "    \"\"\"the id of the environment\"\"\"\n",
        "    total_timesteps: int = 500000\n",
        "    \"\"\"total timesteps of the experiments\"\"\"\n",
        "    learning_rate: float = 2.5e-4\n",
        "    \"\"\"the learning rate of the optimizer\"\"\"\n",
        "    num_envs: int = 4\n",
        "    \"\"\"the number of parallel game environments\"\"\"\n",
        "    num_steps: int = 128\n",
        "    \"\"\"the number of steps to run in each environment per policy rollout\"\"\"\n",
        "    anneal_lr: bool = True\n",
        "    \"\"\"Toggle learning rate annealing for policy and value networks\"\"\"\n",
        "    gamma: float = 0.99\n",
        "    \"\"\"the discount factor gamma\"\"\"\n",
        "    gae_lambda: float = 0.95\n",
        "    \"\"\"the lambda for the general advantage estimation\"\"\"\n",
        "    num_minibatches: int = 4\n",
        "    \"\"\"the number of mini-batches\"\"\"\n",
        "    update_epochs: int = 4\n",
        "    \"\"\"the K epochs to update the policy\"\"\"\n",
        "    norm_adv: bool = True\n",
        "    \"\"\"Toggles advantages normalization\"\"\"\n",
        "    clip_coef: float = 0.2\n",
        "    \"\"\"the surrogate clipping coefficient\"\"\"\n",
        "    clip_vloss: bool = True\n",
        "    \"\"\"Toggles whether or not to use a clipped loss for the value function, as per the paper.\"\"\"\n",
        "    ent_coef: float = 0.01\n",
        "    \"\"\"coefficient of the entropy\"\"\"\n",
        "    vf_coef: float = 0.5\n",
        "    \"\"\"coefficient of the value function\"\"\"\n",
        "    max_grad_norm: float = 0.5\n",
        "    \"\"\"the maximum norm for the gradient clipping\"\"\"\n",
        "    target_kl: float = None\n",
        "    \"\"\"the target KL divergence threshold\"\"\"\n",
        "\n",
        "    # to be filled in runtime\n",
        "    batch_size: int = 0\n",
        "    \"\"\"the batch size (computed in runtime)\"\"\"\n",
        "    minibatch_size: int = 0\n",
        "    \"\"\"the mini-batch size (computed in runtime)\"\"\"\n",
        "    num_iterations: int = 0\n",
        "    \"\"\"the number of iterations (computed in runtime)\"\"\"\n",
        "\n",
        "\n",
        "def make_env(env_id, idx, capture_video, run_name):\n",
        "    def thunk():\n",
        "        if capture_video and idx == 0:\n",
        "            env = gym.make(env_id, render_mode=\"rgb_array\")\n",
        "            env = gym.wrappers.RecordVideo(env, f\"runs/{run_name}/videos\")\n",
        "        else:\n",
        "            env = gym.make(env_id)\n",
        "        env = gym.wrappers.RecordEpisodeStatistics(env)\n",
        "        return env\n",
        "\n",
        "    return thunk"
      ],
      "metadata": {
        "id": "a3fYdH4bZGwE"
      },
      "execution_count": null,
      "outputs": []
    },
    {
      "cell_type": "markdown",
      "source": [
        "# Questão 01:\n",
        "\n",
        "Na célula abaixo temos o código do agente com as redes a serem treinadas. Explique o que é a política nesta classe, e como é feita a escolha de ações."
      ],
      "metadata": {
        "id": "d_UEv4FNav2n"
      }
    },
    {
      "cell_type": "code",
      "source": [
        "def layer_init(layer, std=np.sqrt(2), bias_const=0.0):\n",
        "    torch.nn.init.orthogonal_(layer.weight, std)\n",
        "    torch.nn.init.constant_(layer.bias, bias_const)\n",
        "    return layer\n",
        "\n",
        "\n",
        "class Agent(nn.Module):\n",
        "    def __init__(self, envs):\n",
        "        super().__init__()\n",
        "        self.critic = nn.Sequential(\n",
        "            layer_init(nn.Linear(np.array(envs.single_observation_space.shape).prod(), 64)),\n",
        "            nn.Tanh(),\n",
        "            layer_init(nn.Linear(64, 64)),\n",
        "            nn.Tanh(),\n",
        "            layer_init(nn.Linear(64, 1), std=1.0),\n",
        "        )\n",
        "        self.actor = nn.Sequential(\n",
        "            layer_init(nn.Linear(np.array(envs.single_observation_space.shape).prod(), 64)),\n",
        "            nn.Tanh(),\n",
        "            layer_init(nn.Linear(64, 64)),\n",
        "            nn.Tanh(),\n",
        "            layer_init(nn.Linear(64, envs.single_action_space.n), std=0.01),\n",
        "        )\n",
        "\n",
        "    def get_value(self, x):\n",
        "        return self.critic(x)\n",
        "\n",
        "    def get_action_and_value(self, x, action=None):\n",
        "        logits = self.actor(x)\n",
        "        probs = Categorical(logits=logits)\n",
        "        if action is None:\n",
        "            action = probs.sample()\n",
        "        return action, probs.log_prob(action), probs.entropy(), self.critic(x)"
      ],
      "metadata": {
        "id": "x4wkhnSqa09_"
      },
      "execution_count": null,
      "outputs": []
    },
    {
      "cell_type": "markdown",
      "source": [
        "Resposta:"
      ],
      "metadata": {
        "id": "enA6ryaYa7kU"
      }
    },
    {
      "cell_type": "markdown",
      "source": [
        "# Questão 02\n",
        "\n",
        "A célula abaixo contém a lógica do PPO. Nela há cinco erros **lógicos** na implementação do algoritmo (não de sintaxe). Encontre os erros, corrija-os, e explique em comentários no código quais eram os erros e sua correção.\n",
        "\n",
        "Os erros encontram-se apenas na região delimitada por:\n",
        "\n",
        "    # --------------------------------------------------------------------------------\n",
        "\n",
        "    # --------------------------------------------------------------------------------\n"
      ],
      "metadata": {
        "id": "Dtc2PK5qbCZd"
      }
    },
    {
      "cell_type": "code",
      "source": [
        "from tqdm import tqdm\n",
        "\n",
        "\n",
        "def run(args: Args):\n",
        "    metrics = defaultdict(list)\n",
        "    args.batch_size = int(args.num_envs * args.num_steps)\n",
        "    args.minibatch_size = int(args.batch_size // args.num_minibatches)\n",
        "    args.num_iterations = args.total_timesteps // args.batch_size\n",
        "    args.run_name = f\"{args.env_id}__{args.exp_name}__{args.seed}__{int(time.time())}\"\n",
        "\n",
        "    writer = SummaryWriter(f\"runs/{args.run_name}\")\n",
        "    writer.add_text(\n",
        "        \"hyperparameters\",\n",
        "        \"|param|value|\\n|-|-|\\n%s\" % (\"\\n\".join([f\"|{key}|{value}|\" for key, value in vars(args).items()])),\n",
        "    )\n",
        "\n",
        "    # seeding\n",
        "    random.seed(args.seed)\n",
        "    np.random.seed(args.seed)\n",
        "    torch.manual_seed(args.seed)\n",
        "    torch.backends.cudnn.deterministic = args.torch_deterministic\n",
        "\n",
        "    device = torch.device(\"cuda\" if torch.cuda.is_available() and args.cuda else \"cpu\")\n",
        "\n",
        "    # env setup\n",
        "    envs = gym.vector.SyncVectorEnv(\n",
        "        [make_env(args.env_id, i, args.capture_video, args.run_name) for i in range(args.num_envs)],\n",
        "    )\n",
        "    assert isinstance(envs.single_action_space, gym.spaces.Discrete), \"only discrete action space is supported\"\n",
        "\n",
        "    agent = Agent(envs).to(device)\n",
        "    optimizer = optim.Adam(agent.parameters(), lr=args.learning_rate, eps=1e-5)\n",
        "\n",
        "    # ALGO Logic: Storage setup\n",
        "    obs = torch.zeros((args.num_steps, args.num_envs) + envs.single_observation_space.shape).to(device)\n",
        "    actions = torch.zeros((args.num_steps, args.num_envs) + envs.single_action_space.shape).to(device)\n",
        "    logprobs = torch.zeros((args.num_steps, args.num_envs)).to(device)\n",
        "    rewards = torch.zeros((args.num_steps, args.num_envs)).to(device)\n",
        "    dones = torch.zeros((args.num_steps, args.num_envs)).to(device)\n",
        "    values = torch.zeros((args.num_steps, args.num_envs)).to(device)\n",
        "\n",
        "    # start the game\n",
        "    global_step = 0\n",
        "    start_time = time.time()\n",
        "    next_obs, _ = envs.reset(seed=args.seed)\n",
        "    next_obs = torch.Tensor(next_obs).to(device)\n",
        "    next_done = torch.zeros(args.num_envs).to(device)\n",
        "\n",
        "    # --------------------------------------------------------------------------------\n",
        "\n",
        "    pbar = tqdm(range(1, args.num_iterations + 1), desc=\"Iterations\")\n",
        "    for iteration in pbar:\n",
        "        # annealing the rate if instructed to do so.\n",
        "        if args.anneal_lr:\n",
        "            frac = 1.0 - (iteration - 1.0) / args.num_iterations\n",
        "            lrnow = frac * args.learning_rate\n",
        "            optimizer.param_groups[0][\"lr\"] = lrnow\n",
        "\n",
        "        for step in range(0, args.num_steps):\n",
        "            global_step += args.num_envs\n",
        "            obs[step] = next_obs\n",
        "            dones[step] = next_done\n",
        "\n",
        "            # action logic\n",
        "            with torch.no_grad():\n",
        "                action, logprob, _, value = agent.get_action_and_value(next_obs)\n",
        "                values[step] = value.flatten()\n",
        "            actions[step] = action\n",
        "            logprobs[step] = logprob\n",
        "\n",
        "            # execute the game and log data.\n",
        "            next_obs, reward, terminations, truncations, infos = envs.step(action.cpu().numpy())\n",
        "            next_done = np.logical_or(terminations, truncations)\n",
        "            rewards[step] = torch.tensor(reward).to(device).view(-1)\n",
        "            next_obs, next_done = torch.Tensor(next_obs).to(device), torch.Tensor(next_done).to(device)\n",
        "\n",
        "            if \"final_info\" in infos:\n",
        "                for info in infos[\"final_info\"]:\n",
        "                    if info and \"episode\" in info:\n",
        "                        writer.add_scalar(\"charts/episodic_return\", info[\"episode\"][\"r\"], global_step)\n",
        "                        writer.add_scalar(\"charts/episodic_length\", info[\"episode\"][\"l\"], global_step)\n",
        "                        metrics[\"charts/episodic_return\"].append(info[\"episode\"][\"r\"])\n",
        "                        metrics[\"charts/episodic_length\"].append(info[\"episode\"][\"l\"])\n",
        "\n",
        "                        pbar.set_postfix_str(f\"step={global_step}, return={info['episode']['r']}\")\n",
        "\n",
        "        with torch.no_grad():\n",
        "            # bootstrap value if not done\n",
        "            next_value = agent.get_value(next_obs).reshape(1, -1)\n",
        "            advantages = torch.zeros_like(rewards).to(device)\n",
        "            lastgaelam = 0\n",
        "\n",
        "            # Calculate returns and advantages using GAE\n",
        "            for t in reversed(range(args.num_steps)):\n",
        "                if t == args.num_steps - 1:\n",
        "                    nextnonterminal = 1.0 - next_done\n",
        "                    nextvalues = next_value\n",
        "                else:\n",
        "                    nextnonterminal = 1.0 - dones[t + 1]\n",
        "                    nextvalues = values[t + 1]\n",
        "                delta = rewards[t] + args.gamma * nextvalues * nextnonterminal - values[t]\n",
        "                advantages[t] = lastgaelam = delta + args.gamma * args.gae_lambda * lastgaelam\n",
        "            returns = advantages + values\n",
        "\n",
        "        # flatten the batch\n",
        "        b_obs = obs.reshape((-1,) + envs.single_observation_space.shape)\n",
        "        b_logprobs = logprobs.reshape(-1)\n",
        "        b_actions = actions.reshape((-1,) + envs.single_action_space.shape)\n",
        "        b_advantages = advantages.reshape(-1)\n",
        "        b_returns = returns.reshape(-1)\n",
        "        b_values = values.reshape(-1)\n",
        "\n",
        "        # Optimizing the policy and value network\n",
        "        b_inds = np.arange(args.batch_size)\n",
        "        clipfracs = []\n",
        "        for epoch in range(args.update_epochs):\n",
        "            np.random.shuffle(b_inds)\n",
        "            for start in range(0, args.batch_size, args.minibatch_size):\n",
        "                end = start + args.minibatch_size\n",
        "                mb_inds = b_inds[start:end]\n",
        "\n",
        "                _, newlogprob, entropy, newvalue = agent.get_action_and_value(b_obs[mb_inds], b_actions.long()[mb_inds])\n",
        "                logratio = b_logprobs[mb_inds] - newlogprob\n",
        "                ratio = logratio.exp()\n",
        "\n",
        "                with torch.no_grad():\n",
        "                    # calculate approx_kl http://joschu.net/blog/kl-approx.html\n",
        "                    old_approx_kl = (-logratio).mean()\n",
        "                    approx_kl = ((ratio - 1) - logratio).mean()\n",
        "                    clipfracs += [((ratio - 1.0).abs() > args.clip_coef).float().mean().item()]\n",
        "\n",
        "                mb_advantages = b_advantages[mb_inds]\n",
        "                if args.norm_adv:\n",
        "                    mb_advantages = (mb_advantages - mb_advantages.mean()) / (mb_advantages.std() + 1e-8)\n",
        "\n",
        "                # Policy loss\n",
        "                pg_loss1 = mb_advantages * ratio\n",
        "                pg_loss2 = mb_advantages * torch.clamp(ratio, 1 - args.clip_coef, 1 + args.clip_coef)\n",
        "                pg_loss = torch.min(pg_loss1, pg_loss2).mean()\n",
        "\n",
        "                # Value loss\n",
        "                newvalue = newvalue.view(-1)\n",
        "                if args.clip_vloss:\n",
        "                    v_loss_unclipped = (newvalue - b_returns[mb_inds]) ** 2\n",
        "                    v_clipped = b_values[mb_inds] + torch.clamp(\n",
        "                        newvalue - b_values[mb_inds],\n",
        "                        -args.clip_coef,\n",
        "                        args.clip_coef,\n",
        "                    )\n",
        "                    v_loss_clipped = (v_clipped - b_returns[mb_inds]) ** 2\n",
        "                    v_loss_max = torch.max(v_loss_unclipped, v_loss_clipped)\n",
        "                    v_loss = 0.5 * v_loss_max.mean()\n",
        "                else:\n",
        "                    v_loss = 0.5 * ((newvalue - b_returns[mb_inds]) ** 2).mean()\n",
        "\n",
        "                # Entropy Loss\n",
        "                entropy_loss = entropy.mean()\n",
        "                loss = pg_loss + args.ent_coef * entropy_loss + v_loss * args.vf_coef\n",
        "\n",
        "                optimizer.zero_grad()\n",
        "                loss.backward()\n",
        "                nn.utils.clip_grad_norm_(agent.parameters(), args.max_grad_norm)\n",
        "                optimizer.step()\n",
        "\n",
        "            if args.target_kl is not None and approx_kl > args.target_kl:\n",
        "                break\n",
        "\n",
        "        y_pred, y_true = b_values.cpu().numpy(), b_returns.cpu().numpy()\n",
        "        var_y = np.var(y_true)\n",
        "        explained_var = np.nan if var_y == 0 else 1 - np.var(y_true - y_pred) / var_y\n",
        "\n",
        "        # TRY NOT TO MODIFY: record rewards for plotting purposes\n",
        "        writer.add_scalar(\"charts/learning_rate\", optimizer.param_groups[0][\"lr\"], global_step)\n",
        "        writer.add_scalar(\"losses/value_loss\", v_loss.item(), global_step)\n",
        "        writer.add_scalar(\"losses/policy_loss\", pg_loss.item(), global_step)\n",
        "        writer.add_scalar(\"losses/entropy\", entropy_loss.item(), global_step)\n",
        "        writer.add_scalar(\"losses/old_approx_kl\", old_approx_kl.item(), global_step)\n",
        "        writer.add_scalar(\"losses/approx_kl\", approx_kl.item(), global_step)\n",
        "        writer.add_scalar(\"losses/clipfrac\", np.mean(clipfracs), global_step)\n",
        "        writer.add_scalar(\"losses/explained_variance\", explained_var, global_step)\n",
        "        writer.add_scalar(\"charts/SPS\", int(global_step / (time.time() - start_time)), global_step)\n",
        "        metrics[\"losses/value_loss\"].append(v_loss.item())\n",
        "        metrics[\"losses/policy_loss\"].append(pg_loss.item())\n",
        "        metrics[\"losses/entropy\"].append(entropy_loss.item())\n",
        "        metrics[\"losses/SPS\"].append(int(global_step / (time.time() - start_time)))\n",
        "\n",
        "\n",
        "    # --------------------------------------------------------------------------------\n",
        "\n",
        "    if args.save_model:\n",
        "        model_path = f\"runs/{args.run_name}/{args.exp_name}_model\"\n",
        "        torch.save(agent.state_dict(), model_path)\n",
        "\n",
        "    envs.close()\n",
        "    writer.close()\n",
        "\n",
        "    # final evaluation\n",
        "    eval_episodes = 3\n",
        "    envs = gym.vector.SyncVectorEnv([make_env(args.env_id, 0, True, args.run_name)])\n",
        "    agent.eval()\n",
        "    obs, _ = envs.reset()\n",
        "    episodic_returns = []\n",
        "    while len(episodic_returns) < eval_episodes:\n",
        "        action, logprob, entropy, value = agent.get_action_and_value(torch.Tensor(obs).to(device))\n",
        "        action = action.cpu().numpy()\n",
        "        next_obs, _, _, _, infos = envs.step(action)\n",
        "        obs = next_obs\n",
        "        if \"final_info\" in infos:\n",
        "            for info in infos[\"final_info\"]:\n",
        "                if \"episode\" not in info:\n",
        "                    continue\n",
        "                print(f\"eval_episode={len(episodic_returns)}, episodic_return={info['episode']['r']}\")\n",
        "                episodic_returns += [info[\"episode\"][\"r\"]]\n",
        "    return metrics"
      ],
      "metadata": {
        "id": "8pW4Zmb_bS4-"
      },
      "execution_count": null,
      "outputs": []
    },
    {
      "cell_type": "code",
      "source": [
        "# o treinamento deve funcionar com esses hiperparâmetros:\n",
        "args = Args(\n",
        "    env_id = \"CartPole-v1\",\n",
        "    total_timesteps = 100000,\n",
        "    learning_rate= 0.02,\n",
        "    num_envs=8,\n",
        "    num_steps=64,\n",
        "    update_epochs=8,\n",
        "    clip_coef=0.4,\n",
        "    vf_coef=0.5,\n",
        "    ent_coef=0.01,\n",
        "    gamma=0.99,\n",
        "    gae_lambda=0.95\n",
        ")\n",
        "\n",
        "metrics = run(args)\n",
        "display_video(f\"/content/runs/{args.run_name}/videos/rl-video-episode-0.mp4\")"
      ],
      "metadata": {
        "id": "ywe7727HcWXy"
      },
      "execution_count": null,
      "outputs": []
    },
    {
      "cell_type": "markdown",
      "source": [
        "# Questão 03\n",
        "\n",
        "Analise os gráficos abaixo de retorno, perda da função de valor, perda da política, e entropia e discorra sobre seus comportamentos justificando-os. Por exemplo, o gráfico teve quedas e subidas notáveis? O que elas indicam? O gráfico se manteve no mesmo valor de forma estável/instável? Por que ele teve este formato?"
      ],
      "metadata": {
        "id": "ldCFPWoSfho_"
      }
    },
    {
      "cell_type": "code",
      "execution_count": null,
      "metadata": {
        "id": "H613mdTTDcie"
      },
      "outputs": [],
      "source": [
        "px.line(metrics[\"charts/episodic_return\"])"
      ]
    },
    {
      "cell_type": "code",
      "execution_count": null,
      "metadata": {
        "id": "fAWi2DMoDdpz"
      },
      "outputs": [],
      "source": [
        "px.line(metrics[\"losses/value_loss\"])"
      ]
    },
    {
      "cell_type": "code",
      "execution_count": null,
      "metadata": {
        "id": "PBMdnGPd9cnp"
      },
      "outputs": [],
      "source": [
        "px.line(metrics[\"losses/policy_loss\"])"
      ]
    },
    {
      "cell_type": "code",
      "source": [
        "px.line(metrics[\"losses/entropy\"])"
      ],
      "metadata": {
        "id": "edANbLlDfvYP"
      },
      "execution_count": null,
      "outputs": []
    },
    {
      "cell_type": "markdown",
      "source": [],
      "metadata": {
        "id": "gp22jDocjX-_"
      }
    },
    {
      "cell_type": "markdown",
      "source": [
        "# Questão 04:\n",
        "\n",
        "Execute o código novamente, agora para o LunarLander-v2. Tente fazer o agente aprender o ambiente, sinta-se livre para alterar os hiperparâmetros. Em seguida, explique as alterações feitas."
      ],
      "metadata": {
        "id": "btvDKDcNiGDA"
      }
    },
    {
      "cell_type": "code",
      "source": [
        "args = Args(\n",
        "    env_id = \"LunarLander-v2\",\n",
        "    total_timesteps=500000,\n",
        "    learning_rate= 0.02,\n",
        "    num_envs=8,\n",
        "    num_steps=64,\n",
        "    update_epochs=8,\n",
        "    clip_coef=0.4,\n",
        "    vf_coef=0.5,\n",
        "    ent_coef=0.01,\n",
        "    gamma=0.99,\n",
        "    gae_lambda=0.95\n",
        ")\n",
        "\n",
        "metrics = run(args)\n",
        "display_video(f\"/content/runs/{args.run_name}/videos/rl-video-episode-0.mp4\")"
      ],
      "metadata": {
        "id": "Aw_zd7-ciJEz"
      },
      "execution_count": null,
      "outputs": []
    },
    {
      "cell_type": "code",
      "source": [
        "px.line(metrics[\"charts/episodic_return\"])"
      ],
      "metadata": {
        "id": "Ap351iyhp3NV"
      },
      "execution_count": null,
      "outputs": []
    },
    {
      "cell_type": "code",
      "source": [
        "px.line(metrics[\"losses/value_loss\"])"
      ],
      "metadata": {
        "id": "J8NC51Qlix2b"
      },
      "execution_count": null,
      "outputs": []
    },
    {
      "cell_type": "code",
      "source": [
        "px.line(metrics[\"losses/policy_loss\"])"
      ],
      "metadata": {
        "id": "rxbWnVuIizlO"
      },
      "execution_count": null,
      "outputs": []
    },
    {
      "cell_type": "markdown",
      "source": [],
      "metadata": {
        "id": "LBHr1dgZji2y"
      }
    }
  ],
  "metadata": {
    "colab": {
      "provenance": [],
      "toc_visible": true
    },
    "gpuClass": "standard",
    "kernelspec": {
      "display_name": "Python 3 (ipykernel)",
      "language": "python",
      "name": "python3"
    },
    "language_info": {
      "codemirror_mode": {
        "name": "ipython",
        "version": 3
      },
      "file_extension": ".py",
      "mimetype": "text/x-python",
      "name": "python",
      "nbconvert_exporter": "python",
      "pygments_lexer": "ipython3",
      "version": "3.7.15"
    }
  },
  "nbformat": 4,
  "nbformat_minor": 0
}